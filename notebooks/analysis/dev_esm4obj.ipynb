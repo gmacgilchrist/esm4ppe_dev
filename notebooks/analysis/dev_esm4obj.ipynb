{
 "cells": [
  {
   "cell_type": "code",
   "execution_count": 1,
   "id": "169c0b08-e2bf-4dc2-aa75-8a6c4b40354b",
   "metadata": {},
   "outputs": [],
   "source": [
    "%load_ext autoreload\n",
    "%autoreload 2"
   ]
  },
  {
   "cell_type": "code",
   "execution_count": 2,
   "id": "2eb438b4-68de-41e5-b9f3-68d95fac3450",
   "metadata": {},
   "outputs": [],
   "source": [
    "import climpred as cp\n",
    "import glob\n",
    "import xarray as xr\n",
    "from dask.diagnostics import ProgressBar"
   ]
  },
  {
   "cell_type": "code",
   "execution_count": 3,
   "id": "be651e28-6788-4a6e-ad40-2ca8dd287487",
   "metadata": {},
   "outputs": [],
   "source": [
    "rootdir = '/archive/Richard.Slater/xanadu_esm4_20190304_mom6_ESM4_v1.0.3_rc1'\n",
    "prod = 'gfdl.ncrc4-intel18-prod-openmp'\n",
    "configid_control = 'ESM4_piControl_D'"
   ]
  },
  {
   "cell_type": "code",
   "execution_count": 4,
   "id": "36209e3c-ef86-4339-95dc-32d25f6a2156",
   "metadata": {},
   "outputs": [],
   "source": [
    "import gfdl_utils as gu\n",
    "import re"
   ]
  },
  {
   "cell_type": "code",
   "execution_count": 5,
   "id": "1c19d0bb-2320-4c6a-87d9-79a3855f35db",
   "metadata": {},
   "outputs": [],
   "source": [
    "def get_ensembleid(startyearstr,startmonthstr):\n",
    "    return startyearstr+startmonthstr+'01'\n",
    "\n",
    "def get_memberid(startyear,startmonth,member):\n",
    "    memberdict=dict(startyear=startyear,startmonth=startmonth,member=member)\n",
    "    zfilldict=dict(startyear=4,startmonth=2,member=2)\n",
    "    memberstrdict=memberdict.copy()\n",
    "    for key,value in memberdict.items():\n",
    "        if value is None:\n",
    "            memberstrdict[key]='*'\n",
    "        elif isinstance(value,int):\n",
    "            memberstrdict[key] = str(value).zfill(zfilldict[key])\n",
    "    return '-'.join([get_ensembleid(memberstrdict['startyear'],memberstrdict['startmonth']),memberstrdict['member']])\n",
    "\n",
    "def get_configid(startyear=None,startmonth=None,member=None):\n",
    "    if all(n is None for n in [startyear,startmonth,member]):\n",
    "        return configid_control\n",
    "    else:\n",
    "        return '-'.join([configid_control,'ensemble',get_memberid(startyear,startmonth,member)])\n",
    "    \n",
    "def get_pp(startyear=None,startmonth=None,member=None):\n",
    "    return '/'.join([rootdir,get_configid(startyear,startmonth,member),prod,'pp'])\n",
    "\n",
    "def get_refpp(startmonth):\n",
    "    # Appropriate reference pp varies depending on ensemble's startmonth\n",
    "    # Note that these could be changed or user-specified\n",
    "    if startmonth is None:\n",
    "        return get_pp() # Control\n",
    "    else:\n",
    "        return get_pp(123,startmonth,1)"
   ]
  },
  {
   "cell_type": "code",
   "execution_count": 6,
   "id": "046fc5a2-e84a-44fb-be03-cb04c2e7bd82",
   "metadata": {},
   "outputs": [],
   "source": [
    "def get_ppname(variable, frequency, pp=None, constraint=None):\n",
    "    if (pp is None) or (bool(re.search(\"\\*\",pp))):\n",
    "        # Use main reference pp\n",
    "        # For the purposes of finding the ppname, startmonth is irrelevant\n",
    "        # so it isn't carried here\n",
    "        pp = get_pp()\n",
    "    ppnames = gu.core.find_variable(pp,variable)\n",
    "    if len(ppnames)==1:\n",
    "        ppname = ppnames[0]\n",
    "        if confirm_frequency(pp,ppname,frequency):\n",
    "            return ppname\n",
    "        else:\n",
    "            raise Exception((\"Variable {\"+variable\n",
    "                             +\"} only found in {\"+ppname\n",
    "                             +\"}, which has frequency {\"+gu.core.get_timefrequency(pp,ppname)\n",
    "                             +\"} but frequency {\"+frequency\n",
    "                             +\"} was requested.\"))\n",
    "    for ppname in ppnames:\n",
    "        \n",
    "        if constraint is None:\n",
    "            condition = confirm_frequency(pp,ppname,frequency)\n",
    "        else:\n",
    "            condition = confirm_frequency(pp,ppname,frequency) & (bool(re.search(constraint,ppname)))\n",
    "                \n",
    "        if condition:\n",
    "            return ppname\n",
    "        else:\n",
    "            continue\n",
    "            \n",
    "    exceptionstr = (\"No suitable ppname found for {\"+variable\n",
    "                     +\"} at frequency {\"+frequency+\"}\")\n",
    "    if constraint is not None:\n",
    "        exceptionstr+=\" with constraint {'\"+constraint+\"'}\"\n",
    "    raise Exception(exceptionstr)\n",
    "\n",
    "def get_local(pp,ppname,startmonth):\n",
    "    if bool(re.search(\"\\*\",pp)):\n",
    "        # Use reference pp\n",
    "        pp = get_refpp(startmonth)\n",
    "    local = gu.core.get_local(pp,ppname,out='ts')\n",
    "    if (startmonth is None) or (startmonth=='*'):\n",
    "        local = '/'.join([local.split('/')[0],'*yr'])\n",
    "    return local\n",
    "\n",
    "def confirm_frequency(pp,ppname,frequency):\n",
    "    return gu.core.get_timefrequency(pp,ppname)==frequency"
   ]
  },
  {
   "cell_type": "code",
   "execution_count": 7,
   "id": "8e818813-128e-4356-9c1d-1db592d83974",
   "metadata": {},
   "outputs": [],
   "source": [
    "def get_pathDict(variable,frequency,constraint=None,startyear=None,startmonth=None,member=None,time='*',out='ts'):\n",
    "    pp = get_pp(startyear,startmonth,member)\n",
    "    ppname = get_ppname(variable,frequency,constraint)\n",
    "    local = get_local(pp,ppname,startmonth)\n",
    "    return {'pp':pp,\n",
    "            'ppname':ppname,\n",
    "            'out':out,\n",
    "            'local':local,\n",
    "            'time':time,\n",
    "            'add':variable}"
   ]
  },
  {
   "cell_type": "code",
   "execution_count": 8,
   "id": "ed19529d-74ac-4446-97f2-a34d19557c6f",
   "metadata": {},
   "outputs": [],
   "source": [
    "import cftime\n",
    "import numpy as np\n",
    "import pandas as pd"
   ]
  },
  {
   "cell_type": "code",
   "execution_count": 9,
   "id": "d457f064-5016-4ffa-bdaf-06674517c0eb",
   "metadata": {},
   "outputs": [],
   "source": [
    "def preprocess_climpred(ds,leadunits='months'):\n",
    "    nt = len(ds['time'])\n",
    "    leadunitsperyear = {'years':1,\n",
    "                        'months':12,\n",
    "                        'days':365}\n",
    "    # Recover ensemble details from \"title\" attribute\n",
    "    title = ds.attrs['title']\n",
    "    member = int(title.split('-')[-1])\n",
    "    ensembleid = title.split('-')[-2]\n",
    "    startyear = int(ensembleid[0:4])\n",
    "    startmonth = int(ensembleid[4:6])\n",
    "    # Check if getting first saved pp file\n",
    "    yearssincestart = ds['time'][0].dt.year.values-startyear\n",
    "    if yearssincestart==0:\n",
    "        leadstart = 1\n",
    "    else:\n",
    "        leadstart = yearssincestart*leadunitsperyear[leadunits]+1\n",
    "        \n",
    "    # Expand init dimension\n",
    "    init = cftime.DatetimeNoLeap(startyear,startmonth,1)\n",
    "    ds = ds.expand_dims({'init':[init]})\n",
    "    # Expand member dimension\n",
    "    ds = ds.expand_dims({'member':[member]})\n",
    "    # Assign \"lead\" coordinate\n",
    "    ds = ds.rename({'time':'lead'}).assign_coords({'lead':np.arange(leadstart,leadstart+nt)})\n",
    "    ds['lead'].attrs['units']=leadunits\n",
    "        \n",
    "    ds = ds.chunk({'lead':-1})\n",
    "    return ds"
   ]
  },
  {
   "cell_type": "code",
   "execution_count": 10,
   "id": "3c2e19a5-6e26-4ab8-8a91-3a8721750ef4",
   "metadata": {},
   "outputs": [],
   "source": [
    "def add_controlasmember(ds,control):\n",
    "    cs = ds.isel(member=0).copy().expand_dims({'member':[0]})\n",
    "    for init in ds['init']:\n",
    "        # Get appropriate slice\n",
    "        if init.dt.month==1:\n",
    "            nlead = len(ds['lead'])\n",
    "        else:\n",
    "            nlead = 36\n",
    "        timeslice = slice(\n",
    "            ds['time_bnds'].sel(init=init).isel(nv=0,member=0,lead=0).values,\n",
    "            ds['time_bnds'].sel(init=init).isel(nv=1,member=0,lead=nlead-1).values)\n",
    "        daslice = control.sel(time=timeslice)\n",
    "        daslice = daslice.rename({'time':'lead'}).assign_coords({'lead':np.arange(1,nlead+1)})\n",
    "        # Add slice to \"controlmember\" dataset\n",
    "        da = cs.sel(init=init)\n",
    "        da.loc[{'lead':np.arange(1,nlead+1)}]=daslice\n",
    "        cs.loc[{'init':init}] = da\n",
    "    return xr.concat([cs,ds],dim='member')\n",
    "\n",
    "def open_control(variable,frequency,constraint=None):\n",
    "    pathDict = get_pathDict(variable,frequency,constraint=constraint)\n",
    "    path = gu.core.get_pathspp(**pathDict)\n",
    "    ondisk = gu.core.query_ondisk(path)\n",
    "    if list(ondisk.values()).count(False)>0:\n",
    "        raise Exception(\"Not all files (CONTROL) available on disk. Use issue_dmget_ensemble(variable,frequency,...) to migrate from tape.\")\n",
    "    return xr.open_mfdataset(path)\n",
    "\n",
    "def open_static(variable,frequency,constraint=None):\n",
    "    pathDict = get_pathDict(variable,frequency,constraint=constraint)\n",
    "    return gu.core.open_static(pathDict['pp'],pathDict['ppname'])\n",
    "\n",
    "def open_ensemble(variable,frequency,constraint=None,startyear=\"*\",startmonth=None,controlasmember=True):\n",
    "    pathDict = get_pathDict(variable,frequency,constraint,startyear,startmonth)\n",
    "    path = gu.core.get_pathspp(**pathDict)\n",
    "    # Check to see if files are on disk or tape\n",
    "    ondisk = gu.core.query_ondisk(path)\n",
    "    if list(ondisk.values()).count(False)>0:\n",
    "        raise Exception(\"Not all files (ENSEMBLES) available on disk. Use issue_dmget_ensemble(variable,frequency,...) to migrate from tape.\")\n",
    "    ds = xr.open_mfdataset(path,preprocess=preprocess_climpred)\n",
    "    # Add control as member\n",
    "    if controlasmember:\n",
    "        control = open_control(variable,frequency,constraint)\n",
    "        ds = add_controlasmember(ds,control)\n",
    "    return ds\n",
    "\n",
    "def issue_dmget_esm4ppe(variable,frequency,constraint=None,startyear=None,startmonth=None):\n",
    "    pathDict = get_pathDict(variable,frequency,constraint,startyear,startmonth)\n",
    "    path = gu.core.get_pathspp(**pathDict)\n",
    "    ondisk = gu.core.query_ondisk(path)\n",
    "    ontape = {key: value for key, value in ondisk.items() if value==False}\n",
    "    out = gu.core.issue_dmget(list(ontape.keys()))\n",
    "    return out"
   ]
  },
  {
   "cell_type": "code",
   "execution_count": 11,
   "id": "2bea1c6d-db0d-4d1c-8522-ddaf90f05994",
   "metadata": {},
   "outputs": [],
   "source": [
    "import os\n",
    "import time"
   ]
  },
  {
   "cell_type": "code",
   "execution_count": 35,
   "id": "fd161df8-45ac-4e66-ad20-1054d3deff91",
   "metadata": {},
   "outputs": [],
   "source": [
    "class esm4ppeObj:\n",
    "    def __init__(self,variable,frequency,constraint=None,triggeropen=False,add_control=False):\n",
    "        zarrpath = '/work/gam/projects/esm4_ppe/data/raw/climpred_zarr/'+get_zarrdir(variable,frequency)\n",
    "        try:\n",
    "            ds = xr.open_zarr(zarrpath)[variable]\n",
    "            print(\"Opening zarr store.\")\n",
    "        except:\n",
    "            if triggeropen:\n",
    "                print(\"Opening ensemble...\",end=\" \")\n",
    "                start = time.time()\n",
    "                ds = open_ensemble(variable,frequency,constraint,controlasmember=True)\n",
    "                end = time.time()\n",
    "                print(\"...Ensemble opened. Elapsed time: \"+str(round(end-start))+\" seconds.\")\n",
    "                ds = ds.drop(['time_bnds','nv']).chunk({'member':-1,'init':-1,'lead':1,'xh':\"auto\"})\n",
    "                print(\"Saving to zarr store...\",end=\" \")\n",
    "                with ProgressBar():\n",
    "                    ds.to_zarr(zarrpath,mode='a')\n",
    "                print(\"zarr store saved.\")\n",
    "            else:\n",
    "                raise Exception(\"Zarr store not available for \"+\n",
    "                                variable+\" at zarrpath \"+\n",
    "                                get_zarrpath(variable,frequency)+\".\"+\n",
    "                                \"Set triggeropen=True to open and save the ensemble.\"+\n",
    "                                \" This can take some time to process.\")\n",
    "        \n",
    "        if type(ds)==xr.DataArray:\n",
    "            ds = ds.to_dataset()\n",
    "        self._ds = ds\n",
    "        \n",
    "        self.args = {'variable':variable,'frequency':frequency,'constraint':constraint}\n",
    "        self.zarrpath = zarrpath\n",
    "        \n",
    "        if add_control:\n",
    "            print(\"Opening control...\",end=\" \")\n",
    "            self._control = open_control(variable,frequency,constraint)\n",
    "            print(\"control opened.\")\n",
    "        \n",
    "        print(\"Opening static...\",end=\" \")\n",
    "        self._static = open_static(variable,frequency,constraint)\n",
    "        print(\"static opened.\")\n",
    "        \n",
    "        \n",
    "    def verify(self,metric,saveskill=False,**pm_args):\n",
    "        verifypath = get_verifypath(metric,**pm_args)\n",
    "        path = verifypath+'/'+get_ncfilename(self.args)         \n",
    "        try:\n",
    "            vs = xr.open_dataset(path)\n",
    "            print(\"Opening skill metric.\")\n",
    "        except:\n",
    "            vs = self._verify(metric,**pm_args)\n",
    "            if saveskill:\n",
    "                isExist = os.path.exists(verifypath)\n",
    "                if not isExist:\n",
    "                    os.mkdir(verifypath)\n",
    "                print(\"Saving skill metric...\",end=\" \")\n",
    "                with ProgressBar():\n",
    "                    vs.to_netcdf(path)\n",
    "                print(\"...skill metric saved\")\n",
    "        self._vs = vs\n",
    "        self.verifypath = verifypath\n",
    "        return vs\n",
    "    \n",
    "    def _verify(self,metric,**pm_args):\n",
    "        if metric=='ppp':\n",
    "            if 'groupby' in pm_args.keys():\n",
    "                groupby=pm_args['groupby']\n",
    "            else:\n",
    "                groupby=None\n",
    "            return calc_ppp(self._ds,self._control,groupby,self.args['frequency'],len(self._ds['lead']))\n",
    "        else:\n",
    "            pm = cp.PerfectModelEnsemble(self._ds)\n",
    "            return pm.verify(metric=metric,**pm_args)\n",
    "        \n",
    "def get_verifypath(metric,**pm_args):\n",
    "    rootpath = '/work/gam/projects/esm4_ppe/data/processed/verify/'\n",
    "    verifypathstrings = ['verify','metric-'+metric]\n",
    "    for key,value in pm_args.items():\n",
    "        if value==None:\n",
    "            continue\n",
    "        elif type(value)==list:\n",
    "            string = '-'.join([key,'_'.join(value)])\n",
    "        else:\n",
    "            string= '-'.join([key,value])\n",
    "        verifypathstrings.append(string)\n",
    "    return rootpath+'.'.join(verifypathstrings)\n",
    "\n",
    "def get_ncfilename(args):\n",
    "    tmp = list(args.values())\n",
    "    tmp_nonone = [i for i in tmp if i is not None]\n",
    "    return '.'.join(tmp_nonone)+'.nc'\n",
    "\n",
    "def get_zarrdir(variable,frequency):\n",
    "    ppname = get_ppname(variable,frequency).split('_')\n",
    "    modelcomponent = ppname[0]\n",
    "    return '.'.join([modelcomponent,frequency])"
   ]
  },
  {
   "cell_type": "code",
   "execution_count": 13,
   "id": "f568677d-0a8f-4a85-986f-7f2a1157b32a",
   "metadata": {},
   "outputs": [],
   "source": [
    "def calc_ensemblevariance(ds,groupby=None):\n",
    "    evar = (ds.std(dim='member'))**2\n",
    "    if groupby is not None:\n",
    "        return evar.groupby('init.'+groupby).mean()\n",
    "    else:\n",
    "        return evar.mean('init')\n",
    "\n",
    "def calc_controlvariance(control,frequency,nlead):\n",
    "    if frequency=='monthly':\n",
    "        tmp = (control.groupby('time.month').std()**2)\n",
    "        # Broadcast to nlead/12 repeating years\n",
    "        montharray = np.tile(tmp['month'].to_numpy(),int(nlead/12))\n",
    "        tmp = tmp.sel(month=montharray).rename({'month':'lead'})\n",
    "        cvar = tmp.assign_coords({'lead':np.arange(1,nlead+1)})\n",
    "    elif frequency=='annual':\n",
    "        tmp = (control.std('time')**2).expand_dims({'lead':1})\n",
    "        tmp = tmp.isel(time=[0]*n)\n",
    "        cvar = tmp.assign_coords({'lead':np.arange(1,nlead+1)})\n",
    "    return cvar\n",
    "        \n",
    "def calc_ppp(ds,control,groupby,frequency,nlead):\n",
    "    # Ensemble variance\n",
    "    evarmean = calc_ensemblevariance(ds,groupby)\n",
    "\n",
    "    # Control variance\n",
    "    cvar = calc_controlvariance(control,frequency,nlead)\n",
    "    # If necessary, shift control variance to align with init month\n",
    "    if groupby=='month':\n",
    "        cvar_month = cvar.expand_dims({'month':evarmean['month']})\n",
    "        for m in cvar_month['month'].values:\n",
    "            cvar_month.loc[{'month':m}]=cvar.shift(lead=-1*(m-1))\n",
    "    # PPP\n",
    "    ppp = 1-(evarmean/cvar)\n",
    "    return ppp"
   ]
  },
  {
   "cell_type": "code",
   "execution_count": 26,
   "id": "d621b193-31ff-4b8e-ac19-a6166e1170e2",
   "metadata": {},
   "outputs": [],
   "source": [
    "variable = 'epc100'\n",
    "frequency = 'monthly'"
   ]
  },
  {
   "cell_type": "code",
   "execution_count": 27,
   "id": "d6d37df4-0f27-4ce8-b362-6a36f08fbc1e",
   "metadata": {},
   "outputs": [
    {
     "name": "stdout",
     "output_type": "stream",
     "text": [
      "Opening ensemble... ...Ensemble opened. Elapsed time: 326 seconds.\n",
      "[########################################] | 100% Completed | 234.86 s\n",
      "zarr store saved.\n",
      "Opening control... control opened.\n",
      "Opening static... static opened.\n",
      "CPU times: user 10min 23s, sys: 13min 50s, total: 24min 14s\n",
      "Wall time: 9min 54s\n"
     ]
    }
   ],
   "source": [
    "%%time\n",
    "eo = esm4ppeObj(variable,frequency,add_control=True,triggeropen=True)"
   ]
  },
  {
   "cell_type": "code",
   "execution_count": 30,
   "id": "6ed15f6b-4515-4220-a693-f56a9f8dd7fd",
   "metadata": {},
   "outputs": [
    {
     "name": "stdout",
     "output_type": "stream",
     "text": [
      "Opening skill metric.\n"
     ]
    }
   ],
   "source": [
    "vs = eo.verify('ppp',groupby='month',saveskill=True)"
   ]
  },
  {
   "cell_type": "code",
   "execution_count": 34,
   "id": "35b25d10-c670-496e-8c4f-c8ba072ca1c3",
   "metadata": {},
   "outputs": [
    {
     "data": {
      "text/plain": [
       "[<matplotlib.lines.Line2D at 0x2b029e07b130>]"
      ]
     },
     "execution_count": 34,
     "metadata": {},
     "output_type": "execute_result"
    },
    {
     "data": {
      "image/png": "[encoded data removed]",
      "text/plain": [
       "<Figure size 640x480 with 1 Axes>"
      ]
     },
     "metadata": {},
     "output_type": "display_data"
    }
   ],
   "source": [
    "vs[variable].weighted(eo._static['areacello'].fillna(0)).mean(['xh','yh']).isel(month=0).plot()"
   ]
  },
  {
   "cell_type": "code",
   "execution_count": null,
   "id": "217fe3c7-ebd0-4e57-9660-0dc1530f195a",
   "metadata": {},
   "outputs": [],
   "source": []
  }
 ],
 "metadata": {
  "kernelspec": {
   "display_name": "Python [conda env:climpred_clean]",
   "language": "python",
   "name": "conda-env-climpred_clean-py"
  },
  "language_info": {
   "codemirror_mode": {
    "name": "ipython",
    "version": 3
   },
   "file_extension": ".py",
   "mimetype": "text/x-python",
   "name": "python",
   "nbconvert_exporter": "python",
   "pygments_lexer": "ipython3",
   "version": "3.10.9"
  }
 },
 "nbformat": 4,
 "nbformat_minor": 5
}
