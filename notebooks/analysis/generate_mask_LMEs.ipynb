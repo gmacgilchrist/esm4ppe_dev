{
 "cells": [
  {
   "cell_type": "markdown",
   "id": "5d08d568-b419-42f8-81c8-2a9a01d09b2f",
   "metadata": {},
   "source": [
    "### Generate boolean mask for LMEs\n",
    "Running this code takes a few hours, so preferable to do it via the `.py` file : `generate_mask_LMEs.py`."
   ]
  },
  {
   "cell_type": "code",
   "execution_count": 14,
   "id": "97a88e93-76c9-4c0f-9429-90b5f9d698f6",
   "metadata": {},
   "outputs": [],
   "source": [
    "import geopandas as gpd\n",
    "from information import *\n",
    "import xarray as xr\n",
    "from shapely.geometry import Polygon,Point\n",
    "import numpy as np\n",
    "import matplotlib.pyplot as plt"
   ]
  },
  {
   "cell_type": "code",
   "execution_count": 15,
   "id": "54b3bddc-6f26-4609-a04e-dcac62aed1c6",
   "metadata": {},
   "outputs": [],
   "source": [
    "rootdir = '/projects/SOCCOM/datasets/LargeMarineEcos/LME66/'\n",
    "filename = 'LMEs66.shp'\n",
    "df = gpd.read_file(rootdir+filename)\n",
    "grid = xr.open_dataset(ppeDict['rootdir']+ppeDict['gridfile'])\n",
    "# Reorganize geolon coordinate\n",
    "grid['geolon'] = grid['geolon'].where(grid['geolon']>-180,grid['geolon']+360)"
   ]
  },
  {
   "cell_type": "code",
   "execution_count": 16,
   "id": "a1bb4605-65d8-4876-870e-e358b37249b8",
   "metadata": {},
   "outputs": [
    {
     "name": "stdout",
     "output_type": "stream",
     "text": [
      "   OBJECTID  LME_NUMBER                 LME_NAME GROUPING  ARCTIC USLMES  \\\n",
      "0         1        23.0               Baltic Sea      NaN     NaN    NaN   \n",
      "1         2        52.0           Sea of Okhotsk      NaN     NaN    NaN   \n",
      "2         3        22.0                North Sea      NaN     NaN    NaN   \n",
      "3         4         2.0           Gulf of Alaska      NaN     NaN    Yes   \n",
      "4         5         9.0  Labrador - Newfoundland   Arctic  Arctic    NaN   \n",
      "\n",
      "   Shape_Leng  Shape_Area    SUM_GIS_KM  \\\n",
      "0  219.326402   61.950021  3.951472e+05   \n",
      "1  145.932989  213.796584  1.561297e+06   \n",
      "2  209.486403  103.965247  6.938472e+05   \n",
      "3  495.473780  211.045622  1.530668e+06   \n",
      "4  270.847479  114.597691  9.077923e+05   \n",
      "\n",
      "                                            geometry  \n",
      "0  POLYGON ((10.97944 54.38055, 10.98611 54.37805...  \n",
      "1  POLYGON ((156.70705 51.18858, 156.62592 51.160...  \n",
      "2  POLYGON ((5.27889 61.98027, 5.24917 61.97388, ...  \n",
      "3  POLYGON ((-149.41141 61.49638, -149.40311 61.4...  \n",
      "4  MULTIPOLYGON (((-64.56793 60.45509, -60.09442 ...  \n"
     ]
    }
   ],
   "source": [
    "print(df.head())"
   ]
  },
  {
   "cell_type": "code",
   "execution_count": 9,
   "id": "64422c3e-d1b3-4b21-9bec-3cb5162ed1ef",
   "metadata": {},
   "outputs": [],
   "source": [
    "ds = xr.Dataset(coords=grid['geolon'].coords)\n",
    "gridx,gridy = grid['geolon'].values,grid['geolat'].values\n",
    "xy_arr = np.vstack((gridx.ravel(), gridy.ravel())).T\n",
    "# Set up numpy dictionary\n",
    "inside_dict = {}\n",
    "for index,row in df.iterrows():\n",
    "    name = row['LME_NAME']\n",
    "    inside_dict[name]=np.zeros(shape = len(xy_arr))\n",
    "Populate np arrays with boolean based on whether point in polygon\n",
    "for i,xy in enumerate(xy_arr):\n",
    "    if i%100==0:\n",
    "        print(str(i)+' of '+str(len(xy_arr)))\n",
    "    for name,inside in inside_dict.items():\n",
    "        poly = df[df['LME_NAME']==name]['geometry'].iloc[0]\n",
    "        inside[i]=poly.contains(Point(xy))"
   ]
  },
  {
   "cell_type": "code",
   "execution_count": null,
   "id": "b3f29770-0838-4097-9f0c-069777dc4139",
   "metadata": {},
   "outputs": [],
   "source": [
    "# Reshape boolean and store in Dataset\n",
    "for name,inside in inside_dict.items():\n",
    "    da=xr.DataArray(inside.reshape(gridx.shape).T,dims=ds.dims,coords=ds.coords)\n",
    "    ds[name]=da"
   ]
  },
  {
   "cell_type": "code",
   "execution_count": null,
   "id": "408efcf7-ea61-4397-bc4d-5068049c340d",
   "metadata": {},
   "outputs": [],
   "source": [
    "ds.to_netcdf(ppeDict['datasavedir']+'raw/LME66.ESM4.nc')"
   ]
  }
 ],
 "metadata": {
  "kernelspec": {
   "display_name": "core [~/.conda/envs/core/]",
   "language": "python",
   "name": "conda_core"
  },
  "language_info": {
   "codemirror_mode": {
    "name": "ipython",
    "version": 3
   },
   "file_extension": ".py",
   "mimetype": "text/x-python",
   "name": "python",
   "nbconvert_exporter": "python",
   "pygments_lexer": "ipython3",
   "version": "3.10.9"
  }
 },
 "nbformat": 4,
 "nbformat_minor": 5
}
