{
 "cells": [
  {
   "cell_type": "code",
   "execution_count": 20,
   "id": "29a5e982-0332-4f25-9a29-84852e53ce39",
   "metadata": {},
   "outputs": [
    {
     "name": "stdout",
     "output_type": "stream",
     "text": [
      "The autoreload extension is already loaded. To reload it, use:\n",
      "  %reload_ext autoreload\n"
     ]
    }
   ],
   "source": [
    "%load_ext autoreload\n",
    "%autoreload 2"
   ]
  },
  {
   "cell_type": "markdown",
   "id": "7aece2e2-15bd-4b72-9cae-fbdb4b27a483",
   "metadata": {},
   "source": [
    "## Calculate time horizon for loss of potential predictability"
   ]
  },
  {
   "cell_type": "code",
   "execution_count": 50,
   "id": "b882367f-a393-4cd2-a972-eb321037b77a",
   "metadata": {},
   "outputs": [],
   "source": [
    "import xarray as xr\n",
    "import numpy as np\n",
    "import gfdl_utils as gu\n",
    "import glob\n",
    "from dask.diagnostics import ProgressBar\n",
    "from information import *\n",
    "from processing import *\n",
    "from variance import *\n",
    "import os"
   ]
  },
  {
   "cell_type": "code",
   "execution_count": 52,
   "id": "37dc866e-a79b-47d3-9fb9-b556e466157e",
   "metadata": {},
   "outputs": [],
   "source": [
    "ppname = 'ocean_month'\n",
    "frequency = gu.core.get_timefrequency(ppcontrol,ppname)\n",
    "ppp = xr.open_zarr(ppeDict['datasavedir']+'/processed/ppp/'+ppname+'.zarr')"
   ]
  },
  {
   "cell_type": "code",
   "execution_count": 48,
   "id": "a2a4eeb3-e94e-491e-92a5-58f6f1e6b02c",
   "metadata": {},
   "outputs": [],
   "source": [
    "def calc_timehorizon(da,threshold,dim='time',smooth=None,):\n",
    "    ''' Find time at which value of [da] drops below [threshold], moving forward in time.\n",
    "    If it never drops below threshold, np.max(time)+1 is returned.'''\n",
    "    if smooth is not None:\n",
    "        tmp = da.rolling({dim:smooth},center=True,min_periods=1).mean()\n",
    "    else:\n",
    "        tmp = da.copy()\n",
    "    \n",
    "    return xr.where(tmp<threshold, tmp[dim],np.max(da[dim])+1).min(dim=dim,skipna=True)"
   ]
  },
  {
   "cell_type": "code",
   "execution_count": 49,
   "id": "9358163b-f5b2-40da-ab3f-3d9228834428",
   "metadata": {},
   "outputs": [
    {
     "name": "stdout",
     "output_type": "stream",
     "text": [
      "Saving intpp.monthly.smooth_12.nc\n",
      "[########################################] | 100% Completed | 3.21 sms\n",
      "Saving intppdiat.monthly.smooth_12.nc\n",
      "[########################################] | 100% Completed | 3.29 sms\n",
      "Saving intppdiaz.monthly.smooth_12.nc\n",
      "[########################################] | 100% Completed | 3.30 sms\n",
      "Saving intppmisc.monthly.smooth_12.nc\n",
      "[########################################] | 100% Completed | 3.18 sms\n",
      "Saving intppnitrate.monthly.smooth_12.nc\n",
      "[########################################] | 100% Completed | 3.20 sms\n",
      "Saving intpppico.monthly.smooth_12.nc\n",
      "[########################################] | 100% Completed | 3.30 sms\n"
     ]
    }
   ],
   "source": [
    "threshold = 0.235559205\n",
    "smooth = 12\n",
    "\n",
    "savedir = ppeDict['datasavedir']+'/processed/ppp_timehorizon/'\n",
    "\n",
    "for variable,da in ppp.items():\n",
    "    savefilename = '.'.join([variable,frequency,'smooth_'+str(smooth),'nc'])\n",
    "    if os.path.isfile(savedir+savefilename):\n",
    "            print(savefilename+' already exists.')\n",
    "            continue\n",
    "    else:\n",
    "        tmp = calc_timehorizon(da,threshold,dim='time',smooth=smooth)\n",
    "        tmp.name = variable\n",
    "        print('Saving '+savefilename)\n",
    "        with ProgressBar():\n",
    "            tmp.to_netcdf(savedir+savefilename)"
   ]
  }
 ],
 "metadata": {
  "kernelspec": {
   "display_name": "core [~/.conda/envs/core/]",
   "language": "python",
   "name": "conda_core"
  },
  "language_info": {
   "codemirror_mode": {
    "name": "ipython",
    "version": 3
   },
   "file_extension": ".py",
   "mimetype": "text/x-python",
   "name": "python",
   "nbconvert_exporter": "python",
   "pygments_lexer": "ipython3",
   "version": "3.10.5"
  }
 },
 "nbformat": 4,
 "nbformat_minor": 5
}
