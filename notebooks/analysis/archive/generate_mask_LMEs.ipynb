{
 "cells": [
  {
   "cell_type": "markdown",
   "id": "5d08d568-b419-42f8-81c8-2a9a01d09b2f",
   "metadata": {},
   "source": [
    "### Generate boolean mask for LMEs\n",
    "Running this code takes a few hours, so preferable to do it via the `.py` file : `generate_mask_LMEs.py`."
   ]
  },
  {
   "cell_type": "code",
   "execution_count": 5,
   "id": "97a88e93-76c9-4c0f-9429-90b5f9d698f6",
   "metadata": {},
   "outputs": [],
   "source": [
    "import geopandas as gpd\n",
    "from information import *\n",
    "import xarray as xr\n",
    "from shapely.geometry import Polygon,Point\n",
    "import numpy as np\n",
    "import matplotlib.pyplot as plt\n",
    "import time"
   ]
  },
  {
   "cell_type": "code",
   "execution_count": 6,
   "id": "54b3bddc-6f26-4609-a04e-dcac62aed1c6",
   "metadata": {},
   "outputs": [],
   "source": [
    "rootdir = '/projects/SOCCOM/datasets/LargeMarineEcos/LME66/'\n",
    "filename = 'LMEs66.shp'\n",
    "df = gpd.read_file(rootdir+filename)\n",
    "grid = xr.open_dataset(ppeDict['rootdir']+ppeDict['gridfile'])\n",
    "# Reorganize geolon coordinate\n",
    "grid['geolon'] = grid['geolon'].where(grid['geolon']>-180,grid['geolon']+360)"
   ]
  },
  {
   "cell_type": "code",
   "execution_count": 7,
   "id": "a1bb4605-65d8-4876-870e-e358b37249b8",
   "metadata": {},
   "outputs": [
    {
     "name": "stdout",
     "output_type": "stream",
     "text": [
      "   OBJECTID  LME_NUMBER                 LME_NAME GROUPING  ARCTIC USLMES  \\\n",
      "0         1        23.0               Baltic Sea      NaN     NaN    NaN   \n",
      "1         2        52.0           Sea of Okhotsk      NaN     NaN    NaN   \n",
      "2         3        22.0                North Sea      NaN     NaN    NaN   \n",
      "3         4         2.0           Gulf of Alaska      NaN     NaN    Yes   \n",
      "4         5         9.0  Labrador - Newfoundland   Arctic  Arctic    NaN   \n",
      "\n",
      "   Shape_Leng  Shape_Area    SUM_GIS_KM  \\\n",
      "0  219.326402   61.950021  3.951472e+05   \n",
      "1  145.932989  213.796584  1.561297e+06   \n",
      "2  209.486403  103.965247  6.938472e+05   \n",
      "3  495.473780  211.045622  1.530668e+06   \n",
      "4  270.847479  114.597691  9.077923e+05   \n",
      "\n",
      "                                            geometry  \n",
      "0  POLYGON ((10.97944 54.38055, 10.98611 54.37805...  \n",
      "1  POLYGON ((156.70705 51.18858, 156.62592 51.160...  \n",
      "2  POLYGON ((5.27889 61.98027, 5.24917 61.97388, ...  \n",
      "3  POLYGON ((-149.41141 61.49638, -149.40311 61.4...  \n",
      "4  MULTIPOLYGON (((-64.56793 60.45509, -60.09442 ...  \n"
     ]
    }
   ],
   "source": [
    "print(df.head())"
   ]
  },
  {
   "cell_type": "code",
   "execution_count": 10,
   "id": "64422c3e-d1b3-4b21-9bec-3cb5162ed1ef",
   "metadata": {},
   "outputs": [
    {
     "name": "stdout",
     "output_type": "stream",
     "text": [
      "0 of 414720\n",
      "0.10583114624023438\n",
      "0.0977025032043457\n",
      "0.0959017276763916\n",
      "0.09860658645629883\n",
      "0.09664487838745117\n",
      "0.09583187103271484\n",
      "0.09499788284301758\n",
      "0.09607410430908203\n",
      "0.09536147117614746\n",
      "0.09813427925109863\n",
      "0.09282660484313965\n",
      "0.09331130981445312\n",
      "0.09184432029724121\n",
      "0.09853434562683105\n",
      "0.09435653686523438\n",
      "0.09398436546325684\n",
      "0.09227299690246582\n",
      "0.0927119255065918\n",
      "0.09354114532470703\n",
      "0.09100031852722168\n",
      "0.09283971786499023\n",
      "0.09265589714050293\n",
      "0.09148573875427246\n",
      "0.0913243293762207\n",
      "0.09164190292358398\n",
      "0.09345626831054688\n",
      "0.09250640869140625\n",
      "0.09157395362854004\n",
      "0.09065103530883789\n",
      "0.09280586242675781\n",
      "0.09279346466064453\n",
      "0.09747028350830078\n",
      "0.09802889823913574\n",
      "0.09642314910888672\n",
      "0.09426188468933105\n",
      "0.09202361106872559\n",
      "0.09351634979248047\n",
      "0.0915975570678711\n",
      "0.09130740165710449\n",
      "0.09062838554382324\n",
      "0.09248113632202148\n",
      "0.09223008155822754\n",
      "0.09130382537841797\n",
      "0.09097027778625488\n",
      "0.0926368236541748\n",
      "0.09195280075073242\n",
      "0.09152984619140625\n",
      "0.09494400024414062\n",
      "0.09453344345092773\n",
      "0.09239816665649414\n",
      "0.09096813201904297\n",
      "0.09093642234802246\n",
      "0.0929570198059082\n",
      "0.09146547317504883\n",
      "0.09114718437194824\n",
      "0.09119129180908203\n",
      "0.09306216239929199\n",
      "0.09172916412353516\n",
      "0.09129834175109863\n",
      "0.0912466049194336\n",
      "0.09125852584838867\n",
      "0.09357237815856934\n",
      "0.09211277961730957\n",
      "0.09092354774475098\n",
      "0.09084010124206543\n",
      "0.09249711036682129\n",
      "0.09202122688293457\n",
      "0.09163904190063477\n",
      "0.09252667427062988\n",
      "0.09198474884033203\n",
      "0.09141778945922852\n",
      "0.0925743579864502\n",
      "0.09343242645263672\n",
      "0.09132862091064453\n",
      "0.09053802490234375\n",
      "0.09157466888427734\n",
      "0.09124636650085449\n",
      "0.09221982955932617\n",
      "0.09306144714355469\n",
      "0.09186625480651855\n",
      "0.09110307693481445\n",
      "0.0911562442779541\n",
      "0.09210371971130371\n",
      "0.09139871597290039\n",
      "0.09122419357299805\n",
      "0.09632062911987305\n",
      "0.09761214256286621\n",
      "0.10465049743652344\n",
      "0.09728121757507324\n",
      "0.09137654304504395\n",
      "0.09252357482910156\n",
      "0.09322500228881836\n",
      "0.09222793579101562\n",
      "0.09161257743835449\n",
      "0.09082436561584473\n",
      "0.09129810333251953\n",
      "0.09253525733947754\n",
      "0.09187912940979004\n",
      "0.09158992767333984\n",
      "0.09185409545898438\n",
      "100 of 414720\n",
      "0.09191036224365234\n",
      "0.09281802177429199\n",
      "0.09232115745544434\n",
      "0.0910027027130127\n",
      "0.09091973304748535\n",
      "0.09268712997436523\n",
      "0.09158778190612793\n",
      "0.102386474609375\n",
      "0.09791803359985352\n",
      "0.09943437576293945\n",
      "0.09768557548522949\n",
      "0.09663653373718262\n",
      "0.09721088409423828\n",
      "0.09859633445739746\n",
      "0.09713292121887207\n"
     ]
    },
    {
     "ename": "KeyboardInterrupt",
     "evalue": "",
     "output_type": "error",
     "traceback": [
      "\u001b[0;31m---------------------------------------------------------------------------\u001b[0m",
      "\u001b[0;31mKeyboardInterrupt\u001b[0m                         Traceback (most recent call last)",
      "Input \u001b[0;32mIn [10]\u001b[0m, in \u001b[0;36m<cell line: 10>\u001b[0;34m()\u001b[0m\n\u001b[1;32m     13\u001b[0m     \u001b[38;5;28mprint\u001b[39m(\u001b[38;5;28mstr\u001b[39m(i)\u001b[38;5;241m+\u001b[39m\u001b[38;5;124m'\u001b[39m\u001b[38;5;124m of \u001b[39m\u001b[38;5;124m'\u001b[39m\u001b[38;5;241m+\u001b[39m\u001b[38;5;28mstr\u001b[39m(\u001b[38;5;28mlen\u001b[39m(xy_arr)))\n\u001b[1;32m     14\u001b[0m \u001b[38;5;28;01mfor\u001b[39;00m name,inside \u001b[38;5;129;01min\u001b[39;00m inside_dict\u001b[38;5;241m.\u001b[39mitems():\n\u001b[0;32m---> 15\u001b[0m     poly \u001b[38;5;241m=\u001b[39m \u001b[43mdf\u001b[49m\u001b[43m[\u001b[49m\u001b[43mdf\u001b[49m\u001b[43m[\u001b[49m\u001b[38;5;124;43m'\u001b[39;49m\u001b[38;5;124;43mLME_NAME\u001b[39;49m\u001b[38;5;124;43m'\u001b[39;49m\u001b[43m]\u001b[49m\u001b[38;5;241;43m==\u001b[39;49m\u001b[43mname\u001b[49m\u001b[43m]\u001b[49m[\u001b[38;5;124m'\u001b[39m\u001b[38;5;124mgeometry\u001b[39m\u001b[38;5;124m'\u001b[39m]\u001b[38;5;241m.\u001b[39miloc[\u001b[38;5;241m0\u001b[39m]\n\u001b[1;32m     16\u001b[0m     inside[i]\u001b[38;5;241m=\u001b[39mpoly\u001b[38;5;241m.\u001b[39mcontains(Point(xy))\n\u001b[1;32m     17\u001b[0m end \u001b[38;5;241m=\u001b[39m time\u001b[38;5;241m.\u001b[39mtime()\n",
      "File \u001b[0;32m~/.conda/envs/core/lib/python3.10/site-packages/geopandas/geodataframe.py:1415\u001b[0m, in \u001b[0;36mGeoDataFrame.__getitem__\u001b[0;34m(self, key)\u001b[0m\n\u001b[1;32m   1409\u001b[0m \u001b[38;5;28;01mdef\u001b[39;00m \u001b[38;5;21m__getitem__\u001b[39m(\u001b[38;5;28mself\u001b[39m, key):\n\u001b[1;32m   1410\u001b[0m     \u001b[38;5;124;03m\"\"\"\u001b[39;00m\n\u001b[1;32m   1411\u001b[0m \u001b[38;5;124;03m    If the result is a column containing only 'geometry', return a\u001b[39;00m\n\u001b[1;32m   1412\u001b[0m \u001b[38;5;124;03m    GeoSeries. If it's a DataFrame with any columns of GeometryDtype,\u001b[39;00m\n\u001b[1;32m   1413\u001b[0m \u001b[38;5;124;03m    return a GeoDataFrame.\u001b[39;00m\n\u001b[1;32m   1414\u001b[0m \u001b[38;5;124;03m    \"\"\"\u001b[39;00m\n\u001b[0;32m-> 1415\u001b[0m     result \u001b[38;5;241m=\u001b[39m \u001b[38;5;28;43msuper\u001b[39;49m\u001b[43m(\u001b[49m\u001b[43m)\u001b[49m\u001b[38;5;241;43m.\u001b[39;49m\u001b[38;5;21;43m__getitem__\u001b[39;49m\u001b[43m(\u001b[49m\u001b[43mkey\u001b[49m\u001b[43m)\u001b[49m\n\u001b[1;32m   1416\u001b[0m     geo_col \u001b[38;5;241m=\u001b[39m \u001b[38;5;28mself\u001b[39m\u001b[38;5;241m.\u001b[39m_geometry_column_name\n\u001b[1;32m   1417\u001b[0m     \u001b[38;5;28;01mif\u001b[39;00m \u001b[38;5;28misinstance\u001b[39m(result, Series) \u001b[38;5;129;01mand\u001b[39;00m \u001b[38;5;28misinstance\u001b[39m(result\u001b[38;5;241m.\u001b[39mdtype, GeometryDtype):\n",
      "File \u001b[0;32m~/.conda/envs/core/lib/python3.10/site-packages/pandas/core/frame.py:3496\u001b[0m, in \u001b[0;36mDataFrame.__getitem__\u001b[0;34m(self, key)\u001b[0m\n\u001b[1;32m   3494\u001b[0m \u001b[38;5;66;03m# Do we have a (boolean) 1d indexer?\u001b[39;00m\n\u001b[1;32m   3495\u001b[0m \u001b[38;5;28;01mif\u001b[39;00m com\u001b[38;5;241m.\u001b[39mis_bool_indexer(key):\n\u001b[0;32m-> 3496\u001b[0m     \u001b[38;5;28;01mreturn\u001b[39;00m \u001b[38;5;28;43mself\u001b[39;49m\u001b[38;5;241;43m.\u001b[39;49m\u001b[43m_getitem_bool_array\u001b[49m\u001b[43m(\u001b[49m\u001b[43mkey\u001b[49m\u001b[43m)\u001b[49m\n\u001b[1;32m   3498\u001b[0m \u001b[38;5;66;03m# We are left with two options: a single key, and a collection of keys,\u001b[39;00m\n\u001b[1;32m   3499\u001b[0m \u001b[38;5;66;03m# We interpret tuples as collections only for non-MultiIndex\u001b[39;00m\n\u001b[1;32m   3500\u001b[0m is_single_key \u001b[38;5;241m=\u001b[39m \u001b[38;5;28misinstance\u001b[39m(key, \u001b[38;5;28mtuple\u001b[39m) \u001b[38;5;129;01mor\u001b[39;00m \u001b[38;5;129;01mnot\u001b[39;00m is_list_like(key)\n",
      "File \u001b[0;32m~/.conda/envs/core/lib/python3.10/site-packages/pandas/core/frame.py:3551\u001b[0m, in \u001b[0;36mDataFrame._getitem_bool_array\u001b[0;34m(self, key)\u001b[0m\n\u001b[1;32m   3549\u001b[0m key \u001b[38;5;241m=\u001b[39m check_bool_indexer(\u001b[38;5;28mself\u001b[39m\u001b[38;5;241m.\u001b[39mindex, key)\n\u001b[1;32m   3550\u001b[0m indexer \u001b[38;5;241m=\u001b[39m key\u001b[38;5;241m.\u001b[39mnonzero()[\u001b[38;5;241m0\u001b[39m]\n\u001b[0;32m-> 3551\u001b[0m \u001b[38;5;28;01mreturn\u001b[39;00m \u001b[38;5;28;43mself\u001b[39;49m\u001b[38;5;241;43m.\u001b[39;49m\u001b[43m_take_with_is_copy\u001b[49m\u001b[43m(\u001b[49m\u001b[43mindexer\u001b[49m\u001b[43m,\u001b[49m\u001b[43m \u001b[49m\u001b[43maxis\u001b[49m\u001b[38;5;241;43m=\u001b[39;49m\u001b[38;5;241;43m0\u001b[39;49m\u001b[43m)\u001b[49m\n",
      "File \u001b[0;32m~/.conda/envs/core/lib/python3.10/site-packages/pandas/core/generic.py:3716\u001b[0m, in \u001b[0;36mNDFrame._take_with_is_copy\u001b[0;34m(self, indices, axis)\u001b[0m\n\u001b[1;32m   3708\u001b[0m \u001b[38;5;28;01mdef\u001b[39;00m \u001b[38;5;21m_take_with_is_copy\u001b[39m(\u001b[38;5;28mself\u001b[39m: NDFrameT, indices, axis\u001b[38;5;241m=\u001b[39m\u001b[38;5;241m0\u001b[39m) \u001b[38;5;241m-\u001b[39m\u001b[38;5;241m>\u001b[39m NDFrameT:\n\u001b[1;32m   3709\u001b[0m     \u001b[38;5;124;03m\"\"\"\u001b[39;00m\n\u001b[1;32m   3710\u001b[0m \u001b[38;5;124;03m    Internal version of the `take` method that sets the `_is_copy`\u001b[39;00m\n\u001b[1;32m   3711\u001b[0m \u001b[38;5;124;03m    attribute to keep track of the parent dataframe (using in indexing\u001b[39;00m\n\u001b[0;32m   (...)\u001b[0m\n\u001b[1;32m   3714\u001b[0m \u001b[38;5;124;03m    See the docstring of `take` for full explanation of the parameters.\u001b[39;00m\n\u001b[1;32m   3715\u001b[0m \u001b[38;5;124;03m    \"\"\"\u001b[39;00m\n\u001b[0;32m-> 3716\u001b[0m     result \u001b[38;5;241m=\u001b[39m \u001b[38;5;28;43mself\u001b[39;49m\u001b[38;5;241;43m.\u001b[39;49m\u001b[43mtake\u001b[49m\u001b[43m(\u001b[49m\u001b[43mindices\u001b[49m\u001b[38;5;241;43m=\u001b[39;49m\u001b[43mindices\u001b[49m\u001b[43m,\u001b[49m\u001b[43m \u001b[49m\u001b[43maxis\u001b[49m\u001b[38;5;241;43m=\u001b[39;49m\u001b[43maxis\u001b[49m\u001b[43m)\u001b[49m\n\u001b[1;32m   3717\u001b[0m     \u001b[38;5;66;03m# Maybe set copy if we didn't actually change the index.\u001b[39;00m\n\u001b[1;32m   3718\u001b[0m     \u001b[38;5;28;01mif\u001b[39;00m \u001b[38;5;129;01mnot\u001b[39;00m result\u001b[38;5;241m.\u001b[39m_get_axis(axis)\u001b[38;5;241m.\u001b[39mequals(\u001b[38;5;28mself\u001b[39m\u001b[38;5;241m.\u001b[39m_get_axis(axis)):\n",
      "File \u001b[0;32m~/.conda/envs/core/lib/python3.10/site-packages/pandas/core/generic.py:3706\u001b[0m, in \u001b[0;36mNDFrame.take\u001b[0;34m(self, indices, axis, is_copy, **kwargs)\u001b[0m\n\u001b[1;32m   3701\u001b[0m \u001b[38;5;28mself\u001b[39m\u001b[38;5;241m.\u001b[39m_consolidate_inplace()\n\u001b[1;32m   3703\u001b[0m new_data \u001b[38;5;241m=\u001b[39m \u001b[38;5;28mself\u001b[39m\u001b[38;5;241m.\u001b[39m_mgr\u001b[38;5;241m.\u001b[39mtake(\n\u001b[1;32m   3704\u001b[0m     indices, axis\u001b[38;5;241m=\u001b[39m\u001b[38;5;28mself\u001b[39m\u001b[38;5;241m.\u001b[39m_get_block_manager_axis(axis), verify\u001b[38;5;241m=\u001b[39m\u001b[38;5;28;01mTrue\u001b[39;00m\n\u001b[1;32m   3705\u001b[0m )\n\u001b[0;32m-> 3706\u001b[0m \u001b[38;5;28;01mreturn\u001b[39;00m \u001b[38;5;28;43mself\u001b[39;49m\u001b[38;5;241;43m.\u001b[39;49m\u001b[43m_constructor\u001b[49m\u001b[43m(\u001b[49m\u001b[43mnew_data\u001b[49m\u001b[43m)\u001b[49m\u001b[38;5;241m.\u001b[39m__finalize__(\u001b[38;5;28mself\u001b[39m, method\u001b[38;5;241m=\u001b[39m\u001b[38;5;124m\"\u001b[39m\u001b[38;5;124mtake\u001b[39m\u001b[38;5;124m\"\u001b[39m)\n",
      "File \u001b[0;32m~/.conda/envs/core/lib/python3.10/site-packages/geopandas/geodataframe.py:33\u001b[0m, in \u001b[0;36m_geodataframe_constructor_with_fallback\u001b[0;34m(*args, **kwargs)\u001b[0m\n\u001b[1;32m     27\u001b[0m \u001b[38;5;124;03m\"\"\"\u001b[39;00m\n\u001b[1;32m     28\u001b[0m \u001b[38;5;124;03mA flexible constructor for GeoDataFrame._constructor, which falls back\u001b[39;00m\n\u001b[1;32m     29\u001b[0m \u001b[38;5;124;03mto returning a DataFrame (if a certain operation does not preserve the\u001b[39;00m\n\u001b[1;32m     30\u001b[0m \u001b[38;5;124;03mgeometry column)\u001b[39;00m\n\u001b[1;32m     31\u001b[0m \u001b[38;5;124;03m\"\"\"\u001b[39;00m\n\u001b[1;32m     32\u001b[0m df \u001b[38;5;241m=\u001b[39m GeoDataFrame(\u001b[38;5;241m*\u001b[39margs, \u001b[38;5;241m*\u001b[39m\u001b[38;5;241m*\u001b[39mkwargs)\n\u001b[0;32m---> 33\u001b[0m geometry_cols_mask \u001b[38;5;241m=\u001b[39m \u001b[43mdf\u001b[49m\u001b[38;5;241;43m.\u001b[39;49m\u001b[43mdtypes\u001b[49m \u001b[38;5;241m==\u001b[39m \u001b[38;5;124m\"\u001b[39m\u001b[38;5;124mgeometry\u001b[39m\u001b[38;5;124m\"\u001b[39m\n\u001b[1;32m     34\u001b[0m \u001b[38;5;28;01mif\u001b[39;00m \u001b[38;5;28mlen\u001b[39m(geometry_cols_mask) \u001b[38;5;241m==\u001b[39m \u001b[38;5;241m0\u001b[39m \u001b[38;5;129;01mor\u001b[39;00m geometry_cols_mask\u001b[38;5;241m.\u001b[39msum() \u001b[38;5;241m==\u001b[39m \u001b[38;5;241m0\u001b[39m:\n\u001b[1;32m     35\u001b[0m     df \u001b[38;5;241m=\u001b[39m pd\u001b[38;5;241m.\u001b[39mDataFrame(df)\n",
      "File \u001b[0;32m~/.conda/envs/core/lib/python3.10/site-packages/pandas/core/generic.py:5747\u001b[0m, in \u001b[0;36mNDFrame.dtypes\u001b[0;34m(self)\u001b[0m\n\u001b[1;32m   5720\u001b[0m \u001b[38;5;124;03m\"\"\"\u001b[39;00m\n\u001b[1;32m   5721\u001b[0m \u001b[38;5;124;03mReturn the dtypes in the DataFrame.\u001b[39;00m\n\u001b[1;32m   5722\u001b[0m \n\u001b[0;32m   (...)\u001b[0m\n\u001b[1;32m   5744\u001b[0m \u001b[38;5;124;03mdtype: object\u001b[39;00m\n\u001b[1;32m   5745\u001b[0m \u001b[38;5;124;03m\"\"\"\u001b[39;00m\n\u001b[1;32m   5746\u001b[0m data \u001b[38;5;241m=\u001b[39m \u001b[38;5;28mself\u001b[39m\u001b[38;5;241m.\u001b[39m_mgr\u001b[38;5;241m.\u001b[39mget_dtypes()\n\u001b[0;32m-> 5747\u001b[0m \u001b[38;5;28;01mreturn\u001b[39;00m \u001b[38;5;28;43mself\u001b[39;49m\u001b[38;5;241;43m.\u001b[39;49m\u001b[43m_constructor_sliced\u001b[49m\u001b[43m(\u001b[49m\u001b[43mdata\u001b[49m\u001b[43m,\u001b[49m\u001b[43m \u001b[49m\u001b[43mindex\u001b[49m\u001b[38;5;241;43m=\u001b[39;49m\u001b[38;5;28;43mself\u001b[39;49m\u001b[38;5;241;43m.\u001b[39;49m\u001b[43m_info_axis\u001b[49m\u001b[43m,\u001b[49m\u001b[43m \u001b[49m\u001b[43mdtype\u001b[49m\u001b[38;5;241;43m=\u001b[39;49m\u001b[43mnp\u001b[49m\u001b[38;5;241;43m.\u001b[39;49m\u001b[43mobject_\u001b[49m\u001b[43m)\u001b[49m\n",
      "File \u001b[0;32m~/.conda/envs/core/lib/python3.10/site-packages/geopandas/geodataframe.py:1534\u001b[0m, in \u001b[0;36mGeoDataFrame._constructor_sliced.<locals>._geodataframe_constructor_sliced\u001b[0;34m(*args, **kwargs)\u001b[0m\n\u001b[1;32m   1518\u001b[0m \u001b[38;5;28;01mdef\u001b[39;00m \u001b[38;5;21m_geodataframe_constructor_sliced\u001b[39m(\u001b[38;5;241m*\u001b[39margs, \u001b[38;5;241m*\u001b[39m\u001b[38;5;241m*\u001b[39mkwargs):\n\u001b[1;32m   1519\u001b[0m     \u001b[38;5;124;03m\"\"\"\u001b[39;00m\n\u001b[1;32m   1520\u001b[0m \u001b[38;5;124;03m    A specialized (Geo)Series constructor which can fall back to a\u001b[39;00m\n\u001b[1;32m   1521\u001b[0m \u001b[38;5;124;03m    Series if a certain operation does not produce geometries:\u001b[39;00m\n\u001b[0;32m   (...)\u001b[0m\n\u001b[1;32m   1532\u001b[0m \u001b[38;5;124;03m      checking the identity of the index)\u001b[39;00m\n\u001b[1;32m   1533\u001b[0m \u001b[38;5;124;03m    \"\"\"\u001b[39;00m\n\u001b[0;32m-> 1534\u001b[0m     srs \u001b[38;5;241m=\u001b[39m \u001b[43mpd\u001b[49m\u001b[38;5;241;43m.\u001b[39;49m\u001b[43mSeries\u001b[49m\u001b[43m(\u001b[49m\u001b[38;5;241;43m*\u001b[39;49m\u001b[43margs\u001b[49m\u001b[43m,\u001b[49m\u001b[43m \u001b[49m\u001b[38;5;241;43m*\u001b[39;49m\u001b[38;5;241;43m*\u001b[39;49m\u001b[43mkwargs\u001b[49m\u001b[43m)\u001b[49m\n\u001b[1;32m   1535\u001b[0m     is_row_proxy \u001b[38;5;241m=\u001b[39m srs\u001b[38;5;241m.\u001b[39mindex \u001b[38;5;129;01mis\u001b[39;00m \u001b[38;5;28mself\u001b[39m\u001b[38;5;241m.\u001b[39mcolumns\n\u001b[1;32m   1536\u001b[0m     \u001b[38;5;28;01mif\u001b[39;00m is_geometry_type(srs) \u001b[38;5;129;01mand\u001b[39;00m \u001b[38;5;129;01mnot\u001b[39;00m is_row_proxy:\n",
      "File \u001b[0;32m~/.conda/envs/core/lib/python3.10/site-packages/pandas/core/series.py:441\u001b[0m, in \u001b[0;36mSeries.__init__\u001b[0;34m(self, data, index, dtype, name, copy, fastpath)\u001b[0m\n\u001b[1;32m    439\u001b[0m         data \u001b[38;5;241m=\u001b[39m [data]\n\u001b[1;32m    440\u001b[0m     index \u001b[38;5;241m=\u001b[39m default_index(\u001b[38;5;28mlen\u001b[39m(data))\n\u001b[0;32m--> 441\u001b[0m \u001b[38;5;28;01melif\u001b[39;00m \u001b[43mis_list_like\u001b[49m\u001b[43m(\u001b[49m\u001b[43mdata\u001b[49m\u001b[43m)\u001b[49m:\n\u001b[1;32m    442\u001b[0m     com\u001b[38;5;241m.\u001b[39mrequire_length_match(data, index)\n\u001b[1;32m    444\u001b[0m \u001b[38;5;66;03m# create/copy the manager\u001b[39;00m\n",
      "\u001b[0;31mKeyboardInterrupt\u001b[0m: "
     ]
    }
   ],
   "source": [
    "ds = xr.Dataset(coords=grid['geolon'].coords)\n",
    "gridx,gridy = grid['geolon'].values,grid['geolat'].values\n",
    "xy_arr = np.vstack((gridx.ravel(), gridy.ravel())).T\n",
    "# Set up numpy dictionary\n",
    "inside_dict = {}\n",
    "for index,row in df.iterrows():\n",
    "    name = row['LME_NAME']\n",
    "    inside_dict[name]=np.full(shape = len(xy_arr), fill_value = False)\n",
    "# Populate np arrays with boolean based on whether point in polygon\n",
    "for i,xy in enumerate(xy_arr):\n",
    "    if i%100==0:\n",
    "        print(str(i)+' of '+str(len(xy_arr)))\n",
    "    for name,inside in inside_dict.items():\n",
    "        poly = df[df['LME_NAME']==name]['geometry'].iloc[0]\n",
    "        inside[i]=poly.contains(Point(xy))"
   ]
  },
  {
   "cell_type": "code",
   "execution_count": null,
   "id": "b3f29770-0838-4097-9f0c-069777dc4139",
   "metadata": {},
   "outputs": [],
   "source": [
    "# Reshape boolean and store in Dataset\n",
    "for name,inside in inside_dict.items():\n",
    "    da=xr.DataArray(inside.reshape(gridx.shape).T,dims=ds.dims,coords=ds.coords)\n",
    "    ds[name]=da"
   ]
  },
  {
   "cell_type": "code",
   "execution_count": null,
   "id": "408efcf7-ea61-4397-bc4d-5068049c340d",
   "metadata": {},
   "outputs": [],
   "source": [
    "ds.to_netcdf(ppeDict['datasavedir']+'raw/LME66.ESM4.nc')"
   ]
  },
  {
   "cell_type": "code",
   "execution_count": 4,
   "id": "8e183e89-ebfd-48e2-86ee-f684c0d64c81",
   "metadata": {},
   "outputs": [
    {
     "ename": "NameError",
     "evalue": "name 'time' is not defined",
     "output_type": "error",
     "traceback": [
      "\u001b[0;31m---------------------------------------------------------------------------\u001b[0m",
      "\u001b[0;31mNameError\u001b[0m                                 Traceback (most recent call last)",
      "Input \u001b[0;32mIn [4]\u001b[0m, in \u001b[0;36m<cell line: 1>\u001b[0;34m()\u001b[0m\n\u001b[0;32m----> 1\u001b[0m \u001b[43mtime\u001b[49m\u001b[38;5;241m.\u001b[39mtime()\n",
      "\u001b[0;31mNameError\u001b[0m: name 'time' is not defined"
     ]
    }
   ],
   "source": [
    "time.time()"
   ]
  },
  {
   "cell_type": "code",
   "execution_count": null,
   "id": "bef95258-26de-4e0e-a345-6ba717b55ef5",
   "metadata": {},
   "outputs": [],
   "source": []
  }
 ],
 "metadata": {
  "kernelspec": {
   "display_name": "core [~/.conda/envs/core/]",
   "language": "python",
   "name": "conda_core"
  },
  "language_info": {
   "codemirror_mode": {
    "name": "ipython",
    "version": 3
   },
   "file_extension": ".py",
   "mimetype": "text/x-python",
   "name": "python",
   "nbconvert_exporter": "python",
   "pygments_lexer": "ipython3",
   "version": "3.10.9"
  }
 },
 "nbformat": 4,
 "nbformat_minor": 5
}
