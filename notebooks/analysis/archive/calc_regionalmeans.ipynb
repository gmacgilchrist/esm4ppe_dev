{
 "cells": [
  {
   "cell_type": "code",
   "execution_count": 46,
   "id": "29a5e982-0332-4f25-9a29-84852e53ce39",
   "metadata": {},
   "outputs": [
    {
     "name": "stdout",
     "output_type": "stream",
     "text": [
      "The autoreload extension is already loaded. To reload it, use:\n",
      "  %reload_ext autoreload\n"
     ]
    }
   ],
   "source": [
    "%load_ext autoreload\n",
    "%autoreload 2"
   ]
  },
  {
   "cell_type": "markdown",
   "id": "7aece2e2-15bd-4b72-9cae-fbdb4b27a483",
   "metadata": {},
   "source": [
    "## Calculate regional means of variables"
   ]
  },
  {
   "cell_type": "code",
   "execution_count": 47,
   "id": "b882367f-a393-4cd2-a972-eb321037b77a",
   "metadata": {},
   "outputs": [],
   "source": [
    "import xarray as xr\n",
    "import numpy as np\n",
    "import gfdl_utils as gu\n",
    "import glob\n",
    "from dask.diagnostics import ProgressBar\n",
    "from information import *\n",
    "from processing import *\n",
    "from variance import *\n",
    "import os\n",
    "import re\n",
    "import dask"
   ]
  },
  {
   "cell_type": "code",
   "execution_count": 93,
   "id": "4213334f-29b6-40cd-b2da-acfd033b2485",
   "metadata": {},
   "outputs": [],
   "source": [
    "variable = 'sos'\n",
    "frequency = 'monthly'"
   ]
  },
  {
   "cell_type": "code",
   "execution_count": 94,
   "id": "37dc866e-a79b-47d3-9fb9-b556e466157e",
   "metadata": {},
   "outputs": [],
   "source": [
    "control = open_control(variable,frequency)\n",
    "grid = xr.open_dataset(ppeDict['rootdir']+ppeDict['gridfile'])"
   ]
  },
  {
   "cell_type": "code",
   "execution_count": 95,
   "id": "85c31094-50bc-43a3-b2bf-84c4cd69cbd6",
   "metadata": {},
   "outputs": [],
   "source": [
    "masks = generate_masks(grid)"
   ]
  },
  {
   "cell_type": "code",
   "execution_count": 96,
   "id": "ad494989-932e-4dd9-b5e1-c7772b480029",
   "metadata": {},
   "outputs": [],
   "source": [
    "savedir = ppeDict['datasavedir']+'/processed/regionalmeans/'"
   ]
  },
  {
   "cell_type": "code",
   "execution_count": 98,
   "id": "1b697c1c-7a3d-4171-a45c-5d0916d379bb",
   "metadata": {},
   "outputs": [],
   "source": [
    "def calc_regionalmean(da,mask,weights):\n",
    "    return da.where(mask,drop=True).weighted(weights.fillna(0)).mean(['xh','yh'])\n",
    "\n",
    "def calc_regionalmean_all(da,masks,weights,verbose=False):\n",
    "    ''' Calculate regional means for [da] based on [masks].\n",
    "    Return DataArray with \"region\" dimension corresponding to masknames.'''\n",
    "    coords_out = dict(da.coords)\n",
    "    coords_out.pop('xh')\n",
    "    coords_out.pop('yh')\n",
    "    dims_orig = list(coords_out.keys())\n",
    "    coords_out['region']=masknames\n",
    "    da_out = xr.DataArray(dims=coords_out.keys(),coords=coords_out,name=da.name)\n",
    "        \n",
    "    for name,mask in masks.items():\n",
    "        print('region: '+name)\n",
    "        if verbose:\n",
    "            with ProgressBar():\n",
    "                da_out.loc[{'region':name}] = calc_regionalmean(da,mask,grid['areacello']).transpose(*dims_orig)\n",
    "        else:\n",
    "            da_out.loc[{'region':name}] = calc_regionalmean(da,mask,grid['areacello']).transpose(*dims_orig)\n",
    "    return da_out"
   ]
  },
  {
   "cell_type": "markdown",
   "id": "d5308d09-fd03-4a7f-8401-1a0fa19e3a45",
   "metadata": {},
   "source": [
    "### Control"
   ]
  },
  {
   "cell_type": "code",
   "execution_count": 99,
   "id": "57134c1a-f731-4760-bb3b-e254593f41cf",
   "metadata": {},
   "outputs": [
    {
     "name": "stdout",
     "output_type": "stream",
     "text": [
      "region: global\n",
      "[                                        ] | 0% Completed | 111.37 ms"
     ]
    },
    {
     "name": "stderr",
     "output_type": "stream",
     "text": [
      "/home/graemem/.conda/envs/core/lib/python3.10/site-packages/xarray/core/indexing.py:1372: PerformanceWarning: Slicing is producing a large chunk. To accept the large\n",
      "chunk and silence this warning, set the option\n",
      "    >>> with dask.config.set(**{'array.slicing.split_large_chunks': False}):\n",
      "    ...     array[indexer]\n",
      "\n",
      "To avoid creating the large chunks, set the option\n",
      "    >>> with dask.config.set(**{'array.slicing.split_large_chunks': True}):\n",
      "    ...     array[indexer]\n",
      "  return self.array[key]\n"
     ]
    },
    {
     "name": "stdout",
     "output_type": "stream",
     "text": [
      "[########################################] | 100% Completed | 25.85 s\n",
      "region: global_SoP\n",
      "[                                        ] | 0% Completed | 149.64 us"
     ]
    },
    {
     "name": "stderr",
     "output_type": "stream",
     "text": [
      "/home/graemem/.conda/envs/core/lib/python3.10/site-packages/xarray/core/indexing.py:1372: PerformanceWarning: Slicing is producing a large chunk. To accept the large\n",
      "chunk and silence this warning, set the option\n",
      "    >>> with dask.config.set(**{'array.slicing.split_large_chunks': False}):\n",
      "    ...     array[indexer]\n",
      "\n",
      "To avoid creating the large chunks, set the option\n",
      "    >>> with dask.config.set(**{'array.slicing.split_large_chunks': True}):\n",
      "    ...     array[indexer]\n",
      "  return self.array[key]\n"
     ]
    },
    {
     "name": "stdout",
     "output_type": "stream",
     "text": [
      "[########################################] | 100% Completed | 15.17 s\n",
      "region: global_SoSubP\n",
      "[########################################] | 100% Completed | 14.66 s\n",
      "region: global_SoSubT\n",
      "[                                        ] | 0% Completed | 112.24 ms"
     ]
    },
    {
     "name": "stderr",
     "output_type": "stream",
     "text": [
      "/home/graemem/.conda/envs/core/lib/python3.10/site-packages/xarray/core/indexing.py:1378: PerformanceWarning: Slicing is producing a large chunk. To accept the large\n",
      "chunk and silence this warning, set the option\n",
      "    >>> with dask.config.set(**{'array.slicing.split_large_chunks': False}):\n",
      "    ...     array[indexer]\n",
      "\n",
      "To avoid creating the large chunks, set the option\n",
      "    >>> with dask.config.set(**{'array.slicing.split_large_chunks': True}):\n",
      "    ...     array[indexer]\n",
      "  value = value[(slice(None),) * axis + (subkey,)]\n"
     ]
    },
    {
     "name": "stdout",
     "output_type": "stream",
     "text": [
      "[########################################] | 100% Completed | 21.01 s\n",
      "region: global_T\n",
      "[                                        ] | 0% Completed | 112.27 ms"
     ]
    },
    {
     "name": "stderr",
     "output_type": "stream",
     "text": [
      "/home/graemem/.conda/envs/core/lib/python3.10/site-packages/xarray/core/indexing.py:1378: PerformanceWarning: Slicing is producing a large chunk. To accept the large\n",
      "chunk and silence this warning, set the option\n",
      "    >>> with dask.config.set(**{'array.slicing.split_large_chunks': False}):\n",
      "    ...     array[indexer]\n",
      "\n",
      "To avoid creating the large chunks, set the option\n",
      "    >>> with dask.config.set(**{'array.slicing.split_large_chunks': True}):\n",
      "    ...     array[indexer]\n",
      "  value = value[(slice(None),) * axis + (subkey,)]\n"
     ]
    },
    {
     "name": "stdout",
     "output_type": "stream",
     "text": [
      "[########################################] | 100% Completed | 22.21 s\n",
      "region: global_NoSubT\n",
      "[                                        ] | 0% Completed | 112.00 ms"
     ]
    },
    {
     "name": "stderr",
     "output_type": "stream",
     "text": [
      "/home/graemem/.conda/envs/core/lib/python3.10/site-packages/xarray/core/indexing.py:1378: PerformanceWarning: Slicing is producing a large chunk. To accept the large\n",
      "chunk and silence this warning, set the option\n",
      "    >>> with dask.config.set(**{'array.slicing.split_large_chunks': False}):\n",
      "    ...     array[indexer]\n",
      "\n",
      "To avoid creating the large chunks, set the option\n",
      "    >>> with dask.config.set(**{'array.slicing.split_large_chunks': True}):\n",
      "    ...     array[indexer]\n",
      "  value = value[(slice(None),) * axis + (subkey,)]\n"
     ]
    },
    {
     "name": "stdout",
     "output_type": "stream",
     "text": [
      "[########################################] | 100% Completed | 20.41 s\n",
      "region: global_NoSubP\n",
      "[                                        ] | 0% Completed | 112.36 ms"
     ]
    },
    {
     "name": "stderr",
     "output_type": "stream",
     "text": [
      "/home/graemem/.conda/envs/core/lib/python3.10/site-packages/xarray/core/indexing.py:1378: PerformanceWarning: Slicing is producing a large chunk. To accept the large\n",
      "chunk and silence this warning, set the option\n",
      "    >>> with dask.config.set(**{'array.slicing.split_large_chunks': False}):\n",
      "    ...     array[indexer]\n",
      "\n",
      "To avoid creating the large chunks, set the option\n",
      "    >>> with dask.config.set(**{'array.slicing.split_large_chunks': True}):\n",
      "    ...     array[indexer]\n",
      "  value = value[(slice(None),) * axis + (subkey,)]\n"
     ]
    },
    {
     "name": "stdout",
     "output_type": "stream",
     "text": [
      "[########################################] | 100% Completed | 18.50 s\n",
      "region: global_NoP\n"
     ]
    },
    {
     "name": "stderr",
     "output_type": "stream",
     "text": [
      "/home/graemem/.conda/envs/core/lib/python3.10/site-packages/xarray/core/indexing.py:1378: PerformanceWarning: Slicing is producing a large chunk. To accept the large\n",
      "chunk and silence this warning, set the option\n",
      "    >>> with dask.config.set(**{'array.slicing.split_large_chunks': False}):\n",
      "    ...     array[indexer]\n",
      "\n",
      "To avoid creating the large chunks, set the option\n",
      "    >>> with dask.config.set(**{'array.slicing.split_large_chunks': True}):\n",
      "    ...     array[indexer]\n",
      "  value = value[(slice(None),) * axis + (subkey,)]\n"
     ]
    },
    {
     "name": "stdout",
     "output_type": "stream",
     "text": [
      "[########################################] | 100% Completed | 22.32 s\n",
      "region: southern\n",
      "[                                        ] | 0% Completed | 111.83 ms"
     ]
    },
    {
     "name": "stderr",
     "output_type": "stream",
     "text": [
      "/home/graemem/.conda/envs/core/lib/python3.10/site-packages/xarray/core/indexing.py:1372: PerformanceWarning: Slicing is producing a large chunk. To accept the large\n",
      "chunk and silence this warning, set the option\n",
      "    >>> with dask.config.set(**{'array.slicing.split_large_chunks': False}):\n",
      "    ...     array[indexer]\n",
      "\n",
      "To avoid creating the large chunks, set the option\n",
      "    >>> with dask.config.set(**{'array.slicing.split_large_chunks': True}):\n",
      "    ...     array[indexer]\n",
      "  return self.array[key]\n"
     ]
    },
    {
     "name": "stdout",
     "output_type": "stream",
     "text": [
      "[########################################] | 100% Completed | 19.50 s\n",
      "region: southern_SoP\n",
      "[                                        ] | 0% Completed | 111.64 ms"
     ]
    },
    {
     "name": "stderr",
     "output_type": "stream",
     "text": [
      "/home/graemem/.conda/envs/core/lib/python3.10/site-packages/xarray/core/indexing.py:1372: PerformanceWarning: Slicing is producing a large chunk. To accept the large\n",
      "chunk and silence this warning, set the option\n",
      "    >>> with dask.config.set(**{'array.slicing.split_large_chunks': False}):\n",
      "    ...     array[indexer]\n",
      "\n",
      "To avoid creating the large chunks, set the option\n",
      "    >>> with dask.config.set(**{'array.slicing.split_large_chunks': True}):\n",
      "    ...     array[indexer]\n",
      "  return self.array[key]\n"
     ]
    },
    {
     "name": "stdout",
     "output_type": "stream",
     "text": [
      "[########################################] | 100% Completed | 14.77 s\n",
      "region: southern_SoSubP\n",
      "[########################################] | 100% Completed | 23.43 s\n",
      "region: southern_SoSubT\n",
      "[                                        ] | 0% Completed | 112.54 ms"
     ]
    },
    {
     "name": "stderr",
     "output_type": "stream",
     "text": [
      "/home/graemem/.conda/envs/core/lib/python3.10/site-packages/xarray/core/indexing.py:1378: PerformanceWarning: Slicing is producing a large chunk. To accept the large\n",
      "chunk and silence this warning, set the option\n",
      "    >>> with dask.config.set(**{'array.slicing.split_large_chunks': False}):\n",
      "    ...     array[indexer]\n",
      "\n",
      "To avoid creating the large chunks, set the option\n",
      "    >>> with dask.config.set(**{'array.slicing.split_large_chunks': True}):\n",
      "    ...     array[indexer]\n",
      "  value = value[(slice(None),) * axis + (subkey,)]\n"
     ]
    },
    {
     "name": "stdout",
     "output_type": "stream",
     "text": [
      "[########################################] | 100% Completed | 20.44 s\n",
      "region: southern_pacific\n",
      "[                                        ] | 0% Completed | 112.51 ms"
     ]
    },
    {
     "name": "stderr",
     "output_type": "stream",
     "text": [
      "/home/graemem/.conda/envs/core/lib/python3.10/site-packages/xarray/core/indexing.py:1378: PerformanceWarning: Slicing is producing a large chunk. To accept the large\n",
      "chunk and silence this warning, set the option\n",
      "    >>> with dask.config.set(**{'array.slicing.split_large_chunks': False}):\n",
      "    ...     array[indexer]\n",
      "\n",
      "To avoid creating the large chunks, set the option\n",
      "    >>> with dask.config.set(**{'array.slicing.split_large_chunks': True}):\n",
      "    ...     array[indexer]\n",
      "  value = value[(slice(None),) * axis + (subkey,)]\n"
     ]
    },
    {
     "name": "stdout",
     "output_type": "stream",
     "text": [
      "[########################################] | 100% Completed | 18.70 s\n",
      "region: southern_atlantic\n",
      "[                                        ] | 0% Completed | 110.86 ms"
     ]
    },
    {
     "name": "stderr",
     "output_type": "stream",
     "text": [
      "/home/graemem/.conda/envs/core/lib/python3.10/site-packages/xarray/core/indexing.py:1378: PerformanceWarning: Slicing is producing a large chunk. To accept the large\n",
      "chunk and silence this warning, set the option\n",
      "    >>> with dask.config.set(**{'array.slicing.split_large_chunks': False}):\n",
      "    ...     array[indexer]\n",
      "\n",
      "To avoid creating the large chunks, set the option\n",
      "    >>> with dask.config.set(**{'array.slicing.split_large_chunks': True}):\n",
      "    ...     array[indexer]\n",
      "  value = value[(slice(None),) * axis + (subkey,)]\n"
     ]
    },
    {
     "name": "stdout",
     "output_type": "stream",
     "text": [
      "[########################################] | 100% Completed | 17.46 s\n",
      "region: southern_indian\n",
      "[                                        ] | 0% Completed | 112.43 ms"
     ]
    },
    {
     "name": "stderr",
     "output_type": "stream",
     "text": [
      "/home/graemem/.conda/envs/core/lib/python3.10/site-packages/xarray/core/indexing.py:1378: PerformanceWarning: Slicing is producing a large chunk. To accept the large\n",
      "chunk and silence this warning, set the option\n",
      "    >>> with dask.config.set(**{'array.slicing.split_large_chunks': False}):\n",
      "    ...     array[indexer]\n",
      "\n",
      "To avoid creating the large chunks, set the option\n",
      "    >>> with dask.config.set(**{'array.slicing.split_large_chunks': True}):\n",
      "    ...     array[indexer]\n",
      "  value = value[(slice(None),) * axis + (subkey,)]\n"
     ]
    },
    {
     "name": "stdout",
     "output_type": "stream",
     "text": [
      "[########################################] | 100% Completed | 17.77 s\n",
      "region: atlantic\n",
      "[                                        ] | 0% Completed | 111.63 ms"
     ]
    },
    {
     "name": "stderr",
     "output_type": "stream",
     "text": [
      "/home/graemem/.conda/envs/core/lib/python3.10/site-packages/xarray/core/indexing.py:1378: PerformanceWarning: Slicing is producing a large chunk. To accept the large\n",
      "chunk and silence this warning, set the option\n",
      "    >>> with dask.config.set(**{'array.slicing.split_large_chunks': False}):\n",
      "    ...     array[indexer]\n",
      "\n",
      "To avoid creating the large chunks, set the option\n",
      "    >>> with dask.config.set(**{'array.slicing.split_large_chunks': True}):\n",
      "    ...     array[indexer]\n",
      "  value = value[(slice(None),) * axis + (subkey,)]\n"
     ]
    },
    {
     "name": "stdout",
     "output_type": "stream",
     "text": [
      "[########################################] | 100% Completed | 18.04 s\n",
      "region: atlantic_SoSubT\n",
      "[                                        ] | 0% Completed | 112.19 ms"
     ]
    },
    {
     "name": "stderr",
     "output_type": "stream",
     "text": [
      "/home/graemem/.conda/envs/core/lib/python3.10/site-packages/xarray/core/indexing.py:1378: PerformanceWarning: Slicing is producing a large chunk. To accept the large\n",
      "chunk and silence this warning, set the option\n",
      "    >>> with dask.config.set(**{'array.slicing.split_large_chunks': False}):\n",
      "    ...     array[indexer]\n",
      "\n",
      "To avoid creating the large chunks, set the option\n",
      "    >>> with dask.config.set(**{'array.slicing.split_large_chunks': True}):\n",
      "    ...     array[indexer]\n",
      "  value = value[(slice(None),) * axis + (subkey,)]\n"
     ]
    },
    {
     "name": "stdout",
     "output_type": "stream",
     "text": [
      "[########################################] | 100% Completed | 15.66 s\n",
      "region: atlantic_T\n",
      "[                                        ] | 0% Completed | 112.47 ms"
     ]
    },
    {
     "name": "stderr",
     "output_type": "stream",
     "text": [
      "/home/graemem/.conda/envs/core/lib/python3.10/site-packages/xarray/core/indexing.py:1378: PerformanceWarning: Slicing is producing a large chunk. To accept the large\n",
      "chunk and silence this warning, set the option\n",
      "    >>> with dask.config.set(**{'array.slicing.split_large_chunks': False}):\n",
      "    ...     array[indexer]\n",
      "\n",
      "To avoid creating the large chunks, set the option\n",
      "    >>> with dask.config.set(**{'array.slicing.split_large_chunks': True}):\n",
      "    ...     array[indexer]\n",
      "  value = value[(slice(None),) * axis + (subkey,)]\n"
     ]
    },
    {
     "name": "stdout",
     "output_type": "stream",
     "text": [
      "[########################################] | 100% Completed | 16.81 s\n",
      "region: atlantic_NoSubT\n",
      "[                                        ] | 0% Completed | 111.10 ms"
     ]
    },
    {
     "name": "stderr",
     "output_type": "stream",
     "text": [
      "/home/graemem/.conda/envs/core/lib/python3.10/site-packages/xarray/core/indexing.py:1378: PerformanceWarning: Slicing is producing a large chunk. To accept the large\n",
      "chunk and silence this warning, set the option\n",
      "    >>> with dask.config.set(**{'array.slicing.split_large_chunks': False}):\n",
      "    ...     array[indexer]\n",
      "\n",
      "To avoid creating the large chunks, set the option\n",
      "    >>> with dask.config.set(**{'array.slicing.split_large_chunks': True}):\n",
      "    ...     array[indexer]\n",
      "  value = value[(slice(None),) * axis + (subkey,)]\n"
     ]
    },
    {
     "name": "stdout",
     "output_type": "stream",
     "text": [
      "[########################################] | 100% Completed | 16.41 s\n",
      "region: atlantic_NoSubP\n",
      "[                                        ] | 0% Completed | 112.25 ms"
     ]
    },
    {
     "name": "stderr",
     "output_type": "stream",
     "text": [
      "/home/graemem/.conda/envs/core/lib/python3.10/site-packages/xarray/core/indexing.py:1378: PerformanceWarning: Slicing is producing a large chunk. To accept the large\n",
      "chunk and silence this warning, set the option\n",
      "    >>> with dask.config.set(**{'array.slicing.split_large_chunks': False}):\n",
      "    ...     array[indexer]\n",
      "\n",
      "To avoid creating the large chunks, set the option\n",
      "    >>> with dask.config.set(**{'array.slicing.split_large_chunks': True}):\n",
      "    ...     array[indexer]\n",
      "  value = value[(slice(None),) * axis + (subkey,)]\n"
     ]
    },
    {
     "name": "stdout",
     "output_type": "stream",
     "text": [
      "[########################################] | 100% Completed | 15.65 s\n",
      "region: atlantic_NoP\n",
      "[                                        ] | 0% Completed | 112.00 ms"
     ]
    },
    {
     "name": "stderr",
     "output_type": "stream",
     "text": [
      "/home/graemem/.conda/envs/core/lib/python3.10/site-packages/xarray/core/indexing.py:1378: PerformanceWarning: Slicing is producing a large chunk. To accept the large\n",
      "chunk and silence this warning, set the option\n",
      "    >>> with dask.config.set(**{'array.slicing.split_large_chunks': False}):\n",
      "    ...     array[indexer]\n",
      "\n",
      "To avoid creating the large chunks, set the option\n",
      "    >>> with dask.config.set(**{'array.slicing.split_large_chunks': True}):\n",
      "    ...     array[indexer]\n",
      "  value = value[(slice(None),) * axis + (subkey,)]\n"
     ]
    },
    {
     "name": "stdout",
     "output_type": "stream",
     "text": [
      "[########################################] | 100% Completed | 16.00 s\n",
      "region: pacific\n",
      "[                                        ] | 0% Completed | 111.81 ms"
     ]
    },
    {
     "name": "stderr",
     "output_type": "stream",
     "text": [
      "/home/graemem/.conda/envs/core/lib/python3.10/site-packages/xarray/core/indexing.py:1378: PerformanceWarning: Slicing is producing a large chunk. To accept the large\n",
      "chunk and silence this warning, set the option\n",
      "    >>> with dask.config.set(**{'array.slicing.split_large_chunks': False}):\n",
      "    ...     array[indexer]\n",
      "\n",
      "To avoid creating the large chunks, set the option\n",
      "    >>> with dask.config.set(**{'array.slicing.split_large_chunks': True}):\n",
      "    ...     array[indexer]\n",
      "  value = value[(slice(None),) * axis + (subkey,)]\n"
     ]
    },
    {
     "name": "stdout",
     "output_type": "stream",
     "text": [
      "[########################################] | 100% Completed | 20.30 s\n",
      "region: pacific_SoSubT\n",
      "[                                        ] | 0% Completed | 112.47 ms"
     ]
    },
    {
     "name": "stderr",
     "output_type": "stream",
     "text": [
      "/home/graemem/.conda/envs/core/lib/python3.10/site-packages/xarray/core/indexing.py:1378: PerformanceWarning: Slicing is producing a large chunk. To accept the large\n",
      "chunk and silence this warning, set the option\n",
      "    >>> with dask.config.set(**{'array.slicing.split_large_chunks': False}):\n",
      "    ...     array[indexer]\n",
      "\n",
      "To avoid creating the large chunks, set the option\n",
      "    >>> with dask.config.set(**{'array.slicing.split_large_chunks': True}):\n",
      "    ...     array[indexer]\n",
      "  value = value[(slice(None),) * axis + (subkey,)]\n"
     ]
    },
    {
     "name": "stdout",
     "output_type": "stream",
     "text": [
      "[########################################] | 100% Completed | 18.23 s\n",
      "region: pacific_T\n",
      "[                                        ] | 0% Completed | 111.96 ms"
     ]
    },
    {
     "name": "stderr",
     "output_type": "stream",
     "text": [
      "/home/graemem/.conda/envs/core/lib/python3.10/site-packages/xarray/core/indexing.py:1378: PerformanceWarning: Slicing is producing a large chunk. To accept the large\n",
      "chunk and silence this warning, set the option\n",
      "    >>> with dask.config.set(**{'array.slicing.split_large_chunks': False}):\n",
      "    ...     array[indexer]\n",
      "\n",
      "To avoid creating the large chunks, set the option\n",
      "    >>> with dask.config.set(**{'array.slicing.split_large_chunks': True}):\n",
      "    ...     array[indexer]\n",
      "  value = value[(slice(None),) * axis + (subkey,)]\n"
     ]
    },
    {
     "name": "stdout",
     "output_type": "stream",
     "text": [
      "[########################################] | 100% Completed | 19.14 s\n",
      "region: pacific_NoSubT\n",
      "[                                        ] | 0% Completed | 111.77 ms"
     ]
    },
    {
     "name": "stderr",
     "output_type": "stream",
     "text": [
      "/home/graemem/.conda/envs/core/lib/python3.10/site-packages/xarray/core/indexing.py:1378: PerformanceWarning: Slicing is producing a large chunk. To accept the large\n",
      "chunk and silence this warning, set the option\n",
      "    >>> with dask.config.set(**{'array.slicing.split_large_chunks': False}):\n",
      "    ...     array[indexer]\n",
      "\n",
      "To avoid creating the large chunks, set the option\n",
      "    >>> with dask.config.set(**{'array.slicing.split_large_chunks': True}):\n",
      "    ...     array[indexer]\n",
      "  value = value[(slice(None),) * axis + (subkey,)]\n"
     ]
    },
    {
     "name": "stdout",
     "output_type": "stream",
     "text": [
      "[########################################] | 100% Completed | 19.39 s\n",
      "region: pacific_NoSubP\n",
      "[                                        ] | 0% Completed | 111.51 ms"
     ]
    },
    {
     "name": "stderr",
     "output_type": "stream",
     "text": [
      "/home/graemem/.conda/envs/core/lib/python3.10/site-packages/xarray/core/indexing.py:1378: PerformanceWarning: Slicing is producing a large chunk. To accept the large\n",
      "chunk and silence this warning, set the option\n",
      "    >>> with dask.config.set(**{'array.slicing.split_large_chunks': False}):\n",
      "    ...     array[indexer]\n",
      "\n",
      "To avoid creating the large chunks, set the option\n",
      "    >>> with dask.config.set(**{'array.slicing.split_large_chunks': True}):\n",
      "    ...     array[indexer]\n",
      "  value = value[(slice(None),) * axis + (subkey,)]\n"
     ]
    },
    {
     "name": "stdout",
     "output_type": "stream",
     "text": [
      "[########################################] | 100% Completed | 17.32 s\n",
      "region: pacific_NoP\n",
      "[                                        ] | 0% Completed | 113.17 ms"
     ]
    },
    {
     "name": "stderr",
     "output_type": "stream",
     "text": [
      "/home/graemem/.conda/envs/core/lib/python3.10/site-packages/xarray/core/indexing.py:1378: PerformanceWarning: Slicing is producing a large chunk. To accept the large\n",
      "chunk and silence this warning, set the option\n",
      "    >>> with dask.config.set(**{'array.slicing.split_large_chunks': False}):\n",
      "    ...     array[indexer]\n",
      "\n",
      "To avoid creating the large chunks, set the option\n",
      "    >>> with dask.config.set(**{'array.slicing.split_large_chunks': True}):\n",
      "    ...     array[indexer]\n",
      "  value = value[(slice(None),) * axis + (subkey,)]\n"
     ]
    },
    {
     "name": "stdout",
     "output_type": "stream",
     "text": [
      "[########################################] | 100% Completed | 15.62 s\n",
      "region: arctic\n",
      "[                                        ] | 0% Completed | 112.07 ms"
     ]
    },
    {
     "name": "stderr",
     "output_type": "stream",
     "text": [
      "/home/graemem/.conda/envs/core/lib/python3.10/site-packages/xarray/core/indexing.py:1378: PerformanceWarning: Slicing is producing a large chunk. To accept the large\n",
      "chunk and silence this warning, set the option\n",
      "    >>> with dask.config.set(**{'array.slicing.split_large_chunks': False}):\n",
      "    ...     array[indexer]\n",
      "\n",
      "To avoid creating the large chunks, set the option\n",
      "    >>> with dask.config.set(**{'array.slicing.split_large_chunks': True}):\n",
      "    ...     array[indexer]\n",
      "  value = value[(slice(None),) * axis + (subkey,)]\n"
     ]
    },
    {
     "name": "stdout",
     "output_type": "stream",
     "text": [
      "[########################################] | 100% Completed | 38.01 s\n",
      "region: arctic_NoP\n",
      "[                                        ] | 0% Completed | 111.22 ms"
     ]
    },
    {
     "name": "stderr",
     "output_type": "stream",
     "text": [
      "/home/graemem/.conda/envs/core/lib/python3.10/site-packages/xarray/core/indexing.py:1378: PerformanceWarning: Slicing is producing a large chunk. To accept the large\n",
      "chunk and silence this warning, set the option\n",
      "    >>> with dask.config.set(**{'array.slicing.split_large_chunks': False}):\n",
      "    ...     array[indexer]\n",
      "\n",
      "To avoid creating the large chunks, set the option\n",
      "    >>> with dask.config.set(**{'array.slicing.split_large_chunks': True}):\n",
      "    ...     array[indexer]\n",
      "  value = value[(slice(None),) * axis + (subkey,)]\n"
     ]
    },
    {
     "name": "stdout",
     "output_type": "stream",
     "text": [
      "[########################################] | 100% Completed | 24.44 s\n",
      "region: arctic_pacific\n",
      "[                                        ] | 0% Completed | 121.05 ms"
     ]
    },
    {
     "name": "stderr",
     "output_type": "stream",
     "text": [
      "/home/graemem/.conda/envs/core/lib/python3.10/site-packages/xarray/core/indexing.py:1378: PerformanceWarning: Slicing is producing a large chunk. To accept the large\n",
      "chunk and silence this warning, set the option\n",
      "    >>> with dask.config.set(**{'array.slicing.split_large_chunks': False}):\n",
      "    ...     array[indexer]\n",
      "\n",
      "To avoid creating the large chunks, set the option\n",
      "    >>> with dask.config.set(**{'array.slicing.split_large_chunks': True}):\n",
      "    ...     array[indexer]\n",
      "  value = value[(slice(None),) * axis + (subkey,)]\n"
     ]
    },
    {
     "name": "stdout",
     "output_type": "stream",
     "text": [
      "[########################################] | 100% Completed | 28.88 s\n",
      "region: arctic_atlantic\n",
      "[                                        ] | 0% Completed | 120.54 ms"
     ]
    },
    {
     "name": "stderr",
     "output_type": "stream",
     "text": [
      "/home/graemem/.conda/envs/core/lib/python3.10/site-packages/xarray/core/indexing.py:1378: PerformanceWarning: Slicing is producing a large chunk. To accept the large\n",
      "chunk and silence this warning, set the option\n",
      "    >>> with dask.config.set(**{'array.slicing.split_large_chunks': False}):\n",
      "    ...     array[indexer]\n",
      "\n",
      "To avoid creating the large chunks, set the option\n",
      "    >>> with dask.config.set(**{'array.slicing.split_large_chunks': True}):\n",
      "    ...     array[indexer]\n",
      "  value = value[(slice(None),) * axis + (subkey,)]\n"
     ]
    },
    {
     "name": "stdout",
     "output_type": "stream",
     "text": [
      "[########################################] | 100% Completed | 19.77 s\n",
      "region: indian\n",
      "[                                        ] | 0% Completed | 121.80 ms"
     ]
    },
    {
     "name": "stderr",
     "output_type": "stream",
     "text": [
      "/home/graemem/.conda/envs/core/lib/python3.10/site-packages/xarray/core/indexing.py:1378: PerformanceWarning: Slicing is producing a large chunk. To accept the large\n",
      "chunk and silence this warning, set the option\n",
      "    >>> with dask.config.set(**{'array.slicing.split_large_chunks': False}):\n",
      "    ...     array[indexer]\n",
      "\n",
      "To avoid creating the large chunks, set the option\n",
      "    >>> with dask.config.set(**{'array.slicing.split_large_chunks': True}):\n",
      "    ...     array[indexer]\n",
      "  value = value[(slice(None),) * axis + (subkey,)]\n"
     ]
    },
    {
     "name": "stdout",
     "output_type": "stream",
     "text": [
      "[########################################] | 100% Completed | 16.12 s\n",
      "region: indian_SoSubT\n",
      "[                                        ] | 0% Completed | 112.23 ms"
     ]
    },
    {
     "name": "stderr",
     "output_type": "stream",
     "text": [
      "/home/graemem/.conda/envs/core/lib/python3.10/site-packages/xarray/core/indexing.py:1378: PerformanceWarning: Slicing is producing a large chunk. To accept the large\n",
      "chunk and silence this warning, set the option\n",
      "    >>> with dask.config.set(**{'array.slicing.split_large_chunks': False}):\n",
      "    ...     array[indexer]\n",
      "\n",
      "To avoid creating the large chunks, set the option\n",
      "    >>> with dask.config.set(**{'array.slicing.split_large_chunks': True}):\n",
      "    ...     array[indexer]\n",
      "  value = value[(slice(None),) * axis + (subkey,)]\n"
     ]
    },
    {
     "name": "stdout",
     "output_type": "stream",
     "text": [
      "[########################################] | 100% Completed | 16.09 s\n",
      "region: indian_T\n",
      "[                                        ] | 0% Completed | 111.88 ms"
     ]
    },
    {
     "name": "stderr",
     "output_type": "stream",
     "text": [
      "/home/graemem/.conda/envs/core/lib/python3.10/site-packages/xarray/core/indexing.py:1378: PerformanceWarning: Slicing is producing a large chunk. To accept the large\n",
      "chunk and silence this warning, set the option\n",
      "    >>> with dask.config.set(**{'array.slicing.split_large_chunks': False}):\n",
      "    ...     array[indexer]\n",
      "\n",
      "To avoid creating the large chunks, set the option\n",
      "    >>> with dask.config.set(**{'array.slicing.split_large_chunks': True}):\n",
      "    ...     array[indexer]\n",
      "  value = value[(slice(None),) * axis + (subkey,)]\n"
     ]
    },
    {
     "name": "stdout",
     "output_type": "stream",
     "text": [
      "[########################################] | 100% Completed | 15.62 s\n",
      "region: indian_NoSubT\n",
      "[########################################] | 100% Completed | 14.76 s\n",
      "region: mediterranean\n",
      "[########################################] | 100% Completed | 13.91 s\n",
      "region: mediterranean_NoSubT\n",
      "[########################################] | 100% Completed | 14.86 s\n",
      "region: mediterranean_NoSubP\n",
      "[########################################] | 100% Completed | 12.75 s\n",
      "region: black\n",
      "[########################################] | 100% Completed | 13.85 s\n",
      "region: black_NoSubT\n",
      "[########################################] | 100% Completed | 13.55 s\n",
      "region: black_NoSubP\n",
      "[########################################] | 100% Completed | 14.06 s\n",
      "region: hudson\n",
      "[########################################] | 100% Completed | 14.24 s\n",
      "region: hudson_NoSubP\n",
      "[########################################] | 100% Completed | 14.09 s\n",
      "region: hudson_NoP\n",
      "[########################################] | 100% Completed | 14.44 s\n",
      "region: baltic\n",
      "[########################################] | 100% Completed | 13.99 s\n",
      "region: baltic_NoSubP\n",
      "[########################################] | 100% Completed | 14.33 s\n",
      "region: baltic_NoP\n",
      "[########################################] | 100% Completed | 15.07 s\n",
      "region: red\n",
      "[########################################] | 100% Completed | 14.24 s\n",
      "region: red_T\n",
      "[########################################] | 100% Completed | 22.04 s\n",
      "region: red_NoSubT\n",
      "[########################################] | 100% Completed | 15.61 s\n",
      "region: pacific_global\n",
      "[                                        ] | 0% Completed | 120.45 ms"
     ]
    },
    {
     "name": "stderr",
     "output_type": "stream",
     "text": [
      "/home/graemem/.conda/envs/core/lib/python3.10/site-packages/xarray/core/indexing.py:1378: PerformanceWarning: Slicing is producing a large chunk. To accept the large\n",
      "chunk and silence this warning, set the option\n",
      "    >>> with dask.config.set(**{'array.slicing.split_large_chunks': False}):\n",
      "    ...     array[indexer]\n",
      "\n",
      "To avoid creating the large chunks, set the option\n",
      "    >>> with dask.config.set(**{'array.slicing.split_large_chunks': True}):\n",
      "    ...     array[indexer]\n",
      "  value = value[(slice(None),) * axis + (subkey,)]\n"
     ]
    },
    {
     "name": "stdout",
     "output_type": "stream",
     "text": [
      "[########################################] | 100% Completed | 26.60 s\n",
      "region: atlantic_global\n",
      "[                                        ] | 0% Completed | 121.97 ms"
     ]
    },
    {
     "name": "stderr",
     "output_type": "stream",
     "text": [
      "/home/graemem/.conda/envs/core/lib/python3.10/site-packages/xarray/core/indexing.py:1378: PerformanceWarning: Slicing is producing a large chunk. To accept the large\n",
      "chunk and silence this warning, set the option\n",
      "    >>> with dask.config.set(**{'array.slicing.split_large_chunks': False}):\n",
      "    ...     array[indexer]\n",
      "\n",
      "To avoid creating the large chunks, set the option\n",
      "    >>> with dask.config.set(**{'array.slicing.split_large_chunks': True}):\n",
      "    ...     array[indexer]\n",
      "  value = value[(slice(None),) * axis + (subkey,)]\n"
     ]
    },
    {
     "name": "stdout",
     "output_type": "stream",
     "text": [
      "[########################################] | 100% Completed | 26.16 s\n",
      "region: indian_global\n",
      "[                                        ] | 0% Completed | 116.52 ms"
     ]
    },
    {
     "name": "stderr",
     "output_type": "stream",
     "text": [
      "/home/graemem/.conda/envs/core/lib/python3.10/site-packages/xarray/core/indexing.py:1378: PerformanceWarning: Slicing is producing a large chunk. To accept the large\n",
      "chunk and silence this warning, set the option\n",
      "    >>> with dask.config.set(**{'array.slicing.split_large_chunks': False}):\n",
      "    ...     array[indexer]\n",
      "\n",
      "To avoid creating the large chunks, set the option\n",
      "    >>> with dask.config.set(**{'array.slicing.split_large_chunks': True}):\n",
      "    ...     array[indexer]\n",
      "  value = value[(slice(None),) * axis + (subkey,)]\n"
     ]
    },
    {
     "name": "stdout",
     "output_type": "stream",
     "text": [
      "[########################################] | 100% Completed | 17.99 s\n",
      "Saving sos.monthly.control.regionalmeans.nc\n"
     ]
    }
   ],
   "source": [
    "da = control[variable]\n",
    "da_out = calc_regionalmean_all(da,masks,grid['areacello'],verbose=True)\n",
    "\n",
    "timestr = 'control'\n",
    "savefilename = '.'.join([variable,frequency,timestr,'regionalmeans','nc'])\n",
    "print('Saving '+savefilename)\n",
    "with ProgressBar():\n",
    "    da_out.to_netcdf(savedir+savefilename,mode='w')"
   ]
  },
  {
   "cell_type": "markdown",
   "id": "cc17f595-197a-460e-8d01-6d90e34fc214",
   "metadata": {},
   "source": [
    "### Ensembles"
   ]
  },
  {
   "cell_type": "code",
   "execution_count": 88,
   "id": "f2d04004-f3da-4385-ac22-8cf721b21104",
   "metadata": {},
   "outputs": [
    {
     "name": "stdout",
     "output_type": "stream",
     "text": [
      "global\n",
      "[                                        ] | 0% Completed | 122.02 ms"
     ]
    },
    {
     "name": "stderr",
     "output_type": "stream",
     "text": [
      "/home/graemem/.conda/envs/core/lib/python3.10/site-packages/xarray/core/indexing.py:1372: PerformanceWarning: Slicing is producing a large chunk. To accept the large\n",
      "chunk and silence this warning, set the option\n",
      "    >>> with dask.config.set(**{'array.slicing.split_large_chunks': False}):\n",
      "    ...     array[indexer]\n",
      "\n",
      "To avoid creating the large chunks, set the option\n",
      "    >>> with dask.config.set(**{'array.slicing.split_large_chunks': True}):\n",
      "    ...     array[indexer]\n",
      "  return self.array[key]\n"
     ]
    },
    {
     "name": "stdout",
     "output_type": "stream",
     "text": [
      "[########################################] | 100% Completed | 7.08 sms\n",
      "global_SoP\n",
      "[########################################] | 100% Completed | 3.95 sms\n",
      "global_SoSubP\n",
      "[########################################] | 100% Completed | 3.73 sms\n",
      "global_SoSubT\n",
      "[                                        ] | 0% Completed | 121.96 ms"
     ]
    },
    {
     "name": "stderr",
     "output_type": "stream",
     "text": [
      "/home/graemem/.conda/envs/core/lib/python3.10/site-packages/xarray/core/indexing.py:1378: PerformanceWarning: Slicing is producing a large chunk. To accept the large\n",
      "chunk and silence this warning, set the option\n",
      "    >>> with dask.config.set(**{'array.slicing.split_large_chunks': False}):\n",
      "    ...     array[indexer]\n",
      "\n",
      "To avoid creating the large chunks, set the option\n",
      "    >>> with dask.config.set(**{'array.slicing.split_large_chunks': True}):\n",
      "    ...     array[indexer]\n",
      "  value = value[(slice(None),) * axis + (subkey,)]\n"
     ]
    },
    {
     "name": "stdout",
     "output_type": "stream",
     "text": [
      "[########################################] | 100% Completed | 5.87 sms\n",
      "global_T\n",
      "[                                        ] | 0% Completed | 109.48 ms"
     ]
    },
    {
     "name": "stderr",
     "output_type": "stream",
     "text": [
      "/home/graemem/.conda/envs/core/lib/python3.10/site-packages/xarray/core/indexing.py:1378: PerformanceWarning: Slicing is producing a large chunk. To accept the large\n",
      "chunk and silence this warning, set the option\n",
      "    >>> with dask.config.set(**{'array.slicing.split_large_chunks': False}):\n",
      "    ...     array[indexer]\n",
      "\n",
      "To avoid creating the large chunks, set the option\n",
      "    >>> with dask.config.set(**{'array.slicing.split_large_chunks': True}):\n",
      "    ...     array[indexer]\n",
      "  value = value[(slice(None),) * axis + (subkey,)]\n"
     ]
    },
    {
     "name": "stdout",
     "output_type": "stream",
     "text": [
      "[########################################] | 100% Completed | 6.29 sms\n",
      "global_NoSubT\n",
      "[                                        ] | 0% Completed | 121.27 ms"
     ]
    },
    {
     "name": "stderr",
     "output_type": "stream",
     "text": [
      "/home/graemem/.conda/envs/core/lib/python3.10/site-packages/xarray/core/indexing.py:1378: PerformanceWarning: Slicing is producing a large chunk. To accept the large\n",
      "chunk and silence this warning, set the option\n",
      "    >>> with dask.config.set(**{'array.slicing.split_large_chunks': False}):\n",
      "    ...     array[indexer]\n",
      "\n",
      "To avoid creating the large chunks, set the option\n",
      "    >>> with dask.config.set(**{'array.slicing.split_large_chunks': True}):\n",
      "    ...     array[indexer]\n",
      "  value = value[(slice(None),) * axis + (subkey,)]\n"
     ]
    },
    {
     "name": "stdout",
     "output_type": "stream",
     "text": [
      "[########################################] | 100% Completed | 5.76 sms\n",
      "global_NoSubP\n",
      "[                                        ] | 0% Completed | 120.76 ms"
     ]
    },
    {
     "name": "stderr",
     "output_type": "stream",
     "text": [
      "/home/graemem/.conda/envs/core/lib/python3.10/site-packages/xarray/core/indexing.py:1378: PerformanceWarning: Slicing is producing a large chunk. To accept the large\n",
      "chunk and silence this warning, set the option\n",
      "    >>> with dask.config.set(**{'array.slicing.split_large_chunks': False}):\n",
      "    ...     array[indexer]\n",
      "\n",
      "To avoid creating the large chunks, set the option\n",
      "    >>> with dask.config.set(**{'array.slicing.split_large_chunks': True}):\n",
      "    ...     array[indexer]\n",
      "  value = value[(slice(None),) * axis + (subkey,)]\n"
     ]
    },
    {
     "name": "stdout",
     "output_type": "stream",
     "text": [
      "[########################################] | 100% Completed | 5.01 sms\n",
      "global_NoP\n",
      "[                                        ] | 0% Completed | 110.92 ms"
     ]
    },
    {
     "name": "stderr",
     "output_type": "stream",
     "text": [
      "/home/graemem/.conda/envs/core/lib/python3.10/site-packages/xarray/core/indexing.py:1378: PerformanceWarning: Slicing is producing a large chunk. To accept the large\n",
      "chunk and silence this warning, set the option\n",
      "    >>> with dask.config.set(**{'array.slicing.split_large_chunks': False}):\n",
      "    ...     array[indexer]\n",
      "\n",
      "To avoid creating the large chunks, set the option\n",
      "    >>> with dask.config.set(**{'array.slicing.split_large_chunks': True}):\n",
      "    ...     array[indexer]\n",
      "  value = value[(slice(None),) * axis + (subkey,)]\n"
     ]
    },
    {
     "name": "stdout",
     "output_type": "stream",
     "text": [
      "[########################################] | 100% Completed | 6.28 sms\n",
      "southern\n",
      "[########################################] | 100% Completed | 4.37 sms\n",
      "southern_SoP\n",
      "[########################################] | 100% Completed | 3.94 sms\n",
      "southern_SoSubP\n",
      "[########################################] | 100% Completed | 3.72 sms\n",
      "southern_SoSubT\n",
      "[                                        ] | 0% Completed | 121.84 ms"
     ]
    },
    {
     "name": "stderr",
     "output_type": "stream",
     "text": [
      "/home/graemem/.conda/envs/core/lib/python3.10/site-packages/xarray/core/indexing.py:1378: PerformanceWarning: Slicing is producing a large chunk. To accept the large\n",
      "chunk and silence this warning, set the option\n",
      "    >>> with dask.config.set(**{'array.slicing.split_large_chunks': False}):\n",
      "    ...     array[indexer]\n",
      "\n",
      "To avoid creating the large chunks, set the option\n",
      "    >>> with dask.config.set(**{'array.slicing.split_large_chunks': True}):\n",
      "    ...     array[indexer]\n",
      "  value = value[(slice(None),) * axis + (subkey,)]\n"
     ]
    },
    {
     "name": "stdout",
     "output_type": "stream",
     "text": [
      "[########################################] | 100% Completed | 5.66 sms\n",
      "southern_pacific\n",
      "[                                        ] | 0% Completed | 108.88 ms"
     ]
    },
    {
     "name": "stderr",
     "output_type": "stream",
     "text": [
      "/home/graemem/.conda/envs/core/lib/python3.10/site-packages/xarray/core/indexing.py:1378: PerformanceWarning: Slicing is producing a large chunk. To accept the large\n",
      "chunk and silence this warning, set the option\n",
      "    >>> with dask.config.set(**{'array.slicing.split_large_chunks': False}):\n",
      "    ...     array[indexer]\n",
      "\n",
      "To avoid creating the large chunks, set the option\n",
      "    >>> with dask.config.set(**{'array.slicing.split_large_chunks': True}):\n",
      "    ...     array[indexer]\n",
      "  value = value[(slice(None),) * axis + (subkey,)]\n"
     ]
    },
    {
     "name": "stdout",
     "output_type": "stream",
     "text": [
      "[########################################] | 100% Completed | 5.22 sms\n",
      "southern_atlantic\n",
      "[########################################] | 100% Completed | 4.39 sms\n",
      "southern_indian\n",
      "[                                        ] | 0% Completed | 121.45 ms"
     ]
    },
    {
     "name": "stderr",
     "output_type": "stream",
     "text": [
      "/home/graemem/.conda/envs/core/lib/python3.10/site-packages/xarray/core/indexing.py:1378: PerformanceWarning: Slicing is producing a large chunk. To accept the large\n",
      "chunk and silence this warning, set the option\n",
      "    >>> with dask.config.set(**{'array.slicing.split_large_chunks': False}):\n",
      "    ...     array[indexer]\n",
      "\n",
      "To avoid creating the large chunks, set the option\n",
      "    >>> with dask.config.set(**{'array.slicing.split_large_chunks': True}):\n",
      "    ...     array[indexer]\n",
      "  value = value[(slice(None),) * axis + (subkey,)]\n"
     ]
    },
    {
     "name": "stdout",
     "output_type": "stream",
     "text": [
      "[########################################] | 100% Completed | 4.80 sms\n",
      "atlantic\n",
      "[########################################] | 100% Completed | 4.90 sms\n",
      "atlantic_SoSubT\n",
      "[########################################] | 100% Completed | 4.07 sms\n",
      "atlantic_T\n",
      "[########################################] | 100% Completed | 4.61 sms\n",
      "atlantic_NoSubT\n",
      "[########################################] | 100% Completed | 4.38 sms\n",
      "atlantic_NoSubP\n",
      "[########################################] | 100% Completed | 4.16 sms\n",
      "atlantic_NoP\n",
      "[########################################] | 100% Completed | 4.16 sms\n",
      "pacific\n",
      "[                                        ] | 0% Completed | 122.48 ms"
     ]
    },
    {
     "name": "stderr",
     "output_type": "stream",
     "text": [
      "/home/graemem/.conda/envs/core/lib/python3.10/site-packages/xarray/core/indexing.py:1378: PerformanceWarning: Slicing is producing a large chunk. To accept the large\n",
      "chunk and silence this warning, set the option\n",
      "    >>> with dask.config.set(**{'array.slicing.split_large_chunks': False}):\n",
      "    ...     array[indexer]\n",
      "\n",
      "To avoid creating the large chunks, set the option\n",
      "    >>> with dask.config.set(**{'array.slicing.split_large_chunks': True}):\n",
      "    ...     array[indexer]\n",
      "  value = value[(slice(None),) * axis + (subkey,)]\n"
     ]
    },
    {
     "name": "stdout",
     "output_type": "stream",
     "text": [
      "[########################################] | 100% Completed | 5.66 sms\n",
      "pacific_SoSubT\n",
      "[                                        ] | 0% Completed | 121.09 ms"
     ]
    },
    {
     "name": "stderr",
     "output_type": "stream",
     "text": [
      "/home/graemem/.conda/envs/core/lib/python3.10/site-packages/xarray/core/indexing.py:1378: PerformanceWarning: Slicing is producing a large chunk. To accept the large\n",
      "chunk and silence this warning, set the option\n",
      "    >>> with dask.config.set(**{'array.slicing.split_large_chunks': False}):\n",
      "    ...     array[indexer]\n",
      "\n",
      "To avoid creating the large chunks, set the option\n",
      "    >>> with dask.config.set(**{'array.slicing.split_large_chunks': True}):\n",
      "    ...     array[indexer]\n",
      "  value = value[(slice(None),) * axis + (subkey,)]\n"
     ]
    },
    {
     "name": "stdout",
     "output_type": "stream",
     "text": [
      "[########################################] | 100% Completed | 4.92 sms\n",
      "pacific_T\n",
      "[                                        ] | 0% Completed | 121.72 ms"
     ]
    },
    {
     "name": "stderr",
     "output_type": "stream",
     "text": [
      "/home/graemem/.conda/envs/core/lib/python3.10/site-packages/xarray/core/indexing.py:1378: PerformanceWarning: Slicing is producing a large chunk. To accept the large\n",
      "chunk and silence this warning, set the option\n",
      "    >>> with dask.config.set(**{'array.slicing.split_large_chunks': False}):\n",
      "    ...     array[indexer]\n",
      "\n",
      "To avoid creating the large chunks, set the option\n",
      "    >>> with dask.config.set(**{'array.slicing.split_large_chunks': True}):\n",
      "    ...     array[indexer]\n",
      "  value = value[(slice(None),) * axis + (subkey,)]\n"
     ]
    },
    {
     "name": "stdout",
     "output_type": "stream",
     "text": [
      "[########################################] | 100% Completed | 5.03 sms\n",
      "pacific_NoSubT\n",
      "[                                        ] | 0% Completed | 121.85 ms"
     ]
    },
    {
     "name": "stderr",
     "output_type": "stream",
     "text": [
      "/home/graemem/.conda/envs/core/lib/python3.10/site-packages/xarray/core/indexing.py:1378: PerformanceWarning: Slicing is producing a large chunk. To accept the large\n",
      "chunk and silence this warning, set the option\n",
      "    >>> with dask.config.set(**{'array.slicing.split_large_chunks': False}):\n",
      "    ...     array[indexer]\n",
      "\n",
      "To avoid creating the large chunks, set the option\n",
      "    >>> with dask.config.set(**{'array.slicing.split_large_chunks': True}):\n",
      "    ...     array[indexer]\n",
      "  value = value[(slice(None),) * axis + (subkey,)]\n"
     ]
    },
    {
     "name": "stdout",
     "output_type": "stream",
     "text": [
      "[########################################] | 100% Completed | 5.02 sms\n",
      "pacific_NoSubP\n",
      "[########################################] | 100% Completed | 4.37 sms\n",
      "pacific_NoP\n",
      "[########################################] | 100% Completed | 3.85 sms\n",
      "arctic\n",
      "[                                        ] | 0% Completed | 121.35 ms"
     ]
    },
    {
     "name": "stderr",
     "output_type": "stream",
     "text": [
      "/home/graemem/.conda/envs/core/lib/python3.10/site-packages/xarray/core/indexing.py:1378: PerformanceWarning: Slicing is producing a large chunk. To accept the large\n",
      "chunk and silence this warning, set the option\n",
      "    >>> with dask.config.set(**{'array.slicing.split_large_chunks': False}):\n",
      "    ...     array[indexer]\n",
      "\n",
      "To avoid creating the large chunks, set the option\n",
      "    >>> with dask.config.set(**{'array.slicing.split_large_chunks': True}):\n",
      "    ...     array[indexer]\n",
      "  value = value[(slice(None),) * axis + (subkey,)]\n"
     ]
    },
    {
     "name": "stdout",
     "output_type": "stream",
     "text": [
      "[########################################] | 100% Completed | 6.17 sms\n",
      "arctic_NoP\n",
      "[                                        ] | 0% Completed | 122.58 ms"
     ]
    },
    {
     "name": "stderr",
     "output_type": "stream",
     "text": [
      "/home/graemem/.conda/envs/core/lib/python3.10/site-packages/xarray/core/indexing.py:1378: PerformanceWarning: Slicing is producing a large chunk. To accept the large\n",
      "chunk and silence this warning, set the option\n",
      "    >>> with dask.config.set(**{'array.slicing.split_large_chunks': False}):\n",
      "    ...     array[indexer]\n",
      "\n",
      "To avoid creating the large chunks, set the option\n",
      "    >>> with dask.config.set(**{'array.slicing.split_large_chunks': True}):\n",
      "    ...     array[indexer]\n",
      "  value = value[(slice(None),) * axis + (subkey,)]\n"
     ]
    },
    {
     "name": "stdout",
     "output_type": "stream",
     "text": [
      "[########################################] | 100% Completed | 6.19 sms\n",
      "arctic_pacific\n",
      "[                                        ] | 0% Completed | 121.24 ms"
     ]
    },
    {
     "name": "stderr",
     "output_type": "stream",
     "text": [
      "/home/graemem/.conda/envs/core/lib/python3.10/site-packages/xarray/core/indexing.py:1378: PerformanceWarning: Slicing is producing a large chunk. To accept the large\n",
      "chunk and silence this warning, set the option\n",
      "    >>> with dask.config.set(**{'array.slicing.split_large_chunks': False}):\n",
      "    ...     array[indexer]\n",
      "\n",
      "To avoid creating the large chunks, set the option\n",
      "    >>> with dask.config.set(**{'array.slicing.split_large_chunks': True}):\n",
      "    ...     array[indexer]\n",
      "  value = value[(slice(None),) * axis + (subkey,)]\n"
     ]
    },
    {
     "name": "stdout",
     "output_type": "stream",
     "text": [
      "[########################################] | 100% Completed | 5.45 sms\n",
      "arctic_atlantic\n",
      "[                                        ] | 0% Completed | 121.15 ms"
     ]
    },
    {
     "name": "stderr",
     "output_type": "stream",
     "text": [
      "/home/graemem/.conda/envs/core/lib/python3.10/site-packages/xarray/core/indexing.py:1378: PerformanceWarning: Slicing is producing a large chunk. To accept the large\n",
      "chunk and silence this warning, set the option\n",
      "    >>> with dask.config.set(**{'array.slicing.split_large_chunks': False}):\n",
      "    ...     array[indexer]\n",
      "\n",
      "To avoid creating the large chunks, set the option\n",
      "    >>> with dask.config.set(**{'array.slicing.split_large_chunks': True}):\n",
      "    ...     array[indexer]\n",
      "  value = value[(slice(None),) * axis + (subkey,)]\n"
     ]
    },
    {
     "name": "stdout",
     "output_type": "stream",
     "text": [
      "[########################################] | 100% Completed | 5.45 sms\n",
      "indian\n",
      "[########################################] | 100% Completed | 4.50 sms\n",
      "indian_SoSubT\n",
      "[########################################] | 100% Completed | 4.27 sms\n",
      "indian_T\n",
      "[########################################] | 100% Completed | 4.39 sms\n",
      "indian_NoSubT\n",
      "[########################################] | 100% Completed | 3.75 sms\n",
      "mediterranean\n",
      "[########################################] | 100% Completed | 3.86 sms\n",
      "mediterranean_NoSubT\n",
      "[########################################] | 100% Completed | 3.84 sms\n",
      "mediterranean_NoSubP\n",
      "[########################################] | 100% Completed | 3.92 sms\n",
      "black\n",
      "[########################################] | 100% Completed | 3.62 sms\n",
      "black_NoSubT\n",
      "[########################################] | 100% Completed | 3.64 sms\n",
      "black_NoSubP\n",
      "[########################################] | 100% Completed | 3.54 sms\n",
      "hudson\n",
      "[########################################] | 100% Completed | 3.74 sms\n",
      "hudson_NoSubP\n",
      "[########################################] | 100% Completed | 3.64 sms\n",
      "hudson_NoP\n",
      "[########################################] | 100% Completed | 3.74 sms\n",
      "baltic\n",
      "[########################################] | 100% Completed | 3.63 sms\n",
      "baltic_NoSubP\n",
      "[########################################] | 100% Completed | 3.74 sms\n",
      "baltic_NoP\n",
      "[########################################] | 100% Completed | 3.64 sms\n",
      "red\n",
      "[########################################] | 100% Completed | 3.63 sms\n",
      "red_T\n",
      "[########################################] | 100% Completed | 3.64 sms\n",
      "red_NoSubT\n",
      "[########################################] | 100% Completed | 3.62 sms\n",
      "pacific_global\n",
      "[                                        ] | 0% Completed | 121.57 ms"
     ]
    },
    {
     "name": "stderr",
     "output_type": "stream",
     "text": [
      "/home/graemem/.conda/envs/core/lib/python3.10/site-packages/xarray/core/indexing.py:1378: PerformanceWarning: Slicing is producing a large chunk. To accept the large\n",
      "chunk and silence this warning, set the option\n",
      "    >>> with dask.config.set(**{'array.slicing.split_large_chunks': False}):\n",
      "    ...     array[indexer]\n",
      "\n",
      "To avoid creating the large chunks, set the option\n",
      "    >>> with dask.config.set(**{'array.slicing.split_large_chunks': True}):\n",
      "    ...     array[indexer]\n",
      "  value = value[(slice(None),) * axis + (subkey,)]\n"
     ]
    },
    {
     "name": "stdout",
     "output_type": "stream",
     "text": [
      "[########################################] | 100% Completed | 7.83 sms\n",
      "atlantic_global\n",
      "[                                        ] | 0% Completed | 121.60 ms"
     ]
    },
    {
     "name": "stderr",
     "output_type": "stream",
     "text": [
      "/home/graemem/.conda/envs/core/lib/python3.10/site-packages/xarray/core/indexing.py:1378: PerformanceWarning: Slicing is producing a large chunk. To accept the large\n",
      "chunk and silence this warning, set the option\n",
      "    >>> with dask.config.set(**{'array.slicing.split_large_chunks': False}):\n",
      "    ...     array[indexer]\n",
      "\n",
      "To avoid creating the large chunks, set the option\n",
      "    >>> with dask.config.set(**{'array.slicing.split_large_chunks': True}):\n",
      "    ...     array[indexer]\n",
      "  value = value[(slice(None),) * axis + (subkey,)]\n"
     ]
    },
    {
     "name": "stdout",
     "output_type": "stream",
     "text": [
      "[########################################] | 100% Completed | 7.80 sms\n",
      "indian_global\n",
      "[                                        ] | 0% Completed | 109.77 ms"
     ]
    },
    {
     "name": "stderr",
     "output_type": "stream",
     "text": [
      "/home/graemem/.conda/envs/core/lib/python3.10/site-packages/xarray/core/indexing.py:1378: PerformanceWarning: Slicing is producing a large chunk. To accept the large\n",
      "chunk and silence this warning, set the option\n",
      "    >>> with dask.config.set(**{'array.slicing.split_large_chunks': False}):\n",
      "    ...     array[indexer]\n",
      "\n",
      "To avoid creating the large chunks, set the option\n",
      "    >>> with dask.config.set(**{'array.slicing.split_large_chunks': True}):\n",
      "    ...     array[indexer]\n",
      "  value = value[(slice(None),) * axis + (subkey,)]\n"
     ]
    },
    {
     "name": "stdout",
     "output_type": "stream",
     "text": [
      "[########################################] | 100% Completed | 5.34 sms\n"
     ]
    },
    {
     "ename": "NameError",
     "evalue": "name 'ds' is not defined",
     "output_type": "error",
     "traceback": [
      "\u001b[0;31m---------------------------------------------------------------------------\u001b[0m",
      "\u001b[0;31mNameError\u001b[0m                                 Traceback (most recent call last)",
      "Input \u001b[0;32mIn [88]\u001b[0m, in \u001b[0;36m<cell line: 3>\u001b[0;34m()\u001b[0m\n\u001b[1;32m     10\u001b[0m savefilename \u001b[38;5;241m=\u001b[39m \u001b[38;5;124m'\u001b[39m\u001b[38;5;124m.\u001b[39m\u001b[38;5;124m'\u001b[39m\u001b[38;5;241m.\u001b[39mjoin([variable,frequency,timestr,\u001b[38;5;124m'\u001b[39m\u001b[38;5;124mregionalmeans\u001b[39m\u001b[38;5;124m'\u001b[39m,\u001b[38;5;124m'\u001b[39m\u001b[38;5;124mnc\u001b[39m\u001b[38;5;124m'\u001b[39m])\n\u001b[1;32m     11\u001b[0m \u001b[38;5;28;01mwith\u001b[39;00m ProgressBar():\n\u001b[0;32m---> 12\u001b[0m     \u001b[43mds\u001b[49m\u001b[38;5;241m.\u001b[39mto_netcdf(savedir\u001b[38;5;241m+\u001b[39msavefilename)\n",
      "\u001b[0;31mNameError\u001b[0m: name 'ds' is not defined"
     ]
    }
   ],
   "source": [
    "startmonth = 1\n",
    "for startyear in ppeDict['startyears']:\n",
    "    timestr = str(startyear).zfill(4)+str(startmonth).zfill(2)\n",
    "\n",
    "    es = open_ensemble(variable,frequency,startyear=startyear,startmonth=startmonth,control=control,verbose=False)\n",
    "    da = es[variable]\n",
    "    da_out = calc_regionalmean_all(da,masks,grid['areacello'],verbose=True)\n",
    "\n",
    "    savefilename = '.'.join([variable,frequency,timestr,'regionalmeans','nc'])\n",
    "    with ProgressBar():\n",
    "        da_out.to_netcdf(savedir+savefilename)"
   ]
  },
  {
   "cell_type": "code",
   "execution_count": 100,
   "id": "bb5dd1c4-1d5a-425f-9377-91695eb5879b",
   "metadata": {},
   "outputs": [
    {
     "data": {
      "text/html": [
       "<div><svg style=\"position: absolute; width: 0; height: 0; overflow: hidden\">\n",
       "<defs>\n",
       "<symbol id=\"icon-database\" viewBox=\"0 0 32 32\">\n",
       "<path d=\"M16 0c-8.837 0-16 2.239-16 5v4c0 2.761 7.163 5 16 5s16-2.239 16-5v-4c0-2.761-7.163-5-16-5z\"></path>\n",
       "<path d=\"M16 17c-8.837 0-16-2.239-16-5v6c0 2.761 7.163 5 16 5s16-2.239 16-5v-6c0 2.761-7.163 5-16 5z\"></path>\n",
       "<path d=\"M16 26c-8.837 0-16-2.239-16-5v6c0 2.761 7.163 5 16 5s16-2.239 16-5v-6c0 2.761-7.163 5-16 5z\"></path>\n",
       "</symbol>\n",
       "<symbol id=\"icon-file-text2\" viewBox=\"0 0 32 32\">\n",
       "<path d=\"M28.681 7.159c-0.694-0.947-1.662-2.053-2.724-3.116s-2.169-2.030-3.116-2.724c-1.612-1.182-2.393-1.319-2.841-1.319h-15.5c-1.378 0-2.5 1.121-2.5 2.5v27c0 1.378 1.122 2.5 2.5 2.5h23c1.378 0 2.5-1.122 2.5-2.5v-19.5c0-0.448-0.137-1.23-1.319-2.841zM24.543 5.457c0.959 0.959 1.712 1.825 2.268 2.543h-4.811v-4.811c0.718 0.556 1.584 1.309 2.543 2.268zM28 29.5c0 0.271-0.229 0.5-0.5 0.5h-23c-0.271 0-0.5-0.229-0.5-0.5v-27c0-0.271 0.229-0.5 0.5-0.5 0 0 15.499-0 15.5 0v7c0 0.552 0.448 1 1 1h7v19.5z\"></path>\n",
       "<path d=\"M23 26h-14c-0.552 0-1-0.448-1-1s0.448-1 1-1h14c0.552 0 1 0.448 1 1s-0.448 1-1 1z\"></path>\n",
       "<path d=\"M23 22h-14c-0.552 0-1-0.448-1-1s0.448-1 1-1h14c0.552 0 1 0.448 1 1s-0.448 1-1 1z\"></path>\n",
       "<path d=\"M23 18h-14c-0.552 0-1-0.448-1-1s0.448-1 1-1h14c0.552 0 1 0.448 1 1s-0.448 1-1 1z\"></path>\n",
       "</symbol>\n",
       "</defs>\n",
       "</svg>\n",
       "<style>/* CSS stylesheet for displaying xarray objects in jupyterlab.\n",
       " *\n",
       " */\n",
       "\n",
       ":root {\n",
       "  --xr-font-color0: var(--jp-content-font-color0, rgba(0, 0, 0, 1));\n",
       "  --xr-font-color2: var(--jp-content-font-color2, rgba(0, 0, 0, 0.54));\n",
       "  --xr-font-color3: var(--jp-content-font-color3, rgba(0, 0, 0, 0.38));\n",
       "  --xr-border-color: var(--jp-border-color2, #e0e0e0);\n",
       "  --xr-disabled-color: var(--jp-layout-color3, #bdbdbd);\n",
       "  --xr-background-color: var(--jp-layout-color0, white);\n",
       "  --xr-background-color-row-even: var(--jp-layout-color1, white);\n",
       "  --xr-background-color-row-odd: var(--jp-layout-color2, #eeeeee);\n",
       "}\n",
       "\n",
       "html[theme=dark],\n",
       "body[data-theme=dark],\n",
       "body.vscode-dark {\n",
       "  --xr-font-color0: rgba(255, 255, 255, 1);\n",
       "  --xr-font-color2: rgba(255, 255, 255, 0.54);\n",
       "  --xr-font-color3: rgba(255, 255, 255, 0.38);\n",
       "  --xr-border-color: #1F1F1F;\n",
       "  --xr-disabled-color: #515151;\n",
       "  --xr-background-color: #111111;\n",
       "  --xr-background-color-row-even: #111111;\n",
       "  --xr-background-color-row-odd: #313131;\n",
       "}\n",
       "\n",
       ".xr-wrap {\n",
       "  display: block !important;\n",
       "  min-width: 300px;\n",
       "  max-width: 700px;\n",
       "}\n",
       "\n",
       ".xr-text-repr-fallback {\n",
       "  /* fallback to plain text repr when CSS is not injected (untrusted notebook) */\n",
       "  display: none;\n",
       "}\n",
       "\n",
       ".xr-header {\n",
       "  padding-top: 6px;\n",
       "  padding-bottom: 6px;\n",
       "  margin-bottom: 4px;\n",
       "  border-bottom: solid 1px var(--xr-border-color);\n",
       "}\n",
       "\n",
       ".xr-header > div,\n",
       ".xr-header > ul {\n",
       "  display: inline;\n",
       "  margin-top: 0;\n",
       "  margin-bottom: 0;\n",
       "}\n",
       "\n",
       ".xr-obj-type,\n",
       ".xr-array-name {\n",
       "  margin-left: 2px;\n",
       "  margin-right: 10px;\n",
       "}\n",
       "\n",
       ".xr-obj-type {\n",
       "  color: var(--xr-font-color2);\n",
       "}\n",
       "\n",
       ".xr-sections {\n",
       "  padding-left: 0 !important;\n",
       "  display: grid;\n",
       "  grid-template-columns: 150px auto auto 1fr 20px 20px;\n",
       "}\n",
       "\n",
       ".xr-section-item {\n",
       "  display: contents;\n",
       "}\n",
       "\n",
       ".xr-section-item input {\n",
       "  display: none;\n",
       "}\n",
       "\n",
       ".xr-section-item input + label {\n",
       "  color: var(--xr-disabled-color);\n",
       "}\n",
       "\n",
       ".xr-section-item input:enabled + label {\n",
       "  cursor: pointer;\n",
       "  color: var(--xr-font-color2);\n",
       "}\n",
       "\n",
       ".xr-section-item input:enabled + label:hover {\n",
       "  color: var(--xr-font-color0);\n",
       "}\n",
       "\n",
       ".xr-section-summary {\n",
       "  grid-column: 1;\n",
       "  color: var(--xr-font-color2);\n",
       "  font-weight: 500;\n",
       "}\n",
       "\n",
       ".xr-section-summary > span {\n",
       "  display: inline-block;\n",
       "  padding-left: 0.5em;\n",
       "}\n",
       "\n",
       ".xr-section-summary-in:disabled + label {\n",
       "  color: var(--xr-font-color2);\n",
       "}\n",
       "\n",
       ".xr-section-summary-in + label:before {\n",
       "  display: inline-block;\n",
       "  content: '►';\n",
       "  font-size: 11px;\n",
       "  width: 15px;\n",
       "  text-align: center;\n",
       "}\n",
       "\n",
       ".xr-section-summary-in:disabled + label:before {\n",
       "  color: var(--xr-disabled-color);\n",
       "}\n",
       "\n",
       ".xr-section-summary-in:checked + label:before {\n",
       "  content: '▼';\n",
       "}\n",
       "\n",
       ".xr-section-summary-in:checked + label > span {\n",
       "  display: none;\n",
       "}\n",
       "\n",
       ".xr-section-summary,\n",
       ".xr-section-inline-details {\n",
       "  padding-top: 4px;\n",
       "  padding-bottom: 4px;\n",
       "}\n",
       "\n",
       ".xr-section-inline-details {\n",
       "  grid-column: 2 / -1;\n",
       "}\n",
       "\n",
       ".xr-section-details {\n",
       "  display: none;\n",
       "  grid-column: 1 / -1;\n",
       "  margin-bottom: 5px;\n",
       "}\n",
       "\n",
       ".xr-section-summary-in:checked ~ .xr-section-details {\n",
       "  display: contents;\n",
       "}\n",
       "\n",
       ".xr-array-wrap {\n",
       "  grid-column: 1 / -1;\n",
       "  display: grid;\n",
       "  grid-template-columns: 20px auto;\n",
       "}\n",
       "\n",
       ".xr-array-wrap > label {\n",
       "  grid-column: 1;\n",
       "  vertical-align: top;\n",
       "}\n",
       "\n",
       ".xr-preview {\n",
       "  color: var(--xr-font-color3);\n",
       "}\n",
       "\n",
       ".xr-array-preview,\n",
       ".xr-array-data {\n",
       "  padding: 0 5px !important;\n",
       "  grid-column: 2;\n",
       "}\n",
       "\n",
       ".xr-array-data,\n",
       ".xr-array-in:checked ~ .xr-array-preview {\n",
       "  display: none;\n",
       "}\n",
       "\n",
       ".xr-array-in:checked ~ .xr-array-data,\n",
       ".xr-array-preview {\n",
       "  display: inline-block;\n",
       "}\n",
       "\n",
       ".xr-dim-list {\n",
       "  display: inline-block !important;\n",
       "  list-style: none;\n",
       "  padding: 0 !important;\n",
       "  margin: 0;\n",
       "}\n",
       "\n",
       ".xr-dim-list li {\n",
       "  display: inline-block;\n",
       "  padding: 0;\n",
       "  margin: 0;\n",
       "}\n",
       "\n",
       ".xr-dim-list:before {\n",
       "  content: '(';\n",
       "}\n",
       "\n",
       ".xr-dim-list:after {\n",
       "  content: ')';\n",
       "}\n",
       "\n",
       ".xr-dim-list li:not(:last-child):after {\n",
       "  content: ',';\n",
       "  padding-right: 5px;\n",
       "}\n",
       "\n",
       ".xr-has-index {\n",
       "  font-weight: bold;\n",
       "}\n",
       "\n",
       ".xr-var-list,\n",
       ".xr-var-item {\n",
       "  display: contents;\n",
       "}\n",
       "\n",
       ".xr-var-item > div,\n",
       ".xr-var-item label,\n",
       ".xr-var-item > .xr-var-name span {\n",
       "  background-color: var(--xr-background-color-row-even);\n",
       "  margin-bottom: 0;\n",
       "}\n",
       "\n",
       ".xr-var-item > .xr-var-name:hover span {\n",
       "  padding-right: 5px;\n",
       "}\n",
       "\n",
       ".xr-var-list > li:nth-child(odd) > div,\n",
       ".xr-var-list > li:nth-child(odd) > label,\n",
       ".xr-var-list > li:nth-child(odd) > .xr-var-name span {\n",
       "  background-color: var(--xr-background-color-row-odd);\n",
       "}\n",
       "\n",
       ".xr-var-name {\n",
       "  grid-column: 1;\n",
       "}\n",
       "\n",
       ".xr-var-dims {\n",
       "  grid-column: 2;\n",
       "}\n",
       "\n",
       ".xr-var-dtype {\n",
       "  grid-column: 3;\n",
       "  text-align: right;\n",
       "  color: var(--xr-font-color2);\n",
       "}\n",
       "\n",
       ".xr-var-preview {\n",
       "  grid-column: 4;\n",
       "}\n",
       "\n",
       ".xr-index-preview {\n",
       "  grid-column: 2 / 5;\n",
       "  color: var(--xr-font-color2);\n",
       "}\n",
       "\n",
       ".xr-var-name,\n",
       ".xr-var-dims,\n",
       ".xr-var-dtype,\n",
       ".xr-preview,\n",
       ".xr-attrs dt {\n",
       "  white-space: nowrap;\n",
       "  overflow: hidden;\n",
       "  text-overflow: ellipsis;\n",
       "  padding-right: 10px;\n",
       "}\n",
       "\n",
       ".xr-var-name:hover,\n",
       ".xr-var-dims:hover,\n",
       ".xr-var-dtype:hover,\n",
       ".xr-attrs dt:hover {\n",
       "  overflow: visible;\n",
       "  width: auto;\n",
       "  z-index: 1;\n",
       "}\n",
       "\n",
       ".xr-var-attrs,\n",
       ".xr-var-data,\n",
       ".xr-index-data {\n",
       "  display: none;\n",
       "  background-color: var(--xr-background-color) !important;\n",
       "  padding-bottom: 5px !important;\n",
       "}\n",
       "\n",
       ".xr-var-attrs-in:checked ~ .xr-var-attrs,\n",
       ".xr-var-data-in:checked ~ .xr-var-data,\n",
       ".xr-index-data-in:checked ~ .xr-index-data {\n",
       "  display: block;\n",
       "}\n",
       "\n",
       ".xr-var-data > table {\n",
       "  float: right;\n",
       "}\n",
       "\n",
       ".xr-var-name span,\n",
       ".xr-var-data,\n",
       ".xr-index-name div,\n",
       ".xr-index-data,\n",
       ".xr-attrs {\n",
       "  padding-left: 25px !important;\n",
       "}\n",
       "\n",
       ".xr-attrs,\n",
       ".xr-var-attrs,\n",
       ".xr-var-data,\n",
       ".xr-index-data {\n",
       "  grid-column: 1 / -1;\n",
       "}\n",
       "\n",
       "dl.xr-attrs {\n",
       "  padding: 0;\n",
       "  margin: 0;\n",
       "  display: grid;\n",
       "  grid-template-columns: 125px auto;\n",
       "}\n",
       "\n",
       ".xr-attrs dt,\n",
       ".xr-attrs dd {\n",
       "  padding: 0;\n",
       "  margin: 0;\n",
       "  float: left;\n",
       "  padding-right: 10px;\n",
       "  width: auto;\n",
       "}\n",
       "\n",
       ".xr-attrs dt {\n",
       "  font-weight: normal;\n",
       "  grid-column: 1;\n",
       "}\n",
       "\n",
       ".xr-attrs dt:hover span {\n",
       "  display: inline-block;\n",
       "  background: var(--xr-background-color);\n",
       "  padding-right: 10px;\n",
       "}\n",
       "\n",
       ".xr-attrs dd {\n",
       "  grid-column: 2;\n",
       "  white-space: pre-wrap;\n",
       "  word-break: break-all;\n",
       "}\n",
       "\n",
       ".xr-icon-database,\n",
       ".xr-icon-file-text2,\n",
       ".xr-no-icon {\n",
       "  display: inline-block;\n",
       "  vertical-align: middle;\n",
       "  width: 1em;\n",
       "  height: 1.5em !important;\n",
       "  stroke-width: 0;\n",
       "  stroke: currentColor;\n",
       "  fill: currentColor;\n",
       "}\n",
       "</style><pre class='xr-text-repr-fallback'>&lt;xarray.Dataset&gt;\n",
       "Dimensions:  (time: 3600, region: 53)\n",
       "Coordinates:\n",
       "  * time     (time) object 0101-01-16 12:00:00 ... 0400-12-16 12:00:00\n",
       "  * region   (region) object &#x27;global&#x27; &#x27;global_SoP&#x27; ... &#x27;indian_global&#x27;\n",
       "Data variables:\n",
       "    sos      (time, region) float64 ...</pre><div class='xr-wrap' style='display:none'><div class='xr-header'><div class='xr-obj-type'>xarray.Dataset</div></div><ul class='xr-sections'><li class='xr-section-item'><input id='section-e78a7eea-946c-463f-8b22-108fdeb11c57' class='xr-section-summary-in' type='checkbox' disabled ><label for='section-e78a7eea-946c-463f-8b22-108fdeb11c57' class='xr-section-summary'  title='Expand/collapse section'>Dimensions:</label><div class='xr-section-inline-details'><ul class='xr-dim-list'><li><span class='xr-has-index'>time</span>: 3600</li><li><span class='xr-has-index'>region</span>: 53</li></ul></div><div class='xr-section-details'></div></li><li class='xr-section-item'><input id='section-f175a01e-af61-4771-b3c8-25d00abe6f1b' class='xr-section-summary-in' type='checkbox'  checked><label for='section-f175a01e-af61-4771-b3c8-25d00abe6f1b' class='xr-section-summary' >Coordinates: <span>(2)</span></label><div class='xr-section-inline-details'></div><div class='xr-section-details'><ul class='xr-var-list'><li class='xr-var-item'><div class='xr-var-name'><span class='xr-has-index'>time</span></div><div class='xr-var-dims'>(time)</div><div class='xr-var-dtype'>object</div><div class='xr-var-preview xr-preview'>0101-01-16 12:00:00 ... 0400-12-...</div><input id='attrs-2c4044ae-5d32-4156-b624-c050d13e78a5' class='xr-var-attrs-in' type='checkbox' ><label for='attrs-2c4044ae-5d32-4156-b624-c050d13e78a5' title='Show/Hide attributes'><svg class='icon xr-icon-file-text2'><use xlink:href='#icon-file-text2'></use></svg></label><input id='data-bc45249d-05f9-43f9-92b6-8165f64a6df0' class='xr-var-data-in' type='checkbox'><label for='data-bc45249d-05f9-43f9-92b6-8165f64a6df0' title='Show/Hide data repr'><svg class='icon xr-icon-database'><use xlink:href='#icon-database'></use></svg></label><div class='xr-var-attrs'><dl class='xr-attrs'><dt><span>long_name :</span></dt><dd>time</dd><dt><span>axis :</span></dt><dd>T</dd><dt><span>calendar_type :</span></dt><dd>NOLEAP</dd><dt><span>bounds :</span></dt><dd>time_bnds</dd></dl></div><div class='xr-var-data'><pre>array([cftime.DatetimeNoLeap(101, 1, 16, 12, 0, 0, 0, has_year_zero=True),\n",
       "       cftime.DatetimeNoLeap(101, 2, 15, 0, 0, 0, 0, has_year_zero=True),\n",
       "       cftime.DatetimeNoLeap(101, 3, 16, 12, 0, 0, 0, has_year_zero=True), ...,\n",
       "       cftime.DatetimeNoLeap(400, 10, 16, 12, 0, 0, 0, has_year_zero=True),\n",
       "       cftime.DatetimeNoLeap(400, 11, 16, 0, 0, 0, 0, has_year_zero=True),\n",
       "       cftime.DatetimeNoLeap(400, 12, 16, 12, 0, 0, 0, has_year_zero=True)],\n",
       "      dtype=object)</pre></div></li><li class='xr-var-item'><div class='xr-var-name'><span class='xr-has-index'>region</span></div><div class='xr-var-dims'>(region)</div><div class='xr-var-dtype'>object</div><div class='xr-var-preview xr-preview'>&#x27;global&#x27; ... &#x27;indian_global&#x27;</div><input id='attrs-eba5b4dc-6b55-4fbe-af22-eb21b6ba13f4' class='xr-var-attrs-in' type='checkbox' disabled><label for='attrs-eba5b4dc-6b55-4fbe-af22-eb21b6ba13f4' title='Show/Hide attributes'><svg class='icon xr-icon-file-text2'><use xlink:href='#icon-file-text2'></use></svg></label><input id='data-6aa47d7e-5bee-4289-a8cf-cb7d6c101f34' class='xr-var-data-in' type='checkbox'><label for='data-6aa47d7e-5bee-4289-a8cf-cb7d6c101f34' title='Show/Hide data repr'><svg class='icon xr-icon-database'><use xlink:href='#icon-database'></use></svg></label><div class='xr-var-attrs'><dl class='xr-attrs'></dl></div><div class='xr-var-data'><pre>array([&#x27;global&#x27;, &#x27;global_SoP&#x27;, &#x27;global_SoSubP&#x27;, &#x27;global_SoSubT&#x27;, &#x27;global_T&#x27;,\n",
       "       &#x27;global_NoSubT&#x27;, &#x27;global_NoSubP&#x27;, &#x27;global_NoP&#x27;, &#x27;southern&#x27;,\n",
       "       &#x27;southern_SoP&#x27;, &#x27;southern_SoSubP&#x27;, &#x27;southern_SoSubT&#x27;,\n",
       "       &#x27;southern_pacific&#x27;, &#x27;southern_atlantic&#x27;, &#x27;southern_indian&#x27;, &#x27;atlantic&#x27;,\n",
       "       &#x27;atlantic_SoSubT&#x27;, &#x27;atlantic_T&#x27;, &#x27;atlantic_NoSubT&#x27;, &#x27;atlantic_NoSubP&#x27;,\n",
       "       &#x27;atlantic_NoP&#x27;, &#x27;pacific&#x27;, &#x27;pacific_SoSubT&#x27;, &#x27;pacific_T&#x27;,\n",
       "       &#x27;pacific_NoSubT&#x27;, &#x27;pacific_NoSubP&#x27;, &#x27;pacific_NoP&#x27;, &#x27;arctic&#x27;,\n",
       "       &#x27;arctic_NoP&#x27;, &#x27;arctic_pacific&#x27;, &#x27;arctic_atlantic&#x27;, &#x27;indian&#x27;,\n",
       "       &#x27;indian_SoSubT&#x27;, &#x27;indian_T&#x27;, &#x27;indian_NoSubT&#x27;, &#x27;mediterranean&#x27;,\n",
       "       &#x27;mediterranean_NoSubT&#x27;, &#x27;mediterranean_NoSubP&#x27;, &#x27;black&#x27;, &#x27;black_NoSubT&#x27;,\n",
       "       &#x27;black_NoSubP&#x27;, &#x27;hudson&#x27;, &#x27;hudson_NoSubP&#x27;, &#x27;hudson_NoP&#x27;, &#x27;baltic&#x27;,\n",
       "       &#x27;baltic_NoSubP&#x27;, &#x27;baltic_NoP&#x27;, &#x27;red&#x27;, &#x27;red_T&#x27;, &#x27;red_NoSubT&#x27;,\n",
       "       &#x27;pacific_global&#x27;, &#x27;atlantic_global&#x27;, &#x27;indian_global&#x27;], dtype=object)</pre></div></li></ul></div></li><li class='xr-section-item'><input id='section-c456e821-e52e-4276-8e83-908f788ecc0e' class='xr-section-summary-in' type='checkbox'  checked><label for='section-c456e821-e52e-4276-8e83-908f788ecc0e' class='xr-section-summary' >Data variables: <span>(1)</span></label><div class='xr-section-inline-details'></div><div class='xr-section-details'><ul class='xr-var-list'><li class='xr-var-item'><div class='xr-var-name'><span>sos</span></div><div class='xr-var-dims'>(time, region)</div><div class='xr-var-dtype'>float64</div><div class='xr-var-preview xr-preview'>...</div><input id='attrs-3a86c5f4-b170-482a-a6e0-42b56ecf1af1' class='xr-var-attrs-in' type='checkbox' disabled><label for='attrs-3a86c5f4-b170-482a-a6e0-42b56ecf1af1' title='Show/Hide attributes'><svg class='icon xr-icon-file-text2'><use xlink:href='#icon-file-text2'></use></svg></label><input id='data-278f0ad3-5f2b-48c6-ac5a-520099e9cd89' class='xr-var-data-in' type='checkbox'><label for='data-278f0ad3-5f2b-48c6-ac5a-520099e9cd89' title='Show/Hide data repr'><svg class='icon xr-icon-database'><use xlink:href='#icon-database'></use></svg></label><div class='xr-var-attrs'><dl class='xr-attrs'></dl></div><div class='xr-var-data'><pre>[190800 values with dtype=float64]</pre></div></li></ul></div></li><li class='xr-section-item'><input id='section-c9f56875-7729-4119-8195-d68ad2bd6bd5' class='xr-section-summary-in' type='checkbox'  ><label for='section-c9f56875-7729-4119-8195-d68ad2bd6bd5' class='xr-section-summary' >Indexes: <span>(2)</span></label><div class='xr-section-inline-details'></div><div class='xr-section-details'><ul class='xr-var-list'><li class='xr-var-item'><div class='xr-index-name'><div>time</div></div><div class='xr-index-preview'>PandasIndex</div><div></div><input id='index-9bc1964f-07c2-4be4-a498-caad3b67d8e1' class='xr-index-data-in' type='checkbox'/><label for='index-9bc1964f-07c2-4be4-a498-caad3b67d8e1' title='Show/Hide index repr'><svg class='icon xr-icon-database'><use xlink:href='#icon-database'></use></svg></label><div class='xr-index-data'><pre>PandasIndex(CFTimeIndex([0101-01-16 12:00:00, 0101-02-15 00:00:00, 0101-03-16 12:00:00,\n",
       "             0101-04-16 00:00:00, 0101-05-16 12:00:00, 0101-06-16 00:00:00,\n",
       "             0101-07-16 12:00:00, 0101-08-16 12:00:00, 0101-09-16 00:00:00,\n",
       "             0101-10-16 12:00:00,\n",
       "             ...\n",
       "             0400-03-16 12:00:00, 0400-04-16 00:00:00, 0400-05-16 12:00:00,\n",
       "             0400-06-16 00:00:00, 0400-07-16 12:00:00, 0400-08-16 12:00:00,\n",
       "             0400-09-16 00:00:00, 0400-10-16 12:00:00, 0400-11-16 00:00:00,\n",
       "             0400-12-16 12:00:00],\n",
       "            dtype=&#x27;object&#x27;, length=3600, calendar=&#x27;noleap&#x27;, freq=&#x27;None&#x27;))</pre></div></li><li class='xr-var-item'><div class='xr-index-name'><div>region</div></div><div class='xr-index-preview'>PandasIndex</div><div></div><input id='index-7cebb6d4-9aae-4590-95a4-25c02a0df332' class='xr-index-data-in' type='checkbox'/><label for='index-7cebb6d4-9aae-4590-95a4-25c02a0df332' title='Show/Hide index repr'><svg class='icon xr-icon-database'><use xlink:href='#icon-database'></use></svg></label><div class='xr-index-data'><pre>PandasIndex(Index([&#x27;global&#x27;, &#x27;global_SoP&#x27;, &#x27;global_SoSubP&#x27;, &#x27;global_SoSubT&#x27;, &#x27;global_T&#x27;,\n",
       "       &#x27;global_NoSubT&#x27;, &#x27;global_NoSubP&#x27;, &#x27;global_NoP&#x27;, &#x27;southern&#x27;,\n",
       "       &#x27;southern_SoP&#x27;, &#x27;southern_SoSubP&#x27;, &#x27;southern_SoSubT&#x27;,\n",
       "       &#x27;southern_pacific&#x27;, &#x27;southern_atlantic&#x27;, &#x27;southern_indian&#x27;, &#x27;atlantic&#x27;,\n",
       "       &#x27;atlantic_SoSubT&#x27;, &#x27;atlantic_T&#x27;, &#x27;atlantic_NoSubT&#x27;, &#x27;atlantic_NoSubP&#x27;,\n",
       "       &#x27;atlantic_NoP&#x27;, &#x27;pacific&#x27;, &#x27;pacific_SoSubT&#x27;, &#x27;pacific_T&#x27;,\n",
       "       &#x27;pacific_NoSubT&#x27;, &#x27;pacific_NoSubP&#x27;, &#x27;pacific_NoP&#x27;, &#x27;arctic&#x27;,\n",
       "       &#x27;arctic_NoP&#x27;, &#x27;arctic_pacific&#x27;, &#x27;arctic_atlantic&#x27;, &#x27;indian&#x27;,\n",
       "       &#x27;indian_SoSubT&#x27;, &#x27;indian_T&#x27;, &#x27;indian_NoSubT&#x27;, &#x27;mediterranean&#x27;,\n",
       "       &#x27;mediterranean_NoSubT&#x27;, &#x27;mediterranean_NoSubP&#x27;, &#x27;black&#x27;, &#x27;black_NoSubT&#x27;,\n",
       "       &#x27;black_NoSubP&#x27;, &#x27;hudson&#x27;, &#x27;hudson_NoSubP&#x27;, &#x27;hudson_NoP&#x27;, &#x27;baltic&#x27;,\n",
       "       &#x27;baltic_NoSubP&#x27;, &#x27;baltic_NoP&#x27;, &#x27;red&#x27;, &#x27;red_T&#x27;, &#x27;red_NoSubT&#x27;,\n",
       "       &#x27;pacific_global&#x27;, &#x27;atlantic_global&#x27;, &#x27;indian_global&#x27;],\n",
       "      dtype=&#x27;object&#x27;, name=&#x27;region&#x27;))</pre></div></li></ul></div></li><li class='xr-section-item'><input id='section-60dd743e-028e-4d57-abd0-afec57a6af54' class='xr-section-summary-in' type='checkbox' disabled ><label for='section-60dd743e-028e-4d57-abd0-afec57a6af54' class='xr-section-summary'  title='Expand/collapse section'>Attributes: <span>(0)</span></label><div class='xr-section-inline-details'></div><div class='xr-section-details'><dl class='xr-attrs'></dl></div></li></ul></div></div>"
      ],
      "text/plain": [
       "<xarray.Dataset>\n",
       "Dimensions:  (time: 3600, region: 53)\n",
       "Coordinates:\n",
       "  * time     (time) object 0101-01-16 12:00:00 ... 0400-12-16 12:00:00\n",
       "  * region   (region) object 'global' 'global_SoP' ... 'indian_global'\n",
       "Data variables:\n",
       "    sos      (time, region) float64 ..."
      ]
     },
     "execution_count": 100,
     "metadata": {},
     "output_type": "execute_result"
    }
   ],
   "source": [
    "xr.open_dataset('/projects/SOCCOM/graemem/projects/esm4_ppe/data/processed/regionalmeans/sos.monthly.control.regionalmeans.nc')"
   ]
  },
  {
   "cell_type": "code",
   "execution_count": null,
   "id": "f5cdbbc9-2db2-4698-8b2b-0a31a64a9a1d",
   "metadata": {},
   "outputs": [],
   "source": []
  }
 ],
 "metadata": {
  "kernelspec": {
   "display_name": "core [~/.conda/envs/core/]",
   "language": "python",
   "name": "conda_core"
  },
  "language_info": {
   "codemirror_mode": {
    "name": "ipython",
    "version": 3
   },
   "file_extension": ".py",
   "mimetype": "text/x-python",
   "name": "python",
   "nbconvert_exporter": "python",
   "pygments_lexer": "ipython3",
   "version": "3.10.9"
  }
 },
 "nbformat": 4,
 "nbformat_minor": 5
}
