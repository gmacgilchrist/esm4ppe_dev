{
 "cells": [
  {
   "cell_type": "code",
   "execution_count": 1,
   "id": "29a5e982-0332-4f25-9a29-84852e53ce39",
   "metadata": {},
   "outputs": [],
   "source": [
    "%load_ext autoreload\n",
    "%autoreload 2"
   ]
  },
  {
   "cell_type": "markdown",
   "id": "7aece2e2-15bd-4b72-9cae-fbdb4b27a483",
   "metadata": {},
   "source": [
    "## Calculate regional means of potential prognostic predictability"
   ]
  },
  {
   "cell_type": "code",
   "execution_count": 51,
   "id": "b882367f-a393-4cd2-a972-eb321037b77a",
   "metadata": {},
   "outputs": [],
   "source": [
    "import xarray as xr\n",
    "import numpy as np\n",
    "import gfdl_utils as gu\n",
    "import glob\n",
    "from dask.diagnostics import ProgressBar\n",
    "from information import *\n",
    "from processing import *\n",
    "from variance import *\n",
    "import os\n",
    "import re\n",
    "from xhistogram.xarray import histogram"
   ]
  },
  {
   "cell_type": "code",
   "execution_count": 81,
   "id": "37dc866e-a79b-47d3-9fb9-b556e466157e",
   "metadata": {},
   "outputs": [],
   "source": [
    "ppname = 'ocean_cobalt_omip_2d'\n",
    "frequency = gu.core.get_timefrequency(ppcontrol,ppname)\n",
    "ppp = xr.open_zarr(ppeDict['datasavedir']+'/processed/ppp/'+ppname+'.zarr')"
   ]
  },
  {
   "cell_type": "code",
   "execution_count": 82,
   "id": "8ebe6766-f1bd-429e-85ac-72244ffde1ed",
   "metadata": {},
   "outputs": [],
   "source": [
    "grid = xr.open_dataset(ppeDict['rootdir']+ppeDict['gridfile'])"
   ]
  },
  {
   "cell_type": "code",
   "execution_count": 83,
   "id": "2bb8cd5c-6134-44f3-a671-41d9e0e1f0ea",
   "metadata": {},
   "outputs": [],
   "source": [
    "masks = generate_masks(grid)"
   ]
  },
  {
   "cell_type": "code",
   "execution_count": 84,
   "id": "84735d2d-92a7-48df-b27f-81ccdeaa318b",
   "metadata": {},
   "outputs": [],
   "source": [
    "def calc_zonalmean(da,mask,weights,geolat,lat_bins):\n",
    "    hs_daw = histogram(geolat.where(mask,drop=True),\n",
    "                             bins=[lat_bins],\n",
    "                             weights=(da*weights).fillna(0).where(mask,drop=True),\n",
    "                             dim=['xh','yh'])\n",
    "    hs_w = histogram(geolat.where(mask,drop=True),\n",
    "                     bins=[lat_bins],\n",
    "                     weights=weights.fillna(0).where(mask,drop=True),\n",
    "                     dim=['xh','yh'])\n",
    "    return hs_daw/hs_w"
   ]
  },
  {
   "cell_type": "code",
   "execution_count": 85,
   "id": "39d23fb7-1872-4579-8329-7fa3b2e6bffe",
   "metadata": {},
   "outputs": [],
   "source": [
    "weights = grid['areacello']\n",
    "geolat = grid['geolat']\n",
    "\n",
    "firstdy = (grid['yq'].values[0]-grid['yh'].values[0])\n",
    "lat_bins = np.append(grid['yh'].values[0]-firstdy,grid['yq'].values)"
   ]
  },
  {
   "cell_type": "code",
   "execution_count": 86,
   "id": "27c2625c-9488-45bb-96c0-26b6d21d1b18",
   "metadata": {},
   "outputs": [
    {
     "name": "stderr",
     "output_type": "stream",
     "text": [
      "/home/graemem/.conda/envs/core/lib/python3.10/site-packages/dask/array/core.py:1701: FutureWarning: The `numpy.histogram_bin_edges` function is not implemented by Dask array. You may want to use the da.map_blocks function or something similar to silence this warning. Your code may stop working in a future release.\n",
      "  warnings.warn(\n"
     ]
    },
    {
     "name": "stdout",
     "output_type": "stream",
     "text": [
      "Saving intpp.monthly.global.nc\n",
      "[######################                  ] | 57% Completed | 1.29 s ms"
     ]
    },
    {
     "name": "stderr",
     "output_type": "stream",
     "text": [
      "/home/graemem/.conda/envs/core/lib/python3.10/site-packages/dask/core.py:119: RuntimeWarning: invalid value encountered in true_divide\n",
      "  return func(*(_execute_task(a, cache) for a in args))\n"
     ]
    },
    {
     "name": "stdout",
     "output_type": "stream",
     "text": [
      "[########################################] | 100% Completed | 2.35 s\n"
     ]
    },
    {
     "name": "stderr",
     "output_type": "stream",
     "text": [
      "/home/graemem/.conda/envs/core/lib/python3.10/site-packages/dask/array/core.py:1701: FutureWarning: The `numpy.histogram_bin_edges` function is not implemented by Dask array. You may want to use the da.map_blocks function or something similar to silence this warning. Your code may stop working in a future release.\n",
      "  warnings.warn(\n"
     ]
    },
    {
     "name": "stdout",
     "output_type": "stream",
     "text": [
      "Saving intpp.monthly.atlantic_global.nc\n",
      "[######################                  ] | 57% Completed | 1.18 s ms"
     ]
    },
    {
     "name": "stderr",
     "output_type": "stream",
     "text": [
      "/home/graemem/.conda/envs/core/lib/python3.10/site-packages/dask/core.py:119: RuntimeWarning: invalid value encountered in true_divide\n",
      "  return func(*(_execute_task(a, cache) for a in args))\n"
     ]
    },
    {
     "name": "stdout",
     "output_type": "stream",
     "text": [
      "[########################################] | 100% Completed | 2.14 s\n"
     ]
    },
    {
     "name": "stderr",
     "output_type": "stream",
     "text": [
      "/home/graemem/.conda/envs/core/lib/python3.10/site-packages/dask/array/core.py:1701: FutureWarning: The `numpy.histogram_bin_edges` function is not implemented by Dask array. You may want to use the da.map_blocks function or something similar to silence this warning. Your code may stop working in a future release.\n",
      "  warnings.warn(\n"
     ]
    },
    {
     "name": "stdout",
     "output_type": "stream",
     "text": [
      "Saving intpp.monthly.pacific_global.nc\n",
      "[######################                  ] | 57% Completed | 1.18 s ms"
     ]
    },
    {
     "name": "stderr",
     "output_type": "stream",
     "text": [
      "/home/graemem/.conda/envs/core/lib/python3.10/site-packages/dask/core.py:119: RuntimeWarning: invalid value encountered in true_divide\n",
      "  return func(*(_execute_task(a, cache) for a in args))\n"
     ]
    },
    {
     "name": "stdout",
     "output_type": "stream",
     "text": [
      "[########################################] | 100% Completed | 2.26 s\n"
     ]
    },
    {
     "name": "stderr",
     "output_type": "stream",
     "text": [
      "/home/graemem/.conda/envs/core/lib/python3.10/site-packages/dask/array/core.py:1701: FutureWarning: The `numpy.histogram_bin_edges` function is not implemented by Dask array. You may want to use the da.map_blocks function or something similar to silence this warning. Your code may stop working in a future release.\n",
      "  warnings.warn(\n"
     ]
    },
    {
     "name": "stdout",
     "output_type": "stream",
     "text": [
      "Saving intpp.monthly.indian_global.nc\n",
      "[######################                  ] | 57% Completed | 538.49 ms"
     ]
    },
    {
     "name": "stderr",
     "output_type": "stream",
     "text": [
      "/home/graemem/.conda/envs/core/lib/python3.10/site-packages/dask/core.py:119: RuntimeWarning: invalid value encountered in true_divide\n",
      "  return func(*(_execute_task(a, cache) for a in args))\n"
     ]
    },
    {
     "name": "stdout",
     "output_type": "stream",
     "text": [
      "[########################################] | 100% Completed | 957.74 ms\n"
     ]
    },
    {
     "name": "stderr",
     "output_type": "stream",
     "text": [
      "/home/graemem/.conda/envs/core/lib/python3.10/site-packages/dask/array/core.py:1701: FutureWarning: The `numpy.histogram_bin_edges` function is not implemented by Dask array. You may want to use the da.map_blocks function or something similar to silence this warning. Your code may stop working in a future release.\n",
      "  warnings.warn(\n"
     ]
    },
    {
     "name": "stdout",
     "output_type": "stream",
     "text": [
      "Saving intppdiat.monthly.global.nc\n",
      "[######################                  ] | 57% Completed | 1.30 s ms"
     ]
    },
    {
     "name": "stderr",
     "output_type": "stream",
     "text": [
      "/home/graemem/.conda/envs/core/lib/python3.10/site-packages/dask/core.py:119: RuntimeWarning: invalid value encountered in true_divide\n",
      "  return func(*(_execute_task(a, cache) for a in args))\n"
     ]
    },
    {
     "name": "stdout",
     "output_type": "stream",
     "text": [
      "[########################################] | 100% Completed | 2.26 s\n"
     ]
    },
    {
     "name": "stderr",
     "output_type": "stream",
     "text": [
      "/home/graemem/.conda/envs/core/lib/python3.10/site-packages/dask/array/core.py:1701: FutureWarning: The `numpy.histogram_bin_edges` function is not implemented by Dask array. You may want to use the da.map_blocks function or something similar to silence this warning. Your code may stop working in a future release.\n",
      "  warnings.warn(\n"
     ]
    },
    {
     "name": "stdout",
     "output_type": "stream",
     "text": [
      "Saving intppdiat.monthly.atlantic_global.nc\n",
      "[######################                  ] | 57% Completed | 1.19 s ms"
     ]
    },
    {
     "name": "stderr",
     "output_type": "stream",
     "text": [
      "/home/graemem/.conda/envs/core/lib/python3.10/site-packages/dask/core.py:119: RuntimeWarning: invalid value encountered in true_divide\n",
      "  return func(*(_execute_task(a, cache) for a in args))\n"
     ]
    },
    {
     "name": "stdout",
     "output_type": "stream",
     "text": [
      "[########################################] | 100% Completed | 2.26 s\n"
     ]
    },
    {
     "name": "stderr",
     "output_type": "stream",
     "text": [
      "/home/graemem/.conda/envs/core/lib/python3.10/site-packages/dask/array/core.py:1701: FutureWarning: The `numpy.histogram_bin_edges` function is not implemented by Dask array. You may want to use the da.map_blocks function or something similar to silence this warning. Your code may stop working in a future release.\n",
      "  warnings.warn(\n"
     ]
    },
    {
     "name": "stdout",
     "output_type": "stream",
     "text": [
      "Saving intppdiat.monthly.pacific_global.nc\n",
      "[######################                  ] | 57% Completed | 1.30 s ms"
     ]
    },
    {
     "name": "stderr",
     "output_type": "stream",
     "text": [
      "/home/graemem/.conda/envs/core/lib/python3.10/site-packages/dask/core.py:119: RuntimeWarning: invalid value encountered in true_divide\n",
      "  return func(*(_execute_task(a, cache) for a in args))\n"
     ]
    },
    {
     "name": "stdout",
     "output_type": "stream",
     "text": [
      "[########################################] | 100% Completed | 2.26 s\n"
     ]
    },
    {
     "name": "stderr",
     "output_type": "stream",
     "text": [
      "/home/graemem/.conda/envs/core/lib/python3.10/site-packages/dask/array/core.py:1701: FutureWarning: The `numpy.histogram_bin_edges` function is not implemented by Dask array. You may want to use the da.map_blocks function or something similar to silence this warning. Your code may stop working in a future release.\n",
      "  warnings.warn(\n"
     ]
    },
    {
     "name": "stdout",
     "output_type": "stream",
     "text": [
      "Saving intppdiat.monthly.indian_global.nc\n",
      "[######################                  ] | 57% Completed | 543.35 ms"
     ]
    },
    {
     "name": "stderr",
     "output_type": "stream",
     "text": [
      "/home/graemem/.conda/envs/core/lib/python3.10/site-packages/dask/core.py:119: RuntimeWarning: invalid value encountered in true_divide\n",
      "  return func(*(_execute_task(a, cache) for a in args))\n"
     ]
    },
    {
     "name": "stdout",
     "output_type": "stream",
     "text": [
      "[########################################] | 100% Completed | 863.60 ms\n"
     ]
    },
    {
     "name": "stderr",
     "output_type": "stream",
     "text": [
      "/home/graemem/.conda/envs/core/lib/python3.10/site-packages/dask/array/core.py:1701: FutureWarning: The `numpy.histogram_bin_edges` function is not implemented by Dask array. You may want to use the da.map_blocks function or something similar to silence this warning. Your code may stop working in a future release.\n",
      "  warnings.warn(\n"
     ]
    },
    {
     "name": "stdout",
     "output_type": "stream",
     "text": [
      "Saving intppdiaz.monthly.global.nc\n",
      "[######################                  ] | 57% Completed | 1.29 s ms"
     ]
    },
    {
     "name": "stderr",
     "output_type": "stream",
     "text": [
      "/home/graemem/.conda/envs/core/lib/python3.10/site-packages/dask/core.py:119: RuntimeWarning: invalid value encountered in true_divide\n",
      "  return func(*(_execute_task(a, cache) for a in args))\n"
     ]
    },
    {
     "name": "stdout",
     "output_type": "stream",
     "text": [
      "[########################################] | 100% Completed | 2.35 s\n"
     ]
    },
    {
     "name": "stderr",
     "output_type": "stream",
     "text": [
      "/home/graemem/.conda/envs/core/lib/python3.10/site-packages/dask/array/core.py:1701: FutureWarning: The `numpy.histogram_bin_edges` function is not implemented by Dask array. You may want to use the da.map_blocks function or something similar to silence this warning. Your code may stop working in a future release.\n",
      "  warnings.warn(\n"
     ]
    },
    {
     "name": "stdout",
     "output_type": "stream",
     "text": [
      "Saving intppdiaz.monthly.atlantic_global.nc\n",
      "[######################                  ] | 57% Completed | 1.18 s ms"
     ]
    },
    {
     "name": "stderr",
     "output_type": "stream",
     "text": [
      "/home/graemem/.conda/envs/core/lib/python3.10/site-packages/dask/core.py:119: RuntimeWarning: invalid value encountered in true_divide\n",
      "  return func(*(_execute_task(a, cache) for a in args))\n"
     ]
    },
    {
     "name": "stdout",
     "output_type": "stream",
     "text": [
      "[########################################] | 100% Completed | 2.14 s\n"
     ]
    },
    {
     "name": "stderr",
     "output_type": "stream",
     "text": [
      "/home/graemem/.conda/envs/core/lib/python3.10/site-packages/dask/array/core.py:1701: FutureWarning: The `numpy.histogram_bin_edges` function is not implemented by Dask array. You may want to use the da.map_blocks function or something similar to silence this warning. Your code may stop working in a future release.\n",
      "  warnings.warn(\n"
     ]
    },
    {
     "name": "stdout",
     "output_type": "stream",
     "text": [
      "Saving intppdiaz.monthly.pacific_global.nc\n",
      "[######################                  ] | 57% Completed | 1.19 s ms"
     ]
    },
    {
     "name": "stderr",
     "output_type": "stream",
     "text": [
      "/home/graemem/.conda/envs/core/lib/python3.10/site-packages/dask/core.py:119: RuntimeWarning: invalid value encountered in true_divide\n",
      "  return func(*(_execute_task(a, cache) for a in args))\n"
     ]
    },
    {
     "name": "stdout",
     "output_type": "stream",
     "text": [
      "[########################################] | 100% Completed | 2.15 s\n"
     ]
    },
    {
     "name": "stderr",
     "output_type": "stream",
     "text": [
      "/home/graemem/.conda/envs/core/lib/python3.10/site-packages/dask/array/core.py:1701: FutureWarning: The `numpy.histogram_bin_edges` function is not implemented by Dask array. You may want to use the da.map_blocks function or something similar to silence this warning. Your code may stop working in a future release.\n",
      "  warnings.warn(\n"
     ]
    },
    {
     "name": "stdout",
     "output_type": "stream",
     "text": [
      "Saving intppdiaz.monthly.indian_global.nc\n",
      "[######################                  ] | 57% Completed | 645.21 ms"
     ]
    },
    {
     "name": "stderr",
     "output_type": "stream",
     "text": [
      "/home/graemem/.conda/envs/core/lib/python3.10/site-packages/dask/core.py:119: RuntimeWarning: invalid value encountered in true_divide\n",
      "  return func(*(_execute_task(a, cache) for a in args))\n"
     ]
    },
    {
     "name": "stdout",
     "output_type": "stream",
     "text": [
      "[########################################] | 100% Completed | 966.44 ms\n"
     ]
    },
    {
     "name": "stderr",
     "output_type": "stream",
     "text": [
      "/home/graemem/.conda/envs/core/lib/python3.10/site-packages/dask/array/core.py:1701: FutureWarning: The `numpy.histogram_bin_edges` function is not implemented by Dask array. You may want to use the da.map_blocks function or something similar to silence this warning. Your code may stop working in a future release.\n",
      "  warnings.warn(\n"
     ]
    },
    {
     "name": "stdout",
     "output_type": "stream",
     "text": [
      "Saving intppmisc.monthly.global.nc\n",
      "[######################                  ] | 57% Completed | 1.29 s ms"
     ]
    },
    {
     "name": "stderr",
     "output_type": "stream",
     "text": [
      "/home/graemem/.conda/envs/core/lib/python3.10/site-packages/dask/core.py:119: RuntimeWarning: invalid value encountered in true_divide\n",
      "  return func(*(_execute_task(a, cache) for a in args))\n"
     ]
    },
    {
     "name": "stdout",
     "output_type": "stream",
     "text": [
      "[########################################] | 100% Completed | 2.35 s\n"
     ]
    },
    {
     "name": "stderr",
     "output_type": "stream",
     "text": [
      "/home/graemem/.conda/envs/core/lib/python3.10/site-packages/dask/array/core.py:1701: FutureWarning: The `numpy.histogram_bin_edges` function is not implemented by Dask array. You may want to use the da.map_blocks function or something similar to silence this warning. Your code may stop working in a future release.\n",
      "  warnings.warn(\n"
     ]
    },
    {
     "name": "stdout",
     "output_type": "stream",
     "text": [
      "Saving intppmisc.monthly.atlantic_global.nc\n",
      "[######################                  ] | 57% Completed | 1.19 s ms"
     ]
    },
    {
     "name": "stderr",
     "output_type": "stream",
     "text": [
      "/home/graemem/.conda/envs/core/lib/python3.10/site-packages/dask/core.py:119: RuntimeWarning: invalid value encountered in true_divide\n",
      "  return func(*(_execute_task(a, cache) for a in args))\n"
     ]
    },
    {
     "name": "stdout",
     "output_type": "stream",
     "text": [
      "[########################################] | 100% Completed | 2.25 s\n"
     ]
    },
    {
     "name": "stderr",
     "output_type": "stream",
     "text": [
      "/home/graemem/.conda/envs/core/lib/python3.10/site-packages/dask/array/core.py:1701: FutureWarning: The `numpy.histogram_bin_edges` function is not implemented by Dask array. You may want to use the da.map_blocks function or something similar to silence this warning. Your code may stop working in a future release.\n",
      "  warnings.warn(\n"
     ]
    },
    {
     "name": "stdout",
     "output_type": "stream",
     "text": [
      "Saving intppmisc.monthly.pacific_global.nc\n",
      "[######################                  ] | 57% Completed | 1.19 s ms"
     ]
    },
    {
     "name": "stderr",
     "output_type": "stream",
     "text": [
      "/home/graemem/.conda/envs/core/lib/python3.10/site-packages/dask/core.py:119: RuntimeWarning: invalid value encountered in true_divide\n",
      "  return func(*(_execute_task(a, cache) for a in args))\n"
     ]
    },
    {
     "name": "stdout",
     "output_type": "stream",
     "text": [
      "[########################################] | 100% Completed | 2.15 s\n"
     ]
    },
    {
     "name": "stderr",
     "output_type": "stream",
     "text": [
      "/home/graemem/.conda/envs/core/lib/python3.10/site-packages/dask/array/core.py:1701: FutureWarning: The `numpy.histogram_bin_edges` function is not implemented by Dask array. You may want to use the da.map_blocks function or something similar to silence this warning. Your code may stop working in a future release.\n",
      "  warnings.warn(\n"
     ]
    },
    {
     "name": "stdout",
     "output_type": "stream",
     "text": [
      "Saving intppmisc.monthly.indian_global.nc\n",
      "[######################                  ] | 57% Completed | 544.12 ms"
     ]
    },
    {
     "name": "stderr",
     "output_type": "stream",
     "text": [
      "/home/graemem/.conda/envs/core/lib/python3.10/site-packages/dask/core.py:119: RuntimeWarning: invalid value encountered in true_divide\n",
      "  return func(*(_execute_task(a, cache) for a in args))\n"
     ]
    },
    {
     "name": "stdout",
     "output_type": "stream",
     "text": [
      "[########################################] | 100% Completed | 860.98 ms\n"
     ]
    },
    {
     "name": "stderr",
     "output_type": "stream",
     "text": [
      "/home/graemem/.conda/envs/core/lib/python3.10/site-packages/dask/array/core.py:1701: FutureWarning: The `numpy.histogram_bin_edges` function is not implemented by Dask array. You may want to use the da.map_blocks function or something similar to silence this warning. Your code may stop working in a future release.\n",
      "  warnings.warn(\n"
     ]
    },
    {
     "name": "stdout",
     "output_type": "stream",
     "text": [
      "Saving intppnitrate.monthly.global.nc\n",
      "[######################                  ] | 57% Completed | 1.30 s ms"
     ]
    },
    {
     "name": "stderr",
     "output_type": "stream",
     "text": [
      "/home/graemem/.conda/envs/core/lib/python3.10/site-packages/dask/core.py:119: RuntimeWarning: invalid value encountered in true_divide\n",
      "  return func(*(_execute_task(a, cache) for a in args))\n"
     ]
    },
    {
     "name": "stdout",
     "output_type": "stream",
     "text": [
      "[########################################] | 100% Completed | 2.37 s\n"
     ]
    },
    {
     "name": "stderr",
     "output_type": "stream",
     "text": [
      "/home/graemem/.conda/envs/core/lib/python3.10/site-packages/dask/array/core.py:1701: FutureWarning: The `numpy.histogram_bin_edges` function is not implemented by Dask array. You may want to use the da.map_blocks function or something similar to silence this warning. Your code may stop working in a future release.\n",
      "  warnings.warn(\n"
     ]
    },
    {
     "name": "stdout",
     "output_type": "stream",
     "text": [
      "Saving intppnitrate.monthly.atlantic_global.nc\n",
      "[######################                  ] | 57% Completed | 1.18 s ms"
     ]
    },
    {
     "name": "stderr",
     "output_type": "stream",
     "text": [
      "/home/graemem/.conda/envs/core/lib/python3.10/site-packages/dask/core.py:119: RuntimeWarning: invalid value encountered in true_divide\n",
      "  return func(*(_execute_task(a, cache) for a in args))\n"
     ]
    },
    {
     "name": "stdout",
     "output_type": "stream",
     "text": [
      "[########################################] | 100% Completed | 2.14 s\n"
     ]
    },
    {
     "name": "stderr",
     "output_type": "stream",
     "text": [
      "/home/graemem/.conda/envs/core/lib/python3.10/site-packages/dask/array/core.py:1701: FutureWarning: The `numpy.histogram_bin_edges` function is not implemented by Dask array. You may want to use the da.map_blocks function or something similar to silence this warning. Your code may stop working in a future release.\n",
      "  warnings.warn(\n"
     ]
    },
    {
     "name": "stdout",
     "output_type": "stream",
     "text": [
      "Saving intppnitrate.monthly.pacific_global.nc\n",
      "[######################                  ] | 57% Completed | 1.20 s ms"
     ]
    },
    {
     "name": "stderr",
     "output_type": "stream",
     "text": [
      "/home/graemem/.conda/envs/core/lib/python3.10/site-packages/dask/core.py:119: RuntimeWarning: invalid value encountered in true_divide\n",
      "  return func(*(_execute_task(a, cache) for a in args))\n"
     ]
    },
    {
     "name": "stdout",
     "output_type": "stream",
     "text": [
      "[########################################] | 100% Completed | 2.16 s\n"
     ]
    },
    {
     "name": "stderr",
     "output_type": "stream",
     "text": [
      "/home/graemem/.conda/envs/core/lib/python3.10/site-packages/dask/array/core.py:1701: FutureWarning: The `numpy.histogram_bin_edges` function is not implemented by Dask array. You may want to use the da.map_blocks function or something similar to silence this warning. Your code may stop working in a future release.\n",
      "  warnings.warn(\n"
     ]
    },
    {
     "name": "stdout",
     "output_type": "stream",
     "text": [
      "Saving intppnitrate.monthly.indian_global.nc\n",
      "[######################                  ] | 57% Completed | 541.31 ms"
     ]
    },
    {
     "name": "stderr",
     "output_type": "stream",
     "text": [
      "/home/graemem/.conda/envs/core/lib/python3.10/site-packages/dask/core.py:119: RuntimeWarning: invalid value encountered in true_divide\n",
      "  return func(*(_execute_task(a, cache) for a in args))\n"
     ]
    },
    {
     "name": "stdout",
     "output_type": "stream",
     "text": [
      "[########################################] | 100% Completed | 856.53 ms\n"
     ]
    },
    {
     "name": "stderr",
     "output_type": "stream",
     "text": [
      "/home/graemem/.conda/envs/core/lib/python3.10/site-packages/dask/array/core.py:1701: FutureWarning: The `numpy.histogram_bin_edges` function is not implemented by Dask array. You may want to use the da.map_blocks function or something similar to silence this warning. Your code may stop working in a future release.\n",
      "  warnings.warn(\n"
     ]
    },
    {
     "name": "stdout",
     "output_type": "stream",
     "text": [
      "Saving intpppico.monthly.global.nc\n",
      "[######################                  ] | 57% Completed | 1.30 s ms"
     ]
    },
    {
     "name": "stderr",
     "output_type": "stream",
     "text": [
      "/home/graemem/.conda/envs/core/lib/python3.10/site-packages/dask/core.py:119: RuntimeWarning: invalid value encountered in true_divide\n",
      "  return func(*(_execute_task(a, cache) for a in args))\n"
     ]
    },
    {
     "name": "stdout",
     "output_type": "stream",
     "text": [
      "[########################################] | 100% Completed | 2.27 s\n"
     ]
    },
    {
     "name": "stderr",
     "output_type": "stream",
     "text": [
      "/home/graemem/.conda/envs/core/lib/python3.10/site-packages/dask/array/core.py:1701: FutureWarning: The `numpy.histogram_bin_edges` function is not implemented by Dask array. You may want to use the da.map_blocks function or something similar to silence this warning. Your code may stop working in a future release.\n",
      "  warnings.warn(\n"
     ]
    },
    {
     "name": "stdout",
     "output_type": "stream",
     "text": [
      "Saving intpppico.monthly.atlantic_global.nc\n",
      "[######################                  ] | 57% Completed | 1.18 s ms"
     ]
    },
    {
     "name": "stderr",
     "output_type": "stream",
     "text": [
      "/home/graemem/.conda/envs/core/lib/python3.10/site-packages/dask/core.py:119: RuntimeWarning: invalid value encountered in true_divide\n",
      "  return func(*(_execute_task(a, cache) for a in args))\n"
     ]
    },
    {
     "name": "stdout",
     "output_type": "stream",
     "text": [
      "[########################################] | 100% Completed | 2.13 s\n"
     ]
    },
    {
     "name": "stderr",
     "output_type": "stream",
     "text": [
      "/home/graemem/.conda/envs/core/lib/python3.10/site-packages/dask/array/core.py:1701: FutureWarning: The `numpy.histogram_bin_edges` function is not implemented by Dask array. You may want to use the da.map_blocks function or something similar to silence this warning. Your code may stop working in a future release.\n",
      "  warnings.warn(\n"
     ]
    },
    {
     "name": "stdout",
     "output_type": "stream",
     "text": [
      "Saving intpppico.monthly.pacific_global.nc\n",
      "[######################                  ] | 57% Completed | 1.19 s ms"
     ]
    },
    {
     "name": "stderr",
     "output_type": "stream",
     "text": [
      "/home/graemem/.conda/envs/core/lib/python3.10/site-packages/dask/core.py:119: RuntimeWarning: invalid value encountered in true_divide\n",
      "  return func(*(_execute_task(a, cache) for a in args))\n"
     ]
    },
    {
     "name": "stdout",
     "output_type": "stream",
     "text": [
      "[########################################] | 100% Completed | 2.25 s\n"
     ]
    },
    {
     "name": "stderr",
     "output_type": "stream",
     "text": [
      "/home/graemem/.conda/envs/core/lib/python3.10/site-packages/dask/array/core.py:1701: FutureWarning: The `numpy.histogram_bin_edges` function is not implemented by Dask array. You may want to use the da.map_blocks function or something similar to silence this warning. Your code may stop working in a future release.\n",
      "  warnings.warn(\n"
     ]
    },
    {
     "name": "stdout",
     "output_type": "stream",
     "text": [
      "Saving intpppico.monthly.indian_global.nc\n",
      "[######################                  ] | 57% Completed | 544.46 ms"
     ]
    },
    {
     "name": "stderr",
     "output_type": "stream",
     "text": [
      "/home/graemem/.conda/envs/core/lib/python3.10/site-packages/dask/core.py:119: RuntimeWarning: invalid value encountered in true_divide\n",
      "  return func(*(_execute_task(a, cache) for a in args))\n"
     ]
    },
    {
     "name": "stdout",
     "output_type": "stream",
     "text": [
      "[########################################] | 100% Completed | 970.37 ms\n"
     ]
    }
   ],
   "source": [
    "savedir = ppeDict['datasavedir']+'/processed/ppp_zonalmeans/'\n",
    "masknames_global = ['global','atlantic_global','pacific_global','indian_global']\n",
    "for variable,da in ppp.items():\n",
    "    for maskname in masknames_global:\n",
    "        mask = masks[maskname]\n",
    "        tmp = calc_zonalmean(da,mask,weights,geolat,lat_bins)\n",
    "        savefilename = '.'.join([variable,frequency,maskname,'nc'])\n",
    "        if os.path.isfile(savedir+savefilename):\n",
    "            print(savefilename+' already exists.')\n",
    "            continue\n",
    "        else:\n",
    "            print('Saving '+savefilename)\n",
    "            tmp.name=variable\n",
    "            with ProgressBar():\n",
    "                tmp.to_netcdf(savedir+savefilename)"
   ]
  },
  {
   "cell_type": "code",
   "execution_count": null,
   "id": "3e7077e4-19ad-46ef-9669-4102d850d70b",
   "metadata": {},
   "outputs": [],
   "source": []
  }
 ],
 "metadata": {
  "kernelspec": {
   "display_name": "core [~/.conda/envs/core/]",
   "language": "python",
   "name": "conda_core"
  },
  "language_info": {
   "codemirror_mode": {
    "name": "ipython",
    "version": 3
   },
   "file_extension": ".py",
   "mimetype": "text/x-python",
   "name": "python",
   "nbconvert_exporter": "python",
   "pygments_lexer": "ipython3",
   "version": "3.10.9"
  }
 },
 "nbformat": 4,
 "nbformat_minor": 5
}
