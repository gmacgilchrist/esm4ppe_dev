{
 "cells": [
  {
   "cell_type": "code",
   "execution_count": 2,
   "id": "29a5e982-0332-4f25-9a29-84852e53ce39",
   "metadata": {},
   "outputs": [],
   "source": [
    "%load_ext autoreload\n",
    "%autoreload 2"
   ]
  },
  {
   "cell_type": "markdown",
   "id": "7aece2e2-15bd-4b72-9cae-fbdb4b27a483",
   "metadata": {},
   "source": [
    "## Calculate zonal means of potential prognostic predictability"
   ]
  },
  {
   "cell_type": "code",
   "execution_count": 31,
   "id": "b882367f-a393-4cd2-a972-eb321037b77a",
   "metadata": {},
   "outputs": [],
   "source": [
    "import xarray as xr\n",
    "import numpy as np\n",
    "import gfdl_utils as gu\n",
    "import glob\n",
    "from dask.diagnostics import ProgressBar\n",
    "from information import *\n",
    "from processing import *\n",
    "from variance import *\n",
    "import os\n",
    "import re\n",
    "from xhistogram.xarray import histogram"
   ]
  },
  {
   "cell_type": "code",
   "execution_count": 32,
   "id": "37dc866e-a79b-47d3-9fb9-b556e466157e",
   "metadata": {},
   "outputs": [],
   "source": [
    "ppname = 'ocean_cobalt_omip_2d'\n",
    "frequency = gu.core.get_timefrequency(ppcontrol,ppname)\n",
    "startmonth = 1\n",
    "filename = '.'.join([ppname,str(startmonth).zfill(2),'zarr'])\n",
    "ppp = xr.open_zarr(ppeDict['datasavedir']+'/processed/ppp/'+filename)"
   ]
  },
  {
   "cell_type": "code",
   "execution_count": 33,
   "id": "8ebe6766-f1bd-429e-85ac-72244ffde1ed",
   "metadata": {},
   "outputs": [],
   "source": [
    "grid = xr.open_dataset(ppeDict['griddirtmp']+ppeDict['gridfile'])"
   ]
  },
  {
   "cell_type": "code",
   "execution_count": 34,
   "id": "2bb8cd5c-6134-44f3-a671-41d9e0e1f0ea",
   "metadata": {},
   "outputs": [],
   "source": [
    "masks = generate_masks(grid)"
   ]
  },
  {
   "cell_type": "code",
   "execution_count": 35,
   "id": "84735d2d-92a7-48df-b27f-81ccdeaa318b",
   "metadata": {},
   "outputs": [],
   "source": [
    "def calc_zonalmean(da,mask,weights,geolat,lat_bins):\n",
    "    hs_daw = histogram(geolat.where(mask,drop=True),\n",
    "                             bins=[lat_bins],\n",
    "                             weights=(da*weights).fillna(0).where(mask,drop=True),\n",
    "                             dim=['xh','yh'])\n",
    "    hs_w = histogram(geolat.where(mask,drop=True),\n",
    "                     bins=[lat_bins],\n",
    "                     weights=weights.fillna(0).where(mask,drop=True),\n",
    "                     dim=['xh','yh'])\n",
    "    return hs_daw/hs_w"
   ]
  },
  {
   "cell_type": "code",
   "execution_count": 36,
   "id": "39d23fb7-1872-4579-8329-7fa3b2e6bffe",
   "metadata": {},
   "outputs": [],
   "source": [
    "weights = grid['areacello']\n",
    "geolat = grid['geolat']\n",
    "\n",
    "firstdy = (grid['yq'].values[0]-grid['yh'].values[0])\n",
    "lat_bins = np.append(grid['yh'].values[0]-firstdy,grid['yq'].values)"
   ]
  },
  {
   "cell_type": "code",
   "execution_count": 37,
   "id": "27c2625c-9488-45bb-96c0-26b6d21d1b18",
   "metadata": {},
   "outputs": [
    {
     "name": "stdout",
     "output_type": "stream",
     "text": [
      "Saving intpp.monthly.01.global.nc\n",
      "[########################################] | 100% Completed | 2.17 sms\n"
     ]
    },
    {
     "name": "stderr",
     "output_type": "stream",
     "text": [
      "/nbhome/gam/miniconda3/envs/predict/lib/python3.11/site-packages/dask/core.py:119: RuntimeWarning: invalid value encountered in divide\n",
      "  return func(*(_execute_task(a, cache) for a in args))\n"
     ]
    },
    {
     "name": "stdout",
     "output_type": "stream",
     "text": [
      "Saving intpp.monthly.01.atlantic_global.nc\n",
      "[############################            ] | 71% Completed | 1.63 s ms"
     ]
    },
    {
     "name": "stderr",
     "output_type": "stream",
     "text": [
      "/nbhome/gam/miniconda3/envs/predict/lib/python3.11/site-packages/dask/core.py:119: RuntimeWarning: invalid value encountered in divide\n",
      "  return func(*(_execute_task(a, cache) for a in args))\n"
     ]
    },
    {
     "name": "stdout",
     "output_type": "stream",
     "text": [
      "[########################################] | 100% Completed | 1.73 s\n",
      "Saving intpp.monthly.01.pacific_global.nc\n",
      "[############################            ] | 71% Completed | 1.66 s ms"
     ]
    },
    {
     "name": "stderr",
     "output_type": "stream",
     "text": [
      "/nbhome/gam/miniconda3/envs/predict/lib/python3.11/site-packages/dask/core.py:119: RuntimeWarning: invalid value encountered in divide\n",
      "  return func(*(_execute_task(a, cache) for a in args))\n"
     ]
    },
    {
     "name": "stdout",
     "output_type": "stream",
     "text": [
      "[########################################] | 100% Completed | 1.78 s\n",
      "Saving intpp.monthly.01.indian_global.nc\n",
      "[########################################] | 100% Completed | 918.16 ms\n"
     ]
    },
    {
     "name": "stderr",
     "output_type": "stream",
     "text": [
      "/nbhome/gam/miniconda3/envs/predict/lib/python3.11/site-packages/dask/core.py:119: RuntimeWarning: invalid value encountered in divide\n",
      "  return func(*(_execute_task(a, cache) for a in args))\n"
     ]
    }
   ],
   "source": [
    "savedir = ppeDict['datasavedir']+'/processed/ppp_zonalmeans/'\n",
    "masknames_global = ['global','atlantic_global','pacific_global','indian_global']\n",
    "for variable,da in ppp.items():\n",
    "    for maskname in masknames_global:\n",
    "        mask = masks[maskname]\n",
    "        tmp = calc_zonalmean(da,mask,weights,geolat,lat_bins)\n",
    "        savefilename = '.'.join([variable,frequency,str(startmonth).zfill(2),maskname,'nc'])\n",
    "        if os.path.isfile(savedir+savefilename):\n",
    "            print(savefilename+' already exists.')\n",
    "            continue\n",
    "        else:\n",
    "            print('Saving '+savefilename)\n",
    "            tmp.name=variable\n",
    "            with ProgressBar():\n",
    "                tmp.to_netcdf(savedir+savefilename)"
   ]
  },
  {
   "cell_type": "code",
   "execution_count": null,
   "id": "3e7077e4-19ad-46ef-9669-4102d850d70b",
   "metadata": {},
   "outputs": [],
   "source": []
  }
 ],
 "metadata": {
  "kernelspec": {
   "display_name": "Python [conda env:predict]",
   "language": "python",
   "name": "conda-env-predict-py"
  },
  "language_info": {
   "codemirror_mode": {
    "name": "ipython",
    "version": 3
   },
   "file_extension": ".py",
   "mimetype": "text/x-python",
   "name": "python",
   "nbconvert_exporter": "python",
   "pygments_lexer": "ipython3",
   "version": "3.11.0"
  }
 },
 "nbformat": 4,
 "nbformat_minor": 5
}
