{
 "cells": [
  {
   "cell_type": "code",
   "execution_count": 3,
   "id": "34cf0773-b52a-4cae-a14d-b723c71797e6",
   "metadata": {},
   "outputs": [],
   "source": [
    "import xarray as xr\n",
    "from information import *\n",
    "import os"
   ]
  },
  {
   "cell_type": "code",
   "execution_count": 21,
   "id": "34623f22-048c-4bc5-91ab-5f2a96532ad8",
   "metadata": {},
   "outputs": [],
   "source": [
    "variables = ['chlos','intpp','phos','intppdiaz','intppmisc','intppnitrate','intpppico','intppdiat','zoocos','tos','sos','o2os']\n",
    "maskset_old = 'regionalmeans'\n",
    "maskset_new = 'global'\n",
    "savedir = ppeDict['datasavedir']+'/processed/regionalmeans/'\n",
    "\n",
    "for variable in variables:\n",
    "    for startyear in ppeDict['startyears']:\n",
    "        for startmonth in ppeDict['startmonths']:\n",
    "            filename = '.'.join([variable,'monthly',str(startyear).zfill(4)+str(startmonth).zfill(2),maskset_old,'nc'])\n",
    "            filename_new = '.'.join([variable,'monthly',str(startyear).zfill(4)+str(startmonth).zfill(2),maskset_new,'nc'])\n",
    "            try:\n",
    "                os.rename(savedir+filename,savedir+filename_new)\n",
    "                print(filename_old)\n",
    "            except:\n",
    "                continue\n",
    "    filename = '.'.join([variable,'monthly','control',maskset_old,'nc'])\n",
    "    filename_new = '.'.join([variable,'monthly','control',maskset_new,'nc'])\n",
    "    try:\n",
    "        os.rename(savedir+filename,savedir+filename_new)\n",
    "    except:\n",
    "        continue"
   ]
  },
  {
   "cell_type": "code",
   "execution_count": 15,
   "id": "c7133ce7-a5d1-4e03-b47d-e038c4520f0b",
   "metadata": {},
   "outputs": [
    {
     "data": {
      "text/plain": [
       "'phos.monthly.control.LME.nc'"
      ]
     },
     "execution_count": 15,
     "metadata": {},
     "output_type": "execute_result"
    }
   ],
   "source": [
    "filename"
   ]
  },
  {
   "cell_type": "code",
   "execution_count": null,
   "id": "e8999633-6e49-4a50-8b8a-fd79254cba4c",
   "metadata": {},
   "outputs": [],
   "source": []
  }
 ],
 "metadata": {
  "kernelspec": {
   "display_name": "Python [conda env:predict]",
   "language": "python",
   "name": "conda-env-predict-py"
  },
  "language_info": {
   "codemirror_mode": {
    "name": "ipython",
    "version": 3
   },
   "file_extension": ".py",
   "mimetype": "text/x-python",
   "name": "python",
   "nbconvert_exporter": "python",
   "pygments_lexer": "ipython3",
   "version": "3.11.0"
  }
 },
 "nbformat": 4,
 "nbformat_minor": 5
}
