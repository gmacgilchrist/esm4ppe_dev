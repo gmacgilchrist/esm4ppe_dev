{
 "cells": [
  {
   "cell_type": "code",
   "execution_count": 1,
   "id": "29a5e982-0332-4f25-9a29-84852e53ce39",
   "metadata": {},
   "outputs": [],
   "source": [
    "%load_ext autoreload\n",
    "%autoreload 2"
   ]
  },
  {
   "cell_type": "markdown",
   "id": "7aece2e2-15bd-4b72-9cae-fbdb4b27a483",
   "metadata": {},
   "source": [
    "## Calculate and save potential prognostic predictability"
   ]
  },
  {
   "cell_type": "code",
   "execution_count": 2,
   "id": "b882367f-a393-4cd2-a972-eb321037b77a",
   "metadata": {},
   "outputs": [],
   "source": [
    "import xarray as xr\n",
    "import numpy as np\n",
    "import gfdl_utils as gu\n",
    "import glob\n",
    "from dask.diagnostics import ProgressBar\n",
    "from information import *\n",
    "from processing import *\n",
    "from variance import *\n",
    "import os"
   ]
  },
  {
   "cell_type": "code",
   "execution_count": 3,
   "id": "37dc866e-a79b-47d3-9fb9-b556e466157e",
   "metadata": {},
   "outputs": [],
   "source": [
    "variable = 'intpp'\n",
    "frequency = 'monthly'\n",
    "verbose = True"
   ]
  },
  {
   "cell_type": "code",
   "execution_count": 4,
   "id": "8ebe6766-f1bd-429e-85ac-72244ffde1ed",
   "metadata": {},
   "outputs": [
    {
     "name": "stdout",
     "output_type": "stream",
     "text": [
      "/projects/SOCCOM/graemem/projects/esm4_ppe/data/processed/ppp/ocean_cobalt_omip_2d.zarr/intpp already saved.\n"
     ]
    }
   ],
   "source": [
    "ppp = calc_ppp(variable,frequency,verbose=True,savecontrol=True,save=True)"
   ]
  },
  {
   "cell_type": "code",
   "execution_count": null,
   "id": "f1f77abd-91af-495c-878a-979338410666",
   "metadata": {},
   "outputs": [],
   "source": []
  }
 ],
 "metadata": {
  "kernelspec": {
   "display_name": "core [~/.conda/envs/core/]",
   "language": "python",
   "name": "conda_core"
  },
  "language_info": {
   "codemirror_mode": {
    "name": "ipython",
    "version": 3
   },
   "file_extension": ".py",
   "mimetype": "text/x-python",
   "name": "python",
   "nbconvert_exporter": "python",
   "pygments_lexer": "ipython3",
   "version": "3.10.5"
  }
 },
 "nbformat": 4,
 "nbformat_minor": 5
}
