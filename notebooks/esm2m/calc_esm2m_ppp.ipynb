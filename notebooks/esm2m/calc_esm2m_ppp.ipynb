{
 "cells": [
  {
   "cell_type": "code",
   "execution_count": 73,
   "id": "166c046d-60ad-49b0-97dc-b8411f7c721c",
   "metadata": {},
   "outputs": [],
   "source": [
    "import xarray as xr\n",
    "import gfdl_utils as gu\n",
    "import glob\n",
    "import cftime\n",
    "import numpy as np\n",
    "import esm4ppe\n",
    "from dask.diagnostics import ProgressBar"
   ]
  },
  {
   "cell_type": "markdown",
   "id": "f957214a-07a0-43c9-a5d8-722de934f8de",
   "metadata": {},
   "source": [
    "# Load data"
   ]
  },
  {
   "cell_type": "code",
   "execution_count": 65,
   "id": "fbab20a7-a708-42aa-833d-507168472c1c",
   "metadata": {},
   "outputs": [],
   "source": [
    "basedir = '/archive/kbr/fre/verona/ESM2M/20161113/ANALYSIS/'\n",
    "variable = 'NPP'"
   ]
  },
  {
   "cell_type": "markdown",
   "id": "f9c84b46-afd9-4386-9c77-961732ac0b9b",
   "metadata": {},
   "source": [
    "## Load ensemble"
   ]
  },
  {
   "cell_type": "code",
   "execution_count": 66,
   "id": "04782319-6f25-44cc-8b2e-758869af4fc8",
   "metadata": {},
   "outputs": [],
   "source": [
    "filename = variable+'_ENS*.nc'\n",
    "path = basedir+variable+'_ENSEMBLE/'+filename\n",
    "# Get rid of ensmn ones\n",
    "path = [p for p in glob.glob(path) if 'ensmn' not in p]"
   ]
  },
  {
   "cell_type": "code",
   "execution_count": 67,
   "id": "112b71f1-4c9c-457b-b030-83ceff946d7f",
   "metadata": {},
   "outputs": [],
   "source": [
    "def preprocess(ds):\n",
    "    nt = len(ds['TIME'])\n",
    "    # Recover ensemble details from path\n",
    "    path = ds.encoding[\"source\"]\n",
    "    filename = path.split('/')[-1]\n",
    "    filenamelist = filename.split('_')\n",
    "    ensembleid = filenamelist[1]\n",
    "    memberid = filenamelist[2]\n",
    "    if memberid[0:3]=='neg':\n",
    "        sign = -1\n",
    "    else:\n",
    "        sign=1\n",
    "    member = int(memberid[-2:])*sign\n",
    "    startyear = int(filenamelist[3])\n",
    "    \n",
    "    # Expand init dimension\n",
    "    init = cftime.DatetimeNoLeap(startyear,1,1)\n",
    "    ds = ds.expand_dims({'init':[init]})\n",
    "    # Expand member dimension\n",
    "    ds = ds.expand_dims({'member':[member]})\n",
    "    # Assign \"lead\" coordinate\n",
    "    ds = ds.rename({'TIME':'lead'}).assign_coords({'lead':np.arange(1,1+nt)})\n",
    "    ds['lead'].attrs['units']='months'\n",
    "        \n",
    "    ds = ds.chunk({'lead':-1})\n",
    "    return ds"
   ]
  },
  {
   "cell_type": "code",
   "execution_count": 68,
   "id": "bf6afcf6-d17f-469d-b5d3-a2baac06ee35",
   "metadata": {},
   "outputs": [],
   "source": [
    "ds = xr.open_mfdataset(path,preprocess=preprocess)[variable]"
   ]
  },
  {
   "cell_type": "markdown",
   "id": "248b1103-2873-4792-8363-173a601ba485",
   "metadata": {},
   "source": [
    "## Load control"
   ]
  },
  {
   "cell_type": "code",
   "execution_count": 69,
   "id": "afb58c82-d735-4089-85fa-a964ec353aea",
   "metadata": {},
   "outputs": [],
   "source": [
    "controlnames = {'NPP':'NPP_100'}\n",
    "\n",
    "localdir = 'CONTROL/'+variable+'/'\n",
    "filename = controlnames[variable]+'_0001_0300.nc'\n",
    "path = basedir+localdir+filename"
   ]
  },
  {
   "cell_type": "code",
   "execution_count": 70,
   "id": "75e66b86-f801-44b5-9814-1f11b4f9b488",
   "metadata": {},
   "outputs": [],
   "source": [
    "control = xr.open_dataset(path).rename({'TIME':'time'})[variable]"
   ]
  },
  {
   "cell_type": "markdown",
   "id": "900f0887-1aa0-44ca-9a80-9290b234e0fa",
   "metadata": {},
   "source": [
    "# Calculate PPP"
   ]
  },
  {
   "cell_type": "code",
   "execution_count": 71,
   "id": "f41efe8b-e4da-4a01-8f62-7172a7c0be09",
   "metadata": {},
   "outputs": [],
   "source": [
    "ppp = esm4ppe.calc_ppp(ds,control,groupby=None,frequency='monthly',nlead=120)"
   ]
  },
  {
   "cell_type": "markdown",
   "id": "89b1ce86-6401-4868-9948-83fe19da60a9",
   "metadata": {},
   "source": [
    "# Load and save PPP"
   ]
  },
  {
   "cell_type": "code",
   "execution_count": 77,
   "id": "c747d483-b780-457c-8093-61c720c34b89",
   "metadata": {},
   "outputs": [],
   "source": [
    "savedir = '/work/gam/projects/esm2m_ppe/data/processed/verify/'\n",
    "localdir = 'verify.metric-ppp/'\n",
    "filename = variable+'.monthly.nc'\n",
    "savepath = savedir+localdir+filename"
   ]
  },
  {
   "cell_type": "code",
   "execution_count": 79,
   "id": "3f6b4a18-f610-410e-bc92-adcb1383fa4d",
   "metadata": {},
   "outputs": [],
   "source": [
    "with ProgressBar():\n",
    "    ppp = ppp.load()\n",
    "ppp.to_netcdf(savepath)"
   ]
  },
  {
   "cell_type": "code",
   "execution_count": null,
   "id": "5f2f669f-1969-4d1d-815e-a0f472aea788",
   "metadata": {},
   "outputs": [],
   "source": []
  }
 ],
 "metadata": {
  "kernelspec": {
   "display_name": "Python [conda env:climpred_clean]",
   "language": "python",
   "name": "conda-env-climpred_clean-py"
  },
  "language_info": {
   "codemirror_mode": {
    "name": "ipython",
    "version": 3
   },
   "file_extension": ".py",
   "mimetype": "text/x-python",
   "name": "python",
   "nbconvert_exporter": "python",
   "pygments_lexer": "ipython3",
   "version": "3.10.9"
  }
 },
 "nbformat": 4,
 "nbformat_minor": 5
}
