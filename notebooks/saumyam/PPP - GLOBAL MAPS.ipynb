{
 "cells": [
  {
   "cell_type": "markdown",
   "id": "86b99f43",
   "metadata": {},
   "source": [
    "# PPP: Global Maps\n"
   ]
  },
  {
   "cell_type": "markdown",
   "id": "591270ed",
   "metadata": {},
   "source": [
    "To do: 1. annual mean predictability horizons, 2. max horizons, 3. range horizons"
   ]
  },
  {
   "cell_type": "code",
   "execution_count": 1,
   "id": "47c86879",
   "metadata": {},
   "outputs": [],
   "source": [
    "# Importing packages\n",
    "import xarray as xr\n",
    "import matplotlib.pyplot as plt\n",
    "from matplotlib.pyplot import figure\n",
    "import numpy as np\n",
    "import nc_time_axis\n",
    "from dask.diagnostics import ProgressBar\n",
    "import re\n",
    "from xmovie import Movie\n",
    "%matplotlib inline\n",
    "import imageio"
   ]
  },
  {
   "cell_type": "code",
   "execution_count": 2,
   "id": "bb9e629c",
   "metadata": {},
   "outputs": [],
   "source": [
    "gridpath = ('/projects/SOCCOM/data/ESM4_PPE/archive/Richard.Slater/xanadu_esm4_20190304_mom6_ESM4_v1.0.3_rc1/GRID/ocean.static.nc')\n",
    "grid = xr.open_dataset(gridpath)"
   ]
  },
  {
   "cell_type": "code",
   "execution_count": 3,
   "id": "30177bcf",
   "metadata": {},
   "outputs": [],
   "source": [
    "rootdir = ('/projects/SOCCOM/data/ESM4_PPE/archive/Richard.Slater/xanadu_esm4_20190304_mom6_ESM4_v1.0.3_rc1/ESM4_piControl_D/gfdl.ncrc4-intel18-prod-openmp/pp/')\n",
    "ppname = 'ocean_month'\n",
    "ppname2 = 'ocean_cobalt_omip_2d'\n",
    "ppname3 = 'ocean_cobalt_omip_sfc'\n",
    "\n",
    "localdir = '/ts/monthly/5yr/'"
   ]
  },
  {
   "cell_type": "code",
   "execution_count": 4,
   "id": "49f384dd",
   "metadata": {},
   "outputs": [],
   "source": [
    "# minor helper method - returns the ppname for a particular driver\n",
    "def pp(driver):\n",
    "    if driver=='tos' or driver=='sos' or driver=='MLD_003':\n",
    "        return 'ocean_month'\n",
    "    elif re.search('intpp*',driver):\n",
    "        return 'ocean_cobalt_omip_2d'\n",
    "    elif driver=='chlos':\n",
    "        return 'ocean_cobalt_omip_sfc'"
   ]
  },
  {
   "cell_type": "code",
   "execution_count": 5,
   "id": "f7fb0cd3",
   "metadata": {},
   "outputs": [],
   "source": [
    "THRESHOLD = 0.235559205\n"
   ]
  },
  {
   "cell_type": "code",
   "execution_count": 6,
   "id": "8c6b538e",
   "metadata": {},
   "outputs": [],
   "source": [
    "npp_ppp = xr.open_dataset('/home/saumyam/nppppp.nc')\n",
    "tos_ppp = xr.open_dataset('/home/saumyam/tosppp.nc')\n",
    "sos_ppp = xr.open_dataset('/home/saumyam/sosppp.nc')\n",
    "#sos_ppp = sos_ppp.where(sos_ppp > -100)\n",
    "mld_ppp = xr.open_dataset('/home/saumyam/mldppp')\n",
    "#mld_ppp = mld_ppp.where(mld_ppp > -100)\n",
    "chlos_ppp = xr.open_dataset('/home/saumyam/chlosppp')"
   ]
  },
  {
   "cell_type": "code",
   "execution_count": 7,
   "id": "9146de4b",
   "metadata": {},
   "outputs": [],
   "source": [
    "def coarse_ppp(driver, driver_ppp):\n",
    "    annual = driver_ppp.coarsen(time=12).mean()\n",
    "    coarse_months = xr.where(annual<THRESHOLD,annual.time,120).min(dim='time').where(grid['basin']!=0,np.NaN) # eventually replace this with 120 if it works\n",
    "    coarse_months[driver].plot()\n",
    "    return annual"
   ]
  },
  {
   "cell_type": "code",
   "execution_count": null,
   "id": "b989985e",
   "metadata": {},
   "outputs": [],
   "source": []
  },
  {
   "cell_type": "code",
   "execution_count": null,
   "id": "e0bdf7e8",
   "metadata": {},
   "outputs": [],
   "source": [
    "chlos_mean = coarse_ppp('chlos',chlos_ppp)\n",
    "plt.title('Surface Chlorophyll, Annual Mean PPP')"
   ]
  },
  {
   "cell_type": "code",
   "execution_count": null,
   "id": "b9ae1b95",
   "metadata": {},
   "outputs": [],
   "source": [
    "npp_mean = coarse_ppp('intpp',npp_ppp)\n",
    "plt.title('Net Primary Production, Annual Mean PPP')"
   ]
  },
  {
   "cell_type": "code",
   "execution_count": null,
   "id": "8ccba879",
   "metadata": {},
   "outputs": [],
   "source": [
    "tos_mean = coarse_ppp('tos',tos_ppp)\n",
    "plt.title('Sea Surface Temperature, Annual Mean PPP')\n"
   ]
  },
  {
   "cell_type": "code",
   "execution_count": null,
   "id": "e6e4990e",
   "metadata": {},
   "outputs": [],
   "source": [
    "sos_mean = coarse_ppp('sos',sos_ppp)\n",
    "plt.title('Sea Surface Salinity, Annual Mean PPP')\n"
   ]
  },
  {
   "cell_type": "code",
   "execution_count": null,
   "id": "742fa1d4",
   "metadata": {},
   "outputs": [],
   "source": [
    "mld_mean = coarse_ppp('MLD_003',mld_ppp)\n",
    "plt.title('Mixed Layer Depth, Annual Mean PPP')"
   ]
  },
  {
   "cell_type": "code",
   "execution_count": null,
   "id": "7c93617d",
   "metadata": {},
   "outputs": [],
   "source": [
    "tos_ppp_mean = tos_ppp['tos'].weighted(grid['areacello']).mean(['xh','yh'])\n",
    "with ProgressBar():\n",
    "    tos_ppp_mean = tos_ppp_mean.compute()"
   ]
  },
  {
   "cell_type": "code",
   "execution_count": null,
   "id": "e16ab421",
   "metadata": {},
   "outputs": [],
   "source": [
    "tos_ppp_mean.plot()"
   ]
  },
  {
   "cell_type": "code",
   "execution_count": null,
   "id": "ca1f28f2",
   "metadata": {},
   "outputs": [],
   "source": [
    "tos_ppp['tos'].isel(time=50).plot()"
   ]
  },
  {
   "cell_type": "code",
   "execution_count": null,
   "id": "42fdb996",
   "metadata": {},
   "outputs": [],
   "source": [
    "months = xr.where(tos_ppp<THRESHOLD,tos_ppp.time,120) # eventually replace this with 120 if it works"
   ]
  },
  {
   "cell_type": "code",
   "execution_count": null,
   "id": "8b451ddf",
   "metadata": {},
   "outputs": [],
   "source": [
    "max_months = xr.where(tos_ppp>THRESHOLD,tos_ppp.time,np.NaN) # eventually replace this with 120 if it works"
   ]
  },
  {
   "cell_type": "code",
   "execution_count": null,
   "id": "c16b6305",
   "metadata": {},
   "outputs": [],
   "source": [
    "max_npp = xr.where(npp_ppp>THRESHOLD,npp_ppp.time,np.NaN).max(dim='time').where(grid['basin']!=0,np.NaN)"
   ]
  },
  {
   "cell_type": "code",
   "execution_count": null,
   "id": "19c0abe0",
   "metadata": {},
   "outputs": [],
   "source": [
    "max_npp['intpp'].plot()"
   ]
  },
  {
   "cell_type": "code",
   "execution_count": null,
   "id": "281be151",
   "metadata": {},
   "outputs": [],
   "source": [
    "min_month = months.min(dim='time')"
   ]
  },
  {
   "cell_type": "code",
   "execution_count": null,
   "id": "7ef3ac14",
   "metadata": {},
   "outputs": [],
   "source": [
    "min_month = min_month.where(grid['basin']!=0,np.NaN)"
   ]
  },
  {
   "cell_type": "code",
   "execution_count": null,
   "id": "2eae1368",
   "metadata": {},
   "outputs": [],
   "source": [
    "max_month = max_months.max(dim='time')"
   ]
  },
  {
   "cell_type": "code",
   "execution_count": null,
   "id": "19fd2b14",
   "metadata": {},
   "outputs": [],
   "source": [
    "max_month = max_month.where(grid['basin']!=0,np.NaN)"
   ]
  },
  {
   "cell_type": "code",
   "execution_count": null,
   "id": "e671273f",
   "metadata": {},
   "outputs": [],
   "source": [
    "max_month['tos'].plot()"
   ]
  },
  {
   "cell_type": "code",
   "execution_count": null,
   "id": "caff45e3",
   "metadata": {},
   "outputs": [],
   "source": [
    "(max_month-min_month)['tos'].plot()"
   ]
  },
  {
   "cell_type": "code",
   "execution_count": null,
   "id": "007bdacd",
   "metadata": {},
   "outputs": [],
   "source": []
  },
  {
   "cell_type": "code",
   "execution_count": null,
   "id": "b28ef371",
   "metadata": {},
   "outputs": [],
   "source": [
    "min_month['tos'].plot()"
   ]
  },
  {
   "cell_type": "code",
   "execution_count": null,
   "id": "9ead9d28",
   "metadata": {},
   "outputs": [],
   "source": [
    "sos_months = xr.where(sos_ppp<THRESHOLD,sos_ppp.time,120) # eventually replace this with 120 if it works\n",
    "\n",
    "sos_min_month = sos_months.min(dim='time')\n",
    "\n",
    "sos_min_month = sos_min_month.where(grid['basin']!=0,np.NaN)\n",
    "\n",
    "sos_min_month['sos'].plot()"
   ]
  },
  {
   "cell_type": "code",
   "execution_count": null,
   "id": "ed04714b",
   "metadata": {},
   "outputs": [],
   "source": [
    "npp_months = xr.where(npp_ppp<THRESHOLD,npp_ppp.time,60)\n",
    "min_npp_month = npp_months.min(dim='time')"
   ]
  },
  {
   "cell_type": "code",
   "execution_count": null,
   "id": "c8bbc6c0",
   "metadata": {},
   "outputs": [],
   "source": [
    "min_npp_month"
   ]
  },
  {
   "cell_type": "code",
   "execution_count": null,
   "id": "a9b531ea",
   "metadata": {},
   "outputs": [],
   "source": [
    "new = min_npp_month.where(grid['basin']!=0,np.NaN)"
   ]
  },
  {
   "cell_type": "code",
   "execution_count": null,
   "id": "62acc342",
   "metadata": {},
   "outputs": [],
   "source": [
    "new['intpp'].plot()"
   ]
  },
  {
   "cell_type": "code",
   "execution_count": null,
   "id": "c8060da0",
   "metadata": {},
   "outputs": [],
   "source": [
    "# can try using positional args: https://xarray.pydata.org/en/stable/generated/xarray.where.html"
   ]
  },
  {
   "cell_type": "code",
   "execution_count": 7,
   "id": "67b98610",
   "metadata": {},
   "outputs": [],
   "source": [
    "# returns the variance for a particular ensemble start year\n",
    "def ens_var(start_year, driver_global, driver):\n",
    "    # create a list of xarrays of control + ensemble data to be concatenated\n",
    "    members = [*range(10)]\n",
    "    ppname = pp(driver)\n",
    "    \n",
    "    # handle the control separately\n",
    "    end = '0' + str(int(start_year) + 9)\n",
    "    ctrl_slice = driver_global.sel(time=slice(start_year+'-01-16',end+'-12-16'))\n",
    "    members[0] = ctrl_slice\n",
    "    \n",
    "    # loop through all 9 ensemble members\n",
    "    for member in range(1,10):\n",
    "        folder = 'ESM4_piControl_D-ensemble-' + start_year + '0101-0' + str(member)\n",
    "        path = ('/projects/SOCCOM/data/ESM4_PPE/archive/Richard.Slater/xanadu_esm4_20190304_mom6_ESM4_v1.0.3_rc1/'\n",
    "                +folder+'/gfdl.ncrc4-intel18-prod-openmp/pp/'+ppname+'/ts/monthly/5yr/'+ppname+'.*'+driver+'.nc')\n",
    "        ens_mem = xr.open_mfdataset(path)\n",
    "        members[member] = ens_mem\n",
    "        \n",
    "    # combine all ensemble members and control into one xarray\n",
    "    all_members = xr.concat(members,dim='members')\n",
    "    \n",
    "    # compute the variance\n",
    "    variance = (all_members.std(dim='members')) ** 2\n",
    "    \n",
    "    return variance\n",
    "    \n"
   ]
  },
  {
   "cell_type": "code",
   "execution_count": 8,
   "id": "f2d41ae8",
   "metadata": {},
   "outputs": [],
   "source": [
    "STARTS = ['0123','0161','0185','0208','0230','0269','0300','0326','0359','0381']\n",
    "def avg_ens_var(driver_global, driver):\n",
    "    # initialize total to be stddev of first ensemble - year '0123'\n",
    "    \n",
    "    ensembles = [*range(10)]\n",
    "    first = ens_var(STARTS[0],driver_global,driver)\n",
    "    timei = first.time\n",
    "    ensembles[0] = first\n",
    "    \n",
    "    for ens in range(1,10):\n",
    "        time_adjusted = ens_var(STARTS[ens],driver_global,driver).assign_coords(time=timei)\n",
    "        ensembles[ens] = time_adjusted\n",
    "    \n",
    "    total = xr.concat(ensembles,dim='ensemble')\n",
    "    avg = total.mean(dim='ensemble')\n",
    "    \n",
    "    return avg\n"
   ]
  },
  {
   "cell_type": "markdown",
   "id": "ff4cbcd6",
   "metadata": {},
   "source": [
    "## Plotting"
   ]
  },
  {
   "cell_type": "code",
   "execution_count": null,
   "id": "2612656c",
   "metadata": {},
   "outputs": [],
   "source": [
    "ppp = xr.open_dataset('/home/saumyam/tosppp.nc')"
   ]
  },
  {
   "cell_type": "code",
   "execution_count": null,
   "id": "bb711757",
   "metadata": {},
   "outputs": [],
   "source": [
    "southern = ppp.where(grid['basin']==1,drop=True)"
   ]
  },
  {
   "cell_type": "code",
   "execution_count": null,
   "id": "01ac19da",
   "metadata": {},
   "outputs": [],
   "source": [
    "atlantic = ppp.where(grid['basin']==2,drop=True)\n",
    "atlantic_mean = atlantic['tos'].weighted(grid['areacello']).mean(['xh','yh'])\n",
    "with ProgressBar():\n",
    "    atlantic_mean = atlantic_mean.compute()"
   ]
  },
  {
   "cell_type": "code",
   "execution_count": null,
   "id": "e95b2bc5",
   "metadata": {},
   "outputs": [],
   "source": [
    "indian = ppp.where(grid['basin']==5,drop=True)\n",
    "indian_mean = indian['tos'].weighted(grid['areacello']).mean(['xh','yh'])\n",
    "with ProgressBar():\n",
    "    indian_mean = indian_mean.compute()"
   ]
  },
  {
   "cell_type": "code",
   "execution_count": null,
   "id": "af4387fd",
   "metadata": {},
   "outputs": [],
   "source": [
    "pacific = ppp.where(grid['basin']==3,drop=True)\n",
    "pacific_mean = pacific['tos'].weighted(grid['areacello']).mean(['xh','yh'])\n",
    "with ProgressBar():\n",
    "    pacific_mean = pacific_mean.compute()"
   ]
  },
  {
   "cell_type": "code",
   "execution_count": null,
   "id": "0fb50706",
   "metadata": {},
   "outputs": [],
   "source": [
    "arctic = ppp.where(grid['basin']==4,drop=True)\n",
    "arctic_mean = arctic['tos'].weighted(grid['areacello']).mean(['xh','yh'])\n",
    "with ProgressBar():\n",
    "    arctic_mean = arctic_mean.compute()"
   ]
  },
  {
   "cell_type": "code",
   "execution_count": null,
   "id": "3eef3009",
   "metadata": {},
   "outputs": [],
   "source": [
    "southern_mean = (southern['tos'].weighted(grid['areacello']).mean(['xh','yh']))"
   ]
  },
  {
   "cell_type": "code",
   "execution_count": null,
   "id": "d12d8131",
   "metadata": {},
   "outputs": [],
   "source": [
    "with ProgressBar():\n",
    "    southern_mean = southern_mean.compute()"
   ]
  },
  {
   "cell_type": "code",
   "execution_count": null,
   "id": "6e888e42",
   "metadata": {},
   "outputs": [],
   "source": [
    "ppp_mean = ppp['tos'].weighted(grid['areacello']).mean(['xh','yh'])\n",
    "with ProgressBar():\n",
    "    ppp_mean = ppp_mean.compute()"
   ]
  },
  {
   "cell_type": "code",
   "execution_count": null,
   "id": "7f060d4c",
   "metadata": {},
   "outputs": [],
   "source": [
    "figure(figsize=(14,8))\n",
    "southern_mean.plot(label='Southern Ocean')\n",
    "atlantic_mean.plot(label='Atlantic Ocean')\n",
    "pacific_mean.plot(label='Pacific Ocean')\n",
    "arctic_mean.plot(label='Arctic Ocean')\n",
    "indian_mean.plot(label='Indian Ocean')\n",
    "ppp_mean.plot(linewidth=4,label='Global Average')\n",
    "plt.ylabel('PPP of Sea Surface Temperature')\n",
    "plt.title('Averaged PPP for Sea Surface Temperature')\n",
    "plt.legend()"
   ]
  },
  {
   "cell_type": "code",
   "execution_count": null,
   "id": "9b0a03a1",
   "metadata": {},
   "outputs": [],
   "source": [
    "ppp_mean"
   ]
  },
  {
   "cell_type": "markdown",
   "id": "ca2c3d6c",
   "metadata": {},
   "source": [
    "### Packaged into one function that just takes the driver name as input:"
   ]
  },
  {
   "cell_type": "code",
   "execution_count": 9,
   "id": "e24479f7",
   "metadata": {},
   "outputs": [],
   "source": [
    "# returns xarray of ppp\n",
    "def ppp(driver):\n",
    "    ds = xr.open_mfdataset(rootdir+pp(driver)+localdir+'*'+driver+'.nc')\n",
    "    ds = ds.chunk({'time':60})\n",
    "    \n",
    "    avg_ens = avg_ens_var(ds,driver)\n",
    "    with ProgressBar():\n",
    "        avg_ens = avg_ens.compute() \n",
    "    timeindex = np.arange(120)\n",
    "    avg_ens = avg_ens.assign_coords(time=timeindex)\n",
    "    \n",
    "    control_monthly = ds[driver].groupby('time.month')\n",
    "    control_var_monthly = control_monthly.std() ** 2\n",
    "    control_var_arr = control_var_monthly.to_numpy()\n",
    "    repeated = np.tile(control_var_arr, (10,1,1))\n",
    "    #xarray.repeat\n",
    "    \n",
    "    ctrl_var = avg_ens.copy(data={driver:repeated})\n",
    "    ctrl_var = ctrl_var.assign_coords(time=timeindex)\n",
    "    \n",
    "    ratio = avg_ens / ctrl_var\n",
    "    ppp = 1 - ratio\n",
    "    return ppp"
   ]
  },
  {
   "cell_type": "code",
   "execution_count": 10,
   "id": "64e787b7",
   "metadata": {},
   "outputs": [
    {
     "name": "stdout",
     "output_type": "stream",
     "text": [
      "[#####                                   ] | 12% Completed |  6.9s"
     ]
    },
    {
     "name": "stderr",
     "output_type": "stream",
     "text": [
      "/home/saumyam/.conda/envs/saumyac/lib/python3.9/site-packages/dask/array/numpy_compat.py:39: RuntimeWarning: invalid value encountered in true_divide\n",
      "  x = np.divide(x1, x2, out)\n"
     ]
    },
    {
     "name": "stdout",
     "output_type": "stream",
     "text": [
      "[########################################] | 100% Completed | 53.2s\n"
     ]
    },
    {
     "name": "stderr",
     "output_type": "stream",
     "text": [
      "/home/saumyam/.conda/envs/saumyac/lib/python3.9/site-packages/dask/array/numpy_compat.py:39: RuntimeWarning: invalid value encountered in true_divide\n",
      "  x = np.divide(x1, x2, out)\n"
     ]
    }
   ],
   "source": [
    "chlos_ppp = ppp('chlos')"
   ]
  },
  {
   "cell_type": "code",
   "execution_count": null,
   "id": "382f7a5a",
   "metadata": {},
   "outputs": [],
   "source": [
    "mld_ppp = ppp('MLD_003')"
   ]
  },
  {
   "cell_type": "code",
   "execution_count": null,
   "id": "5f2198d2",
   "metadata": {},
   "outputs": [],
   "source": [
    "chlos_ppp.to_netcdf('/home/saumyam/chlosppp')\n",
    "mld_ppp.to_netcdf('/home/saumyam/mldppp')"
   ]
  },
  {
   "cell_type": "code",
   "execution_count": null,
   "id": "3d98e8e1",
   "metadata": {},
   "outputs": [],
   "source": [
    "sosppp = ppp('sos')"
   ]
  },
  {
   "cell_type": "code",
   "execution_count": null,
   "id": "126e8148",
   "metadata": {},
   "outputs": [],
   "source": [
    "sosppp.to_netcdf('/home/saumyam/sosppp')"
   ]
  },
  {
   "cell_type": "code",
   "execution_count": null,
   "id": "3f14e34b",
   "metadata": {},
   "outputs": [],
   "source": [
    "sosppp = xr.open_dataset('/home/saumyam/sosppp.nc')"
   ]
  },
  {
   "cell_type": "code",
   "execution_count": null,
   "id": "f2e2a38f",
   "metadata": {},
   "outputs": [],
   "source": [
    "# e.g. driver = 'tos', driver_name = 'Sea Surface Temperature'\n",
    "def plot_basins(ppp, driver, driver_name, adjust=False):\n",
    "    if adjust:\n",
    "        ppp = ppp.where(ppp[driver] > -100)\n",
    "\n",
    "    means = [*range(5)]\n",
    "    for i in range(1,6):\n",
    "        basin = ppp.where(grid['basin']==i,drop=True)\n",
    "        means[i-1] = (basin[driver].weighted(grid['areacello']).mean(['xh','yh']))\n",
    "\n",
    "    ppp_mean = ppp[driver].weighted(grid['areacello']).mean(['xh','yh'])\n",
    "\n",
    "    labels = ['Southern Ocean', 'Atlantic Ocean', 'Pacific Ocean', 'Arctic Ocean', 'Indian Ocean']\n",
    "    figure(figsize=(14,8))\n",
    "    for i in range(5):\n",
    "        means[i].plot(label=labels[i])\n",
    "   \n",
    "    ppp_mean.plot(linewidth=4,label='Global Average')\n",
    "    plt.ylabel('PPP of ' + driver_name)\n",
    "    plt.title('Averaged PPP of ' + driver_name)\n",
    "    plt.legend()\n",
    "    \n",
    "    return ppp_mean"
   ]
  },
  {
   "cell_type": "code",
   "execution_count": null,
   "id": "c30390c2",
   "metadata": {},
   "outputs": [],
   "source": [
    "sos_ppp_mean = plot_basins(sos_ppp, 'sos', 'Sea Surface Salinity',adjust=True)"
   ]
  },
  {
   "cell_type": "code",
   "execution_count": null,
   "id": "b6b23a51",
   "metadata": {},
   "outputs": [],
   "source": [
    "tos_ppp_mean = plot_basins(tos_ppp, 'tos', 'Sea Surface Temperature')"
   ]
  },
  {
   "cell_type": "code",
   "execution_count": null,
   "id": "644378c1",
   "metadata": {},
   "outputs": [],
   "source": [
    "npp_ppp_mean = plot_basins(npp_ppp,'intpp','Integrated Net Primary Production')"
   ]
  },
  {
   "cell_type": "code",
   "execution_count": null,
   "id": "f096f7be",
   "metadata": {},
   "outputs": [],
   "source": [
    "chlos_ppp_mean = plot_basins(chlos_ppp,'chlos','Surface Chlorophyll')"
   ]
  },
  {
   "cell_type": "code",
   "execution_count": null,
   "id": "91e85df2",
   "metadata": {},
   "outputs": [],
   "source": [
    "mld_ppp_mean = plot_basins(mld_ppp,'MLD_003','Mixed Layer Depth',adjust=False)\n",
    "plt.savefig('PPP MLD OLD')"
   ]
  },
  {
   "cell_type": "code",
   "execution_count": null,
   "id": "3a0d2a0d",
   "metadata": {},
   "outputs": [],
   "source": [
    "mld_ppp_mean = plot_basins(mld_ppp,'MLD_003','Mixed Layer Depth',adjust=True)"
   ]
  },
  {
   "cell_type": "code",
   "execution_count": null,
   "id": "36f84c8e",
   "metadata": {},
   "outputs": [],
   "source": [
    "annuals = [tos_mean,sos_mean,mld_mean,npp_mean,chlos_mean]\n",
    "drivers = ['tos','sos','MLD_003','intpp','chlos']\n",
    "annuals_global = [*range(5)]\n",
    "\n",
    "for i in range(len(annuals)):\n",
    "    annuals_global[i] = annuals[i][drivers[i]].weighted(grid['areacello']).mean(['xh','yh'])\n",
    "    \n",
    "COLORS = ['green','orange','red','blue','purple']"
   ]
  },
  {
   "cell_type": "code",
   "execution_count": null,
   "id": "925c2dc2",
   "metadata": {},
   "outputs": [],
   "source": [
    "\n",
    "fig,ax = plt.subplots(1,1,figsize=(13,7))\n",
    "months=[0,12,24,36,48,60,72,84,96,108,120]\n",
    "ax.set_xticks(months)\n",
    "\n",
    "for i in range(len(annuals_global)):\n",
    "    annuals_global[i].plot(color=COLORS[i],linewidth=2)\n",
    "\n",
    "npp_ppp_mean.plot(label='Net Primary Production')\n",
    "sos_ppp_mean.plot(label='Sea Surface Salinity')\n",
    "tos_ppp_mean.plot(label='Sea Surface Temperature')\n",
    "mld_ppp_mean.plot(label='Mixed Layer Depth')\n",
    "chlos_ppp_mean.plot(label='Surface Chlorophyll')\n",
    "plt.axhline(y=THRESHOLD, color='grey', linestyle='dashed',label='Predictability Threshold')\n",
    "plt.title('Global Average of PPP',fontsize=20)\n",
    "plt.xlabel('Lead Time (Months)',fontsize=15)\n",
    "plt.ylabel('PPP',fontsize=15)\n",
    "plt.legend()\n",
    "plt.savefig('Globally Averaged PPP-5 drivers')"
   ]
  },
  {
   "cell_type": "code",
   "execution_count": null,
   "id": "5fa723fd",
   "metadata": {},
   "outputs": [],
   "source": [
    "chlos_ppp_mean"
   ]
  },
  {
   "cell_type": "code",
   "execution_count": null,
   "id": "e78c8749",
   "metadata": {},
   "outputs": [],
   "source": [
    "npp_ppp.to_netcdf('/home/saumyam/nppppp')"
   ]
  },
  {
   "cell_type": "markdown",
   "id": "f96c0039",
   "metadata": {},
   "source": [
    "# GIFs"
   ]
  },
  {
   "cell_type": "code",
   "execution_count": null,
   "id": "cae3adc3",
   "metadata": {},
   "outputs": [],
   "source": [
    "sosmov = Movie(sos_ppp['sos'],vmin=0,vmax=1)\n",
    "sosmov.save('sosppp_slow.gif',gif_framerate=4)"
   ]
  },
  {
   "cell_type": "code",
   "execution_count": 11,
   "id": "1e764dce",
   "metadata": {},
   "outputs": [
    {
     "name": "stdout",
     "output_type": "stream",
     "text": [
      "Movie created at sosppp.mp4\n"
     ]
    }
   ],
   "source": [
    "sosmov = Movie(sos_ppp['sos'],vmin=0,vmax=1)\n",
    "sosmov.save('sosppp.mp4',framerate=5)"
   ]
  },
  {
   "cell_type": "code",
   "execution_count": 18,
   "id": "c35e2c92",
   "metadata": {},
   "outputs": [],
   "source": [
    "#tos_ppp = xr.open_dataset('/home/saumyam/tosppp.nc')\n",
    "tosmov = Movie(tos_ppp['tos'],vmin=0,vmax=1)"
   ]
  },
  {
   "cell_type": "code",
   "execution_count": null,
   "id": "4d6d66fc",
   "metadata": {},
   "outputs": [],
   "source": [
    "tosmov.save('tosppp_slow.gif',gif_framerate=4)"
   ]
  },
  {
   "cell_type": "code",
   "execution_count": 19,
   "id": "558f40e8",
   "metadata": {},
   "outputs": [
    {
     "name": "stdout",
     "output_type": "stream",
     "text": [
      "Movie created at tosppp.mp4\n"
     ]
    }
   ],
   "source": [
    "tosmov.save('tosppp.mp4',framerate=5)"
   ]
  },
  {
   "cell_type": "code",
   "execution_count": null,
   "id": "bcb74437",
   "metadata": {},
   "outputs": [],
   "source": [
    "nppmov = Movie(npp_ppp['intpp'],vmin=0,vmax=1)\n",
    "nppmov.save('nppppp_slow.gif',gif_framerate=4)"
   ]
  },
  {
   "cell_type": "code",
   "execution_count": 17,
   "id": "4445650e",
   "metadata": {},
   "outputs": [
    {
     "name": "stdout",
     "output_type": "stream",
     "text": [
      "Movie created at nppppp.mp4\n"
     ]
    }
   ],
   "source": [
    "nppmov = Movie(npp_ppp['intpp'],vmin=0,vmax=1)\n",
    "nppmov.save('nppppp.mp4',framerate=5,overwrite_existing=True)"
   ]
  },
  {
   "cell_type": "code",
   "execution_count": null,
   "id": "bc68371a",
   "metadata": {},
   "outputs": [],
   "source": [
    "mldmov = Movie(mld_ppp['MLD_003'],vmin=0,vmax=1)\n",
    "mldmov.save('mldppp_slow.gif',gif_framerate=4)"
   ]
  },
  {
   "cell_type": "code",
   "execution_count": 20,
   "id": "3ed70a9b",
   "metadata": {},
   "outputs": [
    {
     "name": "stdout",
     "output_type": "stream",
     "text": [
      "Movie created at mldppp.mp4\n"
     ]
    }
   ],
   "source": [
    "mldmov = Movie(mld_ppp['MLD_003'],vmin=0,vmax=1)\n",
    "mldmov.save('mldppp.mp4',framerate=5,overwrite_existing=True)"
   ]
  },
  {
   "cell_type": "code",
   "execution_count": null,
   "id": "268d5e91",
   "metadata": {},
   "outputs": [],
   "source": [
    "chlosmov = Movie(chlos_ppp['chlos'],vmin=0,vmax=1)\n",
    "chlosmov.save('chlosppp_slow.gif',gif_framerate=4)"
   ]
  },
  {
   "cell_type": "code",
   "execution_count": 21,
   "id": "a976d59a",
   "metadata": {},
   "outputs": [
    {
     "name": "stdout",
     "output_type": "stream",
     "text": [
      "Movie created at chlosppp.mp4\n"
     ]
    }
   ],
   "source": [
    "chlosmov = Movie(chlos_ppp['chlos'],vmin=0,vmax=1)\n",
    "chlosmov.save('chlosppp.mp4',framerate=5,overwrite_existing=True)"
   ]
  },
  {
   "cell_type": "code",
   "execution_count": null,
   "id": "f143f350",
   "metadata": {},
   "outputs": [],
   "source": [
    "# Combining the gifs\n",
    "# Code Source: https://stackoverflow.com/questions/51517685/combine-several-gif-horizontally-python\n",
    "#Create reader object for the gif\n",
    "gif1 = imageio.get_reader('tosppp.gif')\n",
    "gif2 = imageio.get_reader('nppppp.gif')\n",
    "gif3 = imageio.get_reader('sosppp.gif')\n",
    "gif4 = imageio.get_reader('chlosppp.gif')\n",
    "#gif5 = imageio.get_reader('mldppp.gif')\n",
    "\n",
    "#If they don't have the same number of frame take the shorter\n",
    "number_of_frames = min(gif1.get_length(), gif2.get_length()) \n",
    "\n",
    "#Create writer object\n",
    "new_gif = imageio.get_writer('output.gif')\n",
    "\n",
    "for frame_number in range(number_of_frames):\n",
    "    img1 = gif1.get_next_data()\n",
    "    img2 = gif2.get_next_data()\n",
    "    img3 = gif3.get_next_data()\n",
    "    img4 = gif4.get_next_data()\n",
    "    img5 = gif5.get_next_data()\n",
    "    #here is the magic\n",
    "    new_image = np.hstack((img1, img2))\n",
    "    new_image2 = np.hstack((img3, img4))\n",
    "    #newest = np.hstack((np.vstack((new_image, new_image2)), img5))\n",
    "    new_gif.append_data(newest)\n",
    "\n",
    "gif1.close()\n",
    "gif2.close() \n",
    "gif3.close()\n",
    "gif4.close()\n",
    "gif5.close()\n",
    "new_gif.close()\n"
   ]
  }
 ],
 "metadata": {
  "kernelspec": {
   "display_name": "Python3 (saumya)",
   "language": "python",
   "name": "saumyac"
  },
  "language_info": {
   "codemirror_mode": {
    "name": "ipython",
    "version": 3
   },
   "file_extension": ".py",
   "mimetype": "text/x-python",
   "name": "python",
   "nbconvert_exporter": "python",
   "pygments_lexer": "ipython3",
   "version": "3.9.7"
  }
 },
 "nbformat": 4,
 "nbformat_minor": 5
}
