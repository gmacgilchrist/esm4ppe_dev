{
 "cells": [
  {
   "cell_type": "code",
   "execution_count": 50,
   "id": "4deb6415-017e-466c-975f-fb1a438b7cfe",
   "metadata": {},
   "outputs": [
    {
     "name": "stdout",
     "output_type": "stream",
     "text": [
      "The autoreload extension is already loaded. To reload it, use:\n",
      "  %reload_ext autoreload\n"
     ]
    }
   ],
   "source": [
    "%load_ext autoreload\n",
    "%autoreload 2"
   ]
  },
  {
   "cell_type": "code",
   "execution_count": 51,
   "id": "b32b3af2-b569-4e31-888b-5ffe9f13d256",
   "metadata": {},
   "outputs": [],
   "source": [
    "import esm4ppe\n",
    "import gfdl_utils as gu"
   ]
  },
  {
   "cell_type": "code",
   "execution_count": 52,
   "id": "68dc48f0-c77e-4b1f-b0f7-79ba40bdbb7e",
   "metadata": {},
   "outputs": [],
   "source": [
    "variables = [\n",
    "             'dfeos',\n",
    "             'dep_dry_fed',\n",
    "             'dep_dry_lith',\n",
    "             'dep_wet_fed',\n",
    "             'dep_wet_lith',\n",
    "             'ffe_iceberg',\n",
    "             # 'dfe',\n",
    "             'MLD_003',\n",
    "             #'limfediat','limfepico','limfemisc','limfediaz']\n",
    "            ]\n",
    "frequency = 'monthly'"
   ]
  },
  {
   "cell_type": "code",
   "execution_count": 53,
   "id": "68444498-a2d5-4853-8016-dfca8ebe62bf",
   "metadata": {},
   "outputs": [
    {
     "name": "stdout",
     "output_type": "stream",
     "text": [
      "dfeos\n",
      "Opening static... static opened.\n",
      "Ensemble present in zarr store... opening... ensemble opened.\n",
      "Control present in zarr store... opening... control opened.\n",
      "Opening skill metric... skill metric opened.\n",
      "Opening regional means of control... regional means of control opened.\n",
      "Opening regional means of vs... regional means of vs opened.\n",
      "dep_dry_fed\n",
      "Opening static... static opened.\n",
      "Ensemble present in zarr store... opening... ensemble opened.\n",
      "Control present in zarr store... opening... control opened.\n",
      "Opening skill metric... skill metric opened.\n",
      "Opening regional means of control... regional means of control opened.\n",
      "Opening regional means of vs... regional means of vs opened.\n",
      "dep_dry_lith\n",
      "Opening static... static opened.\n",
      "Ensemble present in zarr store... opening... ensemble opened.\n",
      "Control present in zarr store... opening... control opened.\n",
      "Opening skill metric... skill metric opened.\n",
      "Opening regional means of control... regional means of control opened.\n",
      "Opening regional means of vs... regional means of vs opened.\n",
      "dep_wet_fed\n",
      "Opening static... static opened.\n",
      "Ensemble present in zarr store... opening... ensemble opened.\n",
      "Control present in zarr store... opening... control opened.\n",
      "Opening skill metric... skill metric opened.\n",
      "Opening regional means of control... regional means of control opened.\n",
      "Opening regional means of vs... regional means of vs opened.\n",
      "dep_wet_lith\n",
      "Opening static... static opened.\n",
      "Ensemble present in zarr store... opening... ensemble opened.\n",
      "Control present in zarr store... opening... control opened.\n",
      "Opening skill metric... skill metric opened.\n",
      "Opening regional means of control... regional means of control opened.\n",
      "Opening regional means of vs... regional means of vs opened.\n",
      "ffe_iceberg\n",
      "Opening static... static opened.\n",
      "Ensemble present in zarr store... opening... ensemble opened.\n",
      "Control present in zarr store... opening... control opened.\n",
      "Opening skill metric... skill metric opened.\n",
      "Opening regional means of control... regional means of control opened.\n",
      "Opening regional means of vs... regional means of vs opened.\n",
      "MLD_003\n",
      "Opening static... static opened.\n",
      "Ensemble present in zarr store... opening... ensemble opened.\n",
      "Control present in zarr store... opening... control opened.\n",
      "Opening skill metric... skill metric opened.\n",
      "Opening regional means of control... regional means of control opened.\n",
      "Calculating regional means for vs... global global_SoP global_SoSubP global_SoSubT global_T global_NoSubT global_NoSubP global_NoP southern southern_SoP southern_SoSubP southern_SoSubT southern_pacific southern_atlantic southern_indian atlantic atlantic_SoSubT atlantic_T atlantic_NoSubT atlantic_NoSubP atlantic_NoP pacific pacific_SoSubT pacific_T pacific_NoSubT pacific_NoSubP pacific_NoP arctic arctic_NoP arctic_pacific arctic_atlantic indian indian_SoSubT indian_T indian_NoSubT mediterranean mediterranean_NoSubT mediterranean_NoSubP black black_NoSubT black_NoSubP hudson hudson_NoSubP hudson_NoP baltic baltic_NoSubP baltic_NoP red red_T red_NoSubT pacific_global atlantic_global indian_global ...regional means for vs calculated. Elapsed time: 457 seconds.\n"
     ]
    }
   ],
   "source": [
    "for variable in variables:\n",
    "    print(variable)\n",
    "    es = esm4ppe.esm4ppeObj(variable,frequency)\n",
    "    # open the ensemble and the control, save to zarr\n",
    "    es = es.add_ensemble(triggeropen=True).add_control(triggeropen=True)\n",
    "    # calculate ppp and save\n",
    "    es = es.verify(metric='ppp',saveskill=True,groupby='month')\n",
    "    # calculate regional means and save\n",
    "    es = es.regionalmean('basin',omit=['ensemble'],saveregionalmean=True,verbose=True)"
   ]
  },
  {
   "cell_type": "code",
   "execution_count": null,
   "id": "a797c3f6-e938-4b33-b6c4-50d51f6f3517",
   "metadata": {},
   "outputs": [],
   "source": []
  }
 ],
 "metadata": {
  "kernelspec": {
   "display_name": "Python [conda env:climpred_clean]",
   "language": "python",
   "name": "conda-env-climpred_clean-py"
  },
  "language_info": {
   "codemirror_mode": {
    "name": "ipython",
    "version": 3
   },
   "file_extension": ".py",
   "mimetype": "text/x-python",
   "name": "python",
   "nbconvert_exporter": "python",
   "pygments_lexer": "ipython3",
   "version": "3.10.9"
  }
 },
 "nbformat": 4,
 "nbformat_minor": 5
}
