{
 "cells": [
  {
   "cell_type": "code",
   "execution_count": 23,
   "id": "8985d9d5-3042-4fd8-9f8e-82ee2e73ecc1",
   "metadata": {},
   "outputs": [
    {
     "name": "stdout",
     "output_type": "stream",
     "text": [
      "The autoreload extension is already loaded. To reload it, use:\n",
      "  %reload_ext autoreload\n"
     ]
    }
   ],
   "source": [
    "%load_ext autoreload\n",
    "%autoreload 2"
   ]
  },
  {
   "cell_type": "code",
   "execution_count": 24,
   "id": "fb3031c1-647b-46d5-bcc1-b5a4a3137b4c",
   "metadata": {},
   "outputs": [],
   "source": [
    "import esm4ppe"
   ]
  },
  {
   "cell_type": "code",
   "execution_count": 25,
   "id": "4ca5173f-d62d-4c16-b5fa-17b2e81e2870",
   "metadata": {},
   "outputs": [
    {
     "name": "stdout",
     "output_type": "stream",
     "text": [
      "Opening static... static opened.\n",
      "Ensemble present in zarr store... opening... ensemble opened.\n",
      "\n",
      "Control present in zarr store... opening... control opened.\n"
     ]
    }
   ],
   "source": [
    "es = esm4ppe.esm4ppeObj('dep_dry_fed','monthly')\n",
    "es = es.add_ensemble().add_control()"
   ]
  },
  {
   "cell_type": "code",
   "execution_count": 26,
   "id": "3e636c65-f730-41f7-93f6-72c74245a39a",
   "metadata": {},
   "outputs": [
    {
     "name": "stderr",
     "output_type": "stream",
     "text": [
      "/nbhome/gam/miniconda3/envs/climpred_clean/lib/python3.10/site-packages/xarray/core/indexing.py:1372: PerformanceWarning: Slicing with an out-of-order index is generating 10 times more chunks\n",
      "  return self.array[key]\n"
     ]
    },
    {
     "name": "stdout",
     "output_type": "stream",
     "text": [
      "[####                                    ] | 11% Completed | 11.83 ss"
     ]
    },
    {
     "name": "stderr",
     "output_type": "stream",
     "text": [
      "/nbhome/gam/miniconda3/envs/climpred_clean/lib/python3.10/site-packages/dask/array/numpy_compat.py:42: RuntimeWarning: invalid value encountered in divide\n",
      "  x = np.divide(x1, x2, out)\n"
     ]
    },
    {
     "name": "stdout",
     "output_type": "stream",
     "text": [
      "[########################################] | 100% Completed | 188.31 s\n",
      "...skill metric saved\n"
     ]
    },
    {
     "data": {
      "text/plain": [
       "<esm4ppe.classes.esm4ppeObj at 0x2b3e422507c0>"
      ]
     },
     "execution_count": 26,
     "metadata": {},
     "output_type": "execute_result"
    }
   ],
   "source": [
    "es.verify('ppp',saveskill=True,groupby='month')"
   ]
  }
 ],
 "metadata": {
  "kernelspec": {
   "display_name": "Python [conda env:climpred_clean]",
   "language": "python",
   "name": "conda-env-climpred_clean-py"
  },
  "language_info": {
   "codemirror_mode": {
    "name": "ipython",
    "version": 3
   },
   "file_extension": ".py",
   "mimetype": "text/x-python",
   "name": "python",
   "nbconvert_exporter": "python",
   "pygments_lexer": "ipython3",
   "version": "3.10.9"
  }
 },
 "nbformat": 4,
 "nbformat_minor": 5
}
