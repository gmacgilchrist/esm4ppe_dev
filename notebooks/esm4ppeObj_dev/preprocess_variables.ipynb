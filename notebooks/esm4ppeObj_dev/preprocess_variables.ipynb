{
 "cells": [
  {
   "cell_type": "code",
   "execution_count": 10,
   "id": "d93d9df7-04da-4824-afb3-f8d1e3fa3714",
   "metadata": {},
   "outputs": [
    {
     "name": "stdout",
     "output_type": "stream",
     "text": [
      "The autoreload extension is already loaded. To reload it, use:\n",
      "  %reload_ext autoreload\n"
     ]
    }
   ],
   "source": [
    "%load_ext autoreload\n",
    "%autoreload 2"
   ]
  },
  {
   "cell_type": "code",
   "execution_count": 11,
   "id": "7b3744a1-dfb0-4cb6-ad9e-44b439fd0759",
   "metadata": {},
   "outputs": [],
   "source": [
    "import esm4ppe\n",
    "import gfdl_utils as gu"
   ]
  },
  {
   "cell_type": "code",
   "execution_count": 12,
   "id": "5e7a3ff1-8ae6-4569-b9e7-0f040b9e41cc",
   "metadata": {},
   "outputs": [
    {
     "data": {
      "text/plain": [
       "['Heat_PmE',\n",
       " 'LwLatSens',\n",
       " 'MLD_003',\n",
       " 'T_adx_2d',\n",
       " 'T_ady_2d',\n",
       " 'evs',\n",
       " 'ficeberg',\n",
       " 'friver',\n",
       " 'heat_content_cond',\n",
       " 'heat_content_fprec',\n",
       " 'heat_content_massin',\n",
       " 'heat_content_massout',\n",
       " 'heat_content_surfwater',\n",
       " 'heat_content_vprec',\n",
       " 'mlotst',\n",
       " 'mlotstmax',\n",
       " 'mlotstmin',\n",
       " 'mlotstsq',\n",
       " 'net_heat_coupler',\n",
       " 'net_massin',\n",
       " 'net_massout',\n",
       " 'nonpenSW',\n",
       " 'pbo',\n",
       " 'prlq',\n",
       " 'prsn',\n",
       " 'pso',\n",
       " 'rlntds',\n",
       " 'rsntds',\n",
       " 'salt_layer_ave',\n",
       " 'sfdsi',\n",
       " 'sob',\n",
       " 'sos',\n",
       " 'sossq',\n",
       " 'tauuo',\n",
       " 'tauvo',\n",
       " 'temp_layer_ave',\n",
       " 'tob',\n",
       " 'tos',\n",
       " 'tossq',\n",
       " 'umo_2d',\n",
       " 'ustar',\n",
       " 'vmo_2d',\n",
       " 'wfo',\n",
       " 'zos',\n",
       " 'zossq']"
      ]
     },
     "execution_count": 12,
     "metadata": {},
     "output_type": "execute_result"
    }
   ],
   "source": [
    "gu.core.get_allvars(esm4ppe.get_pp())['ocean_month']"
   ]
  },
  {
   "cell_type": "code",
   "execution_count": 13,
   "id": "78285f14-55b8-4e3c-8ac2-7fc837d6bffb",
   "metadata": {},
   "outputs": [],
   "source": [
    "variables = ['MLD_003']\n",
    "frequency = 'monthly'"
   ]
  },
  {
   "cell_type": "code",
   "execution_count": 14,
   "id": "997db18a-6645-42ba-9dd9-788b78ac9137",
   "metadata": {},
   "outputs": [
    {
     "name": "stdout",
     "output_type": "stream",
     "text": [
      "MLD_003\n",
      "Opening static... static opened.\n",
      "Issuing dmget for both ensemble and control\n",
      "Issuing dmget.\n",
      "Issuing dmget.\n"
     ]
    }
   ],
   "source": [
    "for variable in variables:\n",
    "    print(variable)\n",
    "    es = esm4ppe.esm4ppeObj(variable,frequency)\n",
    "    es.issue_dmget(wait=False)\n",
    "    # open the ensemble and the control, save to zarr\n",
    "    # es = es.add_ensemble(triggeropen=True).add_control(triggeropen=False)"
   ]
  },
  {
   "cell_type": "code",
   "execution_count": null,
   "id": "70d1ab42-b6f0-4eb0-95f1-0ebb9b5ac464",
   "metadata": {},
   "outputs": [],
   "source": []
  }
 ],
 "metadata": {
  "kernelspec": {
   "display_name": "Python [conda env:climpred_clean]",
   "language": "python",
   "name": "conda-env-climpred_clean-py"
  },
  "language_info": {
   "codemirror_mode": {
    "name": "ipython",
    "version": 3
   },
   "file_extension": ".py",
   "mimetype": "text/x-python",
   "name": "python",
   "nbconvert_exporter": "python",
   "pygments_lexer": "ipython3",
   "version": "3.10.9"
  }
 },
 "nbformat": 4,
 "nbformat_minor": 5
}
